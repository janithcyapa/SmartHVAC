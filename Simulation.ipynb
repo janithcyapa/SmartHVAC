{
  "nbformat": 4,
  "nbformat_minor": 0,
  "metadata": {
    "colab": {
      "provenance": [],
      "authorship_tag": "ABX9TyNPm6AIEyb/C/dvH1yO7mDO",
      "include_colab_link": true
    },
    "kernelspec": {
      "name": "python3",
      "display_name": "Python 3"
    },
    "language_info": {
      "name": "python"
    }
  },
  "cells": [
    {
      "cell_type": "markdown",
      "metadata": {
        "id": "view-in-github",
        "colab_type": "text"
      },
      "source": [
        "<a href=\"https://colab.research.google.com/github/janithcyapa/SmartHVAC/blob/main/Simulation.ipynb\" target=\"_parent\"><img src=\"https://colab.research.google.com/assets/colab-badge.svg\" alt=\"Open In Colab\"/></a>"
      ]
    },
    {
      "cell_type": "code",
      "source": [
        "!pip install psychrolib"
      ],
      "metadata": {
        "id": "U4bVw2VP0kYx",
        "outputId": "6eb7ce9f-c543-4766-da9a-1b1b6e17a70e",
        "colab": {
          "base_uri": "https://localhost:8080/"
        }
      },
      "execution_count": 1,
      "outputs": [
        {
          "output_type": "stream",
          "name": "stdout",
          "text": [
            "Collecting psychrolib\n",
            "  Downloading PsychroLib-2.5.0.zip (9.5 kB)\n",
            "  Preparing metadata (setup.py) ... \u001b[?25l\u001b[?25hdone\n",
            "Building wheels for collected packages: psychrolib\n",
            "  Building wheel for psychrolib (setup.py) ... \u001b[?25l\u001b[?25hdone\n",
            "  Created wheel for psychrolib: filename=PsychroLib-2.5.0-py3-none-any.whl size=9766 sha256=cef3e582859db76ab9fcb6f282aacbbdb354d8957d9a5eec1c0f984d594624d5\n",
            "  Stored in directory: /root/.cache/pip/wheels/db/56/d2/160fe5cd010497f465b750b273cc5596f7dbbd139622428d11\n",
            "Successfully built psychrolib\n",
            "Installing collected packages: psychrolib\n",
            "Successfully installed psychrolib-2.5.0\n"
          ]
        }
      ]
    },
    {
      "cell_type": "code",
      "source": [
        "import psychrolib as psy\n",
        "import numpy as np"
      ],
      "metadata": {
        "id": "M9tmeI6_0nFk"
      },
      "execution_count": 3,
      "outputs": []
    },
    {
      "cell_type": "code",
      "source": [
        "# Use SI units to standard\n",
        "psy.SetUnitSystem(psy.SI)"
      ],
      "metadata": {
        "id": "PXRkqNzS06YC"
      },
      "execution_count": 6,
      "outputs": []
    },
    {
      "cell_type": "code",
      "execution_count": 9,
      "metadata": {
        "id": "14OVdvczsXVk"
      },
      "outputs": [],
      "source": [
        "N_Occ = 3 # Number of Occupants in the room\n",
        "Q_Equ = 1000 # W - Sensible Heat from Equipment/Lights\n",
        "T_room = 23.9 # °C - Initial dry bulb temperature\n",
        "RH_room = 0.5 # 0 ~ 1 - Initial reletive humidity\n",
        "P_room = 101325        # Pa -  Atmospheric pressure (sea level)\n",
        "T_out = 35 # °C - Outside temperature\n",
        "RH_out = 0.6 # 0 ~ 1 - Outside reletive humidity\n",
        "L_room = 8 # m\n",
        "A_wall =\n",
        "A_window =\n",
        "\n",
        "# Standard Definitions\n",
        "# 1.0 Btu/h = 0.293 W\n",
        "# Sensible Heat from Occupants\n",
        "Q_S_Per_Occ = 200 * 0.293 # (W) - Typically 200 Btu/h per person for light activity\n",
        "#Latent Heat from Occupants\n",
        "Q_L_Per_Occ = 180 * 0.293 # (W) - Typically 180 Btu/h per person for light activity\n",
        "U_wall =\n",
        "U_window =\n",
        "\n",
        "# Room Conditions\n",
        "# Humidity ratio\n",
        "W_room = psy.GetHumRatioFromRelHum(T_room, RH_room, P_room) # kg water/kg dry air\n",
        "# Enthalpy\n",
        "h_room_guess = psy.GetMoistAirEnthalpy(T_room, W_room ) # J/kg\n",
        "\n",
        "# Calculate Total Room Sensible and Latent Heat Loads\n",
        "Q_S_envelope = U_wall * A_wall  * (T_out - T_room) + U_window * A_window  * (T_out - T_room) # (W)\n",
        "Q_S_total = Q_S_Per_Occ + Q_Equ + Q_S_envelope # (W) - add Q_solar_sensible if applicable\n"
      ]
    },
    {
      "cell_type": "code",
      "source": [],
      "metadata": {
        "id": "2qbp0Uxb3JTU"
      },
      "execution_count": null,
      "outputs": []
    }
  ]
}