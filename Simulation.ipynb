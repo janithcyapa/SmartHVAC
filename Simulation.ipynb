{
  "nbformat": 4,
  "nbformat_minor": 0,
  "metadata": {
    "colab": {
      "provenance": [],
      "authorship_tag": "ABX9TyOObA81PdPiKqZJWgwGJ0b6",
      "include_colab_link": true
    },
    "kernelspec": {
      "name": "python3",
      "display_name": "Python 3"
    },
    "language_info": {
      "name": "python"
    }
  },
  "cells": [
    {
      "cell_type": "markdown",
      "metadata": {
        "id": "view-in-github",
        "colab_type": "text"
      },
      "source": [
        "<a href=\"https://colab.research.google.com/github/janithcyapa/SmartHVAC/blob/main/Simulation.ipynb\" target=\"_parent\"><img src=\"https://colab.research.google.com/assets/colab-badge.svg\" alt=\"Open In Colab\"/></a>"
      ]
    },
    {
      "cell_type": "code",
      "source": [
        "!pip install psychrolib"
      ],
      "metadata": {
        "id": "U4bVw2VP0kYx",
        "outputId": "9947980c-59d8-4d86-c4c2-41ebbb4f1d51",
        "colab": {
          "base_uri": "https://localhost:8080/"
        }
      },
      "execution_count": 59,
      "outputs": [
        {
          "output_type": "stream",
          "name": "stdout",
          "text": [
            "Requirement already satisfied: psychrolib in /usr/local/lib/python3.11/dist-packages (2.5.0)\n"
          ]
        }
      ]
    },
    {
      "cell_type": "code",
      "source": [
        "import psychrolib as psy\n",
        "import numpy as np"
      ],
      "metadata": {
        "id": "M9tmeI6_0nFk"
      },
      "execution_count": null,
      "outputs": []
    },
    {
      "cell_type": "code",
      "source": [
        "# Use SI units to standard\n",
        "psy.SetUnitSystem(psy.SI)"
      ],
      "metadata": {
        "id": "PXRkqNzS06YC"
      },
      "execution_count": null,
      "outputs": []
    },
    {
      "cell_type": "code",
      "source": [
        "# Room COnfig\n",
        "N_Occ = 3 # Number of Occupants in the room\n",
        "Q_Equ = 1000 # W - Sensible Heat from Equipment/Lights\n",
        "T_room = 25 # °C - Initial dry bulb temperature\n",
        "RH_room = 0.5 # 0 ~ 1 - Initial reletive humidity\n",
        "P_air = 101325        # Pa -  Atmospheric pressure (sea level)\n",
        "L_room = 5 # m - Length of the room\n",
        "W_room = 4 # m - Width of the room\n",
        "H_room = 2.5 # m - Height of the room\n",
        "A_window = 4 # m^2 - Area of the window\n",
        "A_wall = (L_room + W_room) * H_room - A_window # m^2 - Area of the wall\n",
        "\n",
        "# Room Conditions\n",
        "# Humidity ratio\n",
        "W_room = psy.GetHumRatioFromRelHum(T_room, RH_room, P_air) # kg water/kg dry air\n",
        "# Enthalpy\n",
        "h_room = psy.GetMoistAirEnthalpy(T_room, W_room ) # J/kg\n",
        "h_fg_room = 2441000 # J/kg\n",
        "# Air dencity\n",
        "p_air = psy.GetMoistAirDensity(T_room, W_room, P_air)\n",
        "# Specific heat of moist air\n",
        "Cp_Air = 1005 # J/kg-K\n",
        "\n",
        "# Weather Data\n",
        "T_out = 35 # °C - Outside temperature\n",
        "RH_out = 0.6 # 0 ~ 1 - Outside reletive humidity\n",
        "W_out = psy.GetHumRatioFromRelHum(T_out, RH_out, P_air) # kg water/kg dry air\n",
        "\n",
        "# AHU Config\n",
        "Max_Air_FR = 0.1 # m^3/s Maximum airflow rate at maximum setting\n",
        "P_fan = 5.0  # W Fan power\n",
        "Max_Vent_FR = 0.1 # m^3/s Maximum ventilation airflow rate at maximum setting\n",
        "Max_Cooling_PW = 1500 # W Maximum Cooling load of cooling pump\n",
        "Max_Heating_PW = 1000 # W Maximum heating load of cooling pump\n",
        "\n",
        "# Control Signal\n",
        "Control_Air_AF = 0.5 # 0 ~ 1\n",
        "Control_Vent_AF = 0.1 # 0 ~ 1\n",
        "Control_Cooling_PW = 1 # 0 ~ 1\n",
        "Control_Heeting_PW = 0.5 # 0 ~ 1\n",
        "\n",
        "# Calculated Parameters\n",
        "Air_AF = Max_Air_FR * Control_Air_AF # m^3/s\n",
        "Vent_AF = Max_Air_FR * Control_Vent_AF # m^3/s\n",
        "Cooling_PW = Max_Cooling_PW * Control_Cooling_PW # W\n",
        "Heating_PW = Max_Heating_PW * Control_Heeting_PW # W\n",
        "\n",
        "# Standard Definitions\n",
        "# 1.0 Btu/h = 0.293 W\n",
        "# Sensible Heat from Occupants\n",
        "Q_S_Per_Occ = 200 * 0.293 # (W) - Typically 200 Btu/h per person for light activity\n",
        "#Latent Heat from Occupants\n",
        "Q_L_Per_Occ = 180 * 0.293 # (W) - Typically 180 Btu/h per person for light activity\n",
        "# Other latent heat sources\n",
        "Q_L_Other = 0 # (W) - Assume no latent heat for now\n",
        "\n",
        "\n",
        "U_wall = 0.284 # W/m^2.K\n",
        "U_window = 1.987 # W/m^2.K\n",
        "\n",
        "print(\"Parameters\")\n",
        "print(f\"Q_S_Per_Occ: {Q_S_Per_Occ} W\")\n",
        "print(f\"Q_L_Per_Occ: {Q_L_Per_Occ} W\")\n",
        "print(f\"W_room: {W_room} kg water/kg dry air\")\n",
        "print(f\"h_room: {h_room} J/kg\")\n",
        "print(f\"h_fg_room: {h_fg_room} J/kg\")\n",
        "print(f\"p_air: {p_air} kg/m^3\")\n",
        "print(f\"Cp_Air: {Cp_Air} kJ/kg-K\")\n",
        "print(\"\")\n",
        "\n",
        "# Total Room Sensible and Latent Heat Loads\n",
        "Q_S_envelope = U_wall * A_wall  * (T_out - T_room) + U_window * A_window  * (T_out - T_room) # (W)\n",
        "Q_S_total = Q_S_Per_Occ * N_Occ + Q_Equ + Q_S_envelope # (W) - add Q_solar_sensible if applicable\n",
        "Q_L_total = Q_L_Per_Occ * N_Occ + Q_L_Other # (W)\n",
        "print(\"Total Room Sensible and Latent Heat Loads\")\n",
        "print(f\"Q_S_envelope: {Q_S_envelope} W\")\n",
        "print(f\"Q_S_total: {Q_S_total} W\")\n",
        "print(f\"Q_L_total: {Q_L_total} W\")\n",
        "print(\"\")\n",
        "\n",
        "print(\"Room air\")\n",
        "print(f\"T_room: {T_room} °C\")\n",
        "print(f\"W_room: {W_room} kg water/kg dry air\")\n",
        "print(f\"RH_room: {RH_room}\")\n",
        "print(f\"hg_room: {h_room} J/kg\")\n",
        "\n",
        "print(\"\")\n",
        "\n",
        "# Determine the Required Supply Air Conditions\n",
        "# T_SA_required = T_room - (Q_S_total / (p_air * Cp_Air * Air_AF))\n",
        "# W_SA_required = W_room - (Q_L_total / (p_air * h_fg_room* Air_AF))\n",
        "# RH_SA_required = psy.GetRelHumFromHumRatio(T_SA_required, max(W_SA_required, 0), P_air)\n",
        "# hg_SA_required = psy.GetMoistAirEnthalpy(T_SA_required, max(W_SA_required, 0) ) # J/kg\n",
        "# print(\"Determine the Required Supply Air Conditions\")\n",
        "# print(f\"T_SA_required: {T_SA_required} °C\")\n",
        "# print(f\"W_SA_required: {W_SA_required} kg water/kg dry air\")\n",
        "# print(f\"RH_SA_required: {RH_SA_required}\")\n",
        "# print(f\"hg_SA_required: {hg_SA_required}\")\n",
        "# print(\"\")\n",
        "\n",
        "# Mixed Air Dry-bulb Temperature (T_MA)\n",
        "T_MA = (Vent_AF * T_out + (Air_AF - Vent_AF) * T_room) / Air_AF\n",
        "W_MA = (Vent_AF * W_out + (Air_AF - Vent_AF) * W_room) / Air_AF\n",
        "RH_MA = psy.GetRelHumFromHumRatio(T_MA, max(W_MA, 0), P_air)\n",
        "h_MA = psy.GetMoistAirEnthalpy(T_MA, max(W_MA, 0) ) # J/kg\n",
        "print(\"Mixed Air Dry-bulb Temperature (T_MA)\")\n",
        "print(f\"T_MA: {T_MA} °C\")\n",
        "print(f\"W_MA: {W_MA} kg water/kg dry air\")\n",
        "print(f\"RH_MA: {RH_MA}\")\n",
        "print(f\"h_MA: {h_MA} J/kg\")\n",
        "print(\"\")\n",
        "\n",
        "# Simulate Cooling Coil Process and Determine Air Condition After Cooling Coil\n",
        "h_Coil = h_MA - (Cooling_PW / (p_air * Air_AF))\n",
        "# Assume Near-Saturation or Saturation\n",
        "RH_Coil = 0.9\n",
        "\n",
        "# Iterate over a range of temperatures to find T where h matches h_coil at RH = 0.9\n",
        "T_min, T_max = 5.0, 20.0  # Reasonable range for coil leaving temperature (°C)\n",
        "T_step = 0.01  # Small step for precision\n",
        "tolerance = 100  # Enthalpy tolerance in J/kg\n",
        "\n",
        "T_Coil = None\n",
        "W_Coil = None\n",
        "h_Calc = None\n",
        "\n",
        "for T in np.arange(T_min, T_max, T_step):\n",
        "    W = psy.GetHumRatioFromRelHum(T, RH_Coil, P_air)\n",
        "    h = psy.GetMoistAirEnthalpy(T, W)\n",
        "    if abs(h - h_Coil) < tolerance:\n",
        "        T_Coil = T\n",
        "        W_Coil = W\n",
        "        h_calc = h\n",
        "        break\n",
        "RH_Coil = psy.GetRelHumFromHumRatio(T_Coil, W_Coil, P_air)\n",
        "T_dew = psy.GetTDewPointFromRelHum(T_Coil, RH_Coil)\n",
        "\n",
        "print(\"Air Condition After Cooling Coil\")\n",
        "print(f\"T_Coil: {T_Coil} °C\")\n",
        "print(f\"W_Coil: {W_Coil} kg water/kg dry air\")\n",
        "print(f\"RH_Coil: {RH_Coil}\")\n",
        "print(f\"h_Coil: {h_Coil} J/kg\")\n",
        "print(f\"T_dew: {T_dew} °C\")\n",
        "print(\"\")\n",
        "\n",
        "# Fan Heat Addition (for Draw-Through AHU)\n",
        "ΔT_fan = (P_fan) / (p_air * Cp_Air * Air_AF)\n",
        "T_fan  = T_Coil + ΔT_fan\n",
        "W_fan = W_Coil\n",
        "RH_fan = psy.GetRelHumFromHumRatio(T_fan, W_fan, P_air)\n",
        "h_fan = psy.GetMoistAirEnthalpy(T_fan, W_fan)\n",
        "print(\"Fan Heat Addition (for Draw-Through AHU)\")\n",
        "print(f\"ΔT_fan: {ΔT_fan} °C\")\n",
        "print(\"\")\n",
        "print(f\"T_fan: {T_fan} °C\")\n",
        "print(f\"W_fan: {W_fan} kg water/kg dry air\")\n",
        "print(f\"RH_fan: {RH_fan}\")\n",
        "print(f\"h_fan: {h_fan} J/kg\")\n",
        "print(\"\")\n",
        "\n",
        "\n",
        "#  Simulate Heating Coil Process and Determine Final Supply Air Conditions\n"
      ],
      "metadata": {
        "id": "13NcJ3jWLb2W",
        "outputId": "3f1413e5-866f-4833-a8d1-c59847163eef",
        "colab": {
          "base_uri": "https://localhost:8080/"
        }
      },
      "execution_count": 73,
      "outputs": [
        {
          "output_type": "stream",
          "name": "stdout",
          "text": [
            "Parameters\n",
            "Q_S_Per_Occ: 58.599999999999994 W\n",
            "Q_L_Per_Occ: 52.739999999999995 W\n",
            "W_room: 0.009881043690749623 kg water/kg dry air\n",
            "h_room: 50321.958802184665 J/kg\n",
            "h_fg_room: 2441000 J/kg\n",
            "p_air: 1.17695818641638 kg/m^3\n",
            "Cp_Air: 1005 kJ/kg-K\n",
            "\n",
            "Total Room Sensible and Latent Heat Loads\n",
            "Q_S_envelope: 132.01999999999998 W\n",
            "Q_S_total: 1307.82 W\n",
            "Q_L_total: 158.21999999999997 W\n",
            "\n",
            "Room air\n",
            "T_room: 25 °C\n",
            "W_room: 0.009881043690749623 kg water/kg dry air\n",
            "RH_room: 0.5\n",
            "hg_room: 50321.958802184665 J/kg\n",
            "\n",
            "Mixed Air Dry-bulb Temperature (T_MA)\n",
            "T_MA: 27.0 °C\n",
            "W_MA: 0.012193048879249702 kg water/kg dry air\n",
            "RH_MA: 0.546140066685321\n",
            "h_MA: 58269.15016171942 J/kg\n",
            "\n",
            "Air Condition After Cooling Coil\n",
            "T_Coil: 12.349999999999843 °C\n",
            "W_Coil: 0.008031395081087089 kg water/kg dry air\n",
            "RH_Coil: 0.9000000000000001\n",
            "h_Coil: 32779.714473825996 J/kg\n",
            "T_dew: 10.757906386996174 °C\n",
            "\n",
            "Fan Heat Addition (for Draw-Through AHU)\n",
            "ΔT_fan: 0.0845420752500611 °C\n",
            "\n",
            "T_fan: 12.434542075249905 °C\n",
            "W_fan: 0.008031395081087089 kg water/kg dry air\n",
            "RH_fan: 0.8950119358725975\n",
            "h_fan: 32781.42052480946 J/kg\n",
            "\n"
          ]
        }
      ]
    },
    {
      "cell_type": "code",
      "source": [],
      "metadata": {
        "id": "GFEMit3yOdzT"
      },
      "execution_count": null,
      "outputs": []
    }
  ]
}