{
  "nbformat": 4,
  "nbformat_minor": 0,
  "metadata": {
    "colab": {
      "provenance": [],
      "authorship_tag": "ABX9TyO2NwTaTKUg2lcvIkev1hSU",
      "include_colab_link": true
    },
    "kernelspec": {
      "name": "python3",
      "display_name": "Python 3"
    },
    "language_info": {
      "name": "python"
    }
  },
  "cells": [
    {
      "cell_type": "markdown",
      "metadata": {
        "id": "view-in-github",
        "colab_type": "text"
      },
      "source": [
        "<a href=\"https://colab.research.google.com/github/janithcyapa/SmartHVAC/blob/main/SmartHVAC.ipynb\" target=\"_parent\"><img src=\"https://colab.research.google.com/assets/colab-badge.svg\" alt=\"Open In Colab\"/></a>"
      ]
    },
    {
      "cell_type": "code",
      "execution_count": null,
      "metadata": {
        "id": "coB3gjocOzeQ"
      },
      "outputs": [],
      "source": [
        "!pip install psychrolib"
      ]
    },
    {
      "cell_type": "code",
      "source": [
        "from psychrolib import *\n",
        "import numpy as np\n",
        "\n",
        "# Use SI units (you can switch to IP using IP instead of SI)\n",
        "SetUnitSystem(SI)\n",
        "\n",
        "# Example conditions\n",
        "T_db = 25.0       # Dry-bulb temperature in °C\n",
        "RH = 0.6          # Relative humidity (60%)\n",
        "P = 101325        # Atmospheric pressure in Pa (sea level)\n",
        "\n",
        "# Psychrometric properties\n",
        "W = GetHumRatioFromRelHum(T_db, RH, P)                         # Humidity ratio (kg water/kg dry air)\n",
        "T_wb = GetTWetBulbFromHumRatio(T_db, W, P)                     # Wet-bulb temperature\n",
        "T_dp = GetTDewPointFromHumRatio(T_db, W, P)                    # Dew point temperature\n",
        "h = GetMoistAirEnthalpy(T_db, W)                               # Enthalpy (J/kg)\n",
        "\n",
        "print(f\"Humidity Ratio: {W:.5f} kg/kg\")\n",
        "print(f\"Wet Bulb Temperature: {T_wb:.2f} °C\")\n",
        "print(f\"Dew Point: {T_dp:.2f} °C\")\n",
        "print(f\"Enthalpy: {h/1000:.2f} kJ/kg\")"
      ],
      "metadata": {
        "id": "P8Le1uPuO_k8"
      },
      "execution_count": null,
      "outputs": []
    }
  ]
}