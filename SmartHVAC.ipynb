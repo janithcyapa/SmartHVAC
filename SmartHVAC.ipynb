{
 "cells": [
  {
   "cell_type": "markdown",
   "id": "c5b3f595",
   "metadata": {},
   "source": [
    "# SmartHVAC"
   ]
  },
  {
   "cell_type": "code",
   "execution_count": 1,
   "id": "e215710b",
   "metadata": {},
   "outputs": [
    {
     "ename": "ModuleNotFoundError",
     "evalue": "No module named 'numpy'",
     "output_type": "error",
     "traceback": [
      "\u001b[31m---------------------------------------------------------------------------\u001b[39m",
      "\u001b[31mModuleNotFoundError\u001b[39m                       Traceback (most recent call last)",
      "\u001b[36mCell\u001b[39m\u001b[36m \u001b[39m\u001b[32mIn[1]\u001b[39m\u001b[32m, line 1\u001b[39m\n\u001b[32m----> \u001b[39m\u001b[32m1\u001b[39m \u001b[38;5;28;01mimport\u001b[39;00m\u001b[38;5;250m \u001b[39m\u001b[34;01mnumpy\u001b[39;00m\u001b[38;5;250m \u001b[39m\u001b[38;5;28;01mas\u001b[39;00m\u001b[38;5;250m \u001b[39m\u001b[34;01mnp\u001b[39;00m\n",
      "\u001b[31mModuleNotFoundError\u001b[39m: No module named 'numpy'"
     ]
    }
   ],
   "source": [
    "import numpy as np"
   ]
  },
  {
   "cell_type": "code",
   "execution_count": null,
   "id": "d07435d5",
   "metadata": {},
   "outputs": [],
   "source": [
    "\n",
    "\n",
    "class RealisticHVACSimulator:\n",
    "    def __init__(\n",
    "        self,\n",
    "        room_length=5.0,  # meters\n",
    "        room_width=4.0,   # meters\n",
    "        room_height=2.5,  # meters\n",
    "        initial_temp=22.0,\n",
    "        initial_humidity=50.0,\n",
    "        outdoor_temp=30.0,\n",
    "        outdoor_humidity=60.0,\n",
    "        thermal_load_profile=None\n",
    "    ):\n",
    "        self.room_length = room_length\n",
    "        self.room_width = room_width\n",
    "        self.room_height = room_height\n",
    "        self.volume = room_length * room_width * room_height  # m^3\n",
    "\n",
    "        self.temperature = initial_temp\n",
    "        self.humidity = initial_humidity\n",
    "\n",
    "        self.outdoor_temp = outdoor_temp\n",
    "        self.outdoor_humidity = outdoor_humidity\n",
    "\n",
    "        # Actuators\n",
    "        self.blower_speed = 0.0      # 0 (off) to 1 (max)\n",
    "        self.heating_coil = 0.0      # 0 (off) to 1 (max)\n",
    "        self.chiller = 0.0           # 0 (off) to 1 (max)\n",
    "        self.humidifier = 0.0        # 0 (off) to 1 (max)\n",
    "        self.dehumidifier = 0.0      # 0 (off) to 1 (max)\n",
    "\n",
    "        # Thermal load profile: function of time, returns load in kW\n",
    "        self.thermal_load_profile = thermal_load_profile if thermal_load_profile else (lambda t: 0.0)\n",
    "        self.time = 0.0\n",
    "\n",
    "    def step(self, blower_speed, heating_coil, chiller, humidifier, dehumidifier, dt=1.0):\n",
    "        # Clamp actuator values\n",
    "        self.blower_speed = np.clip(blower_speed, 0, 1)\n",
    "        self.heating_coil = np.clip(heating_coil, 0, 1)\n",
    "        self.chiller = np.clip(chiller, 0, 1)\n",
    "        self.humidifier = np.clip(humidifier, 0, 1)\n",
    "        self.dehumidifier = np.clip(dehumidifier, 0, 1)\n",
    "\n",
    "        # Room air mass (approximate, dry air density ~1.2 kg/m^3)\n",
    "        air_mass = self.volume * 1.2  # kg\n",
    "\n",
    "        # Heating/cooling power (kW), simple linear scaling\n",
    "        heating_power = 5.0 * self.heating_coil  # max 5 kW\n",
    "        cooling_power = 5.0 * self.chiller      # max 5 kW\n",
    "\n",
    "        # Blower effect: increases air exchange with outside\n",
    "        air_exchange = 0.1 + 0.4 * self.blower_speed  # 0.1 to 0.5 air changes per hour\n",
    "        air_exchange_per_dt = air_exchange * dt / 3600.0  # fraction of air exchanged per dt (dt in seconds)\n",
    "\n",
    "        # Thermal load (kW)\n",
    "        thermal_load = self.thermal_load_profile(self.time)\n",
    "\n",
    "        # Temperature dynamics (Q = mcΔT, 1 kW = 860 kcal/h)\n",
    "        net_power = heating_power - cooling_power + thermal_load\n",
    "        delta_temp = (net_power * 3600 * dt) / (air_mass * 1005)  # 1005 J/kg.K specific heat of air\n",
    "\n",
    "        # Air exchange with outside\n",
    "        temp_leak = air_exchange_per_dt * (self.outdoor_temp - self.temperature)\n",
    "\n",
    "        self.temperature += delta_temp + temp_leak\n",
    "\n",
    "        # Humidity dynamics (very simplified)\n",
    "        humid_change = 2.0 * self.humidifier - 2.0 * self.dehumidifier  # % per hour at max\n",
    "        humid_leak = air_exchange_per_dt * (self.outdoor_humidity - self.humidity)\n",
    "        self.humidity += (humid_change * dt / 3600.0) + humid_leak\n",
    "\n",
    "        # Clamp values\n",
    "        self.temperature = np.clip(self.temperature, 10, 40)\n",
    "        self.humidity = np.clip(self.humidity, 10, 90)\n",
    "\n",
    "        self.time += dt\n",
    "\n",
    "        return self.temperature, self.humidity\n",
    "\n",
    "    def get_feedback(self):\n",
    "        return {\n",
    "            'temperature': self.temperature,\n",
    "            'humidity': self.humidity,\n",
    "            'blower_speed': self.blower_speed,\n",
    "            'heating_coil': self.heating_coil,\n",
    "            'chiller': self.chiller,\n",
    "            'humidifier': self.humidifier,\n",
    "            'dehumidifier': self.dehumidifier,\n",
    "            'time': self.time\n",
    "        }"
   ]
  }
 ],
 "metadata": {
  "kernelspec": {
   "display_name": "Python 3",
   "language": "python",
   "name": "python3"
  },
  "language_info": {
   "codemirror_mode": {
    "name": "ipython",
    "version": 3
   },
   "file_extension": ".py",
   "mimetype": "text/x-python",
   "name": "python",
   "nbconvert_exporter": "python",
   "pygments_lexer": "ipython3",
   "version": "undefined.undefined.undefined"
  }
 },
 "nbformat": 4,
 "nbformat_minor": 5
}
