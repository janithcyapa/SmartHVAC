{
  "nbformat": 4,
  "nbformat_minor": 0,
  "metadata": {
    "colab": {
      "provenance": [],
      "authorship_tag": "ABX9TyMUUIIbutlRWfm37l3xHvkL",
      "include_colab_link": true
    },
    "kernelspec": {
      "name": "python3",
      "display_name": "Python 3"
    },
    "language_info": {
      "name": "python"
    }
  },
  "cells": [
    {
      "cell_type": "markdown",
      "metadata": {
        "id": "view-in-github",
        "colab_type": "text"
      },
      "source": [
        "<a href=\"https://colab.research.google.com/github/janithcyapa/SmartHVAC/blob/main/SmartHVAC.ipynb\" target=\"_parent\"><img src=\"https://colab.research.google.com/assets/colab-badge.svg\" alt=\"Open In Colab\"/></a>"
      ]
    },
    {
      "cell_type": "code",
      "execution_count": null,
      "metadata": {
        "id": "coB3gjocOzeQ"
      },
      "outputs": [],
      "source": [
        "!pip install psychrolib"
      ]
    },
    {
      "cell_type": "code",
      "source": [
        "from psychrolib import *\n",
        "import numpy as np\n",
        "\n",
        "# Use SI units (you can switch to IP using IP instead of SI)\n",
        "SetUnitSystem(SI)\n",
        "\n",
        "# Example conditions\n",
        "T_db = 25.0       # Dry-bulb temperature in °C\n",
        "RH = 0.6          # Relative humidity (60%)\n",
        "P = 101325        # Atmospheric pressure in Pa (sea level)\n",
        "\n",
        "# Psychrometric properties\n",
        "W = GetHumRatioFromRelHum(T_db, RH, P)                         # Humidity ratio (kg water/kg dry air)\n",
        "T_wb = GetTWetBulbFromHumRatio(T_db, W, P)                     # Wet-bulb temperature\n",
        "T_dp = GetTDewPointFromHumRatio(T_db, W, P)                    # Dew point temperature\n",
        "h = GetMoistAirEnthalpy(T_db, W)                               # Enthalpy (J/kg)\n",
        "\n",
        "print(f\"Humidity Ratio: {W:.5f} kg/kg\")\n",
        "print(f\"Wet Bulb Temperature: {T_wb:.2f} °C\")\n",
        "print(f\"Dew Point: {T_dp:.2f} °C\")\n",
        "print(f\"Enthalpy: {h/1000:.2f} kJ/kg\")"
      ],
      "metadata": {
        "id": "P8Le1uPuO_k8"
      },
      "execution_count": null,
      "outputs": []
    },
    {
      "cell_type": "code",
      "source": [
        "from psychrolib import *\n",
        "SetUnitSystem(SI)\n",
        "\n",
        "# Inputs\n",
        "P = 101325  # Pressure (Pa)\n",
        "\n",
        "# Room condition 1\n",
        "T1 = 25.0       # Dry bulb temperature °C\n",
        "RH1 = 0.50      # Relative Humidity\n",
        "\n",
        "# Room condition 2\n",
        "T2 = 20.0       # Dry bulb temperature °C\n",
        "RH2 = 0.80      # Relative Humidity\n",
        "\n",
        "# Airflow rate (mass flow of dry air) — example value\n",
        "mass_flow_rate = 1.2  # kg/s\n",
        "\n",
        "# Psychrometric properties\n",
        "W1 = GetHumRatioFromRelHum(T1, RH1, P)\n",
        "W2 = GetHumRatioFromRelHum(T2, RH2, P)\n",
        "\n",
        "# Constants\n",
        "cp_air = 1.006  # kJ/kg·K\n",
        "h_fg = 2501     # kJ/kg\n",
        "\n",
        "# Heat loads\n",
        "Q_sensible = mass_flow_rate * cp_air * (T2 - T1)           # in kW\n",
        "Q_latent = mass_flow_rate * h_fg * (W2 - W1)               # in kW\n",
        "\n",
        "print(f\"Sensible Heat Load: {Q_sensible:.2f} kW\")\n",
        "print(f\"Latent Heat Load:   {Q_latent:.2f} kW\")"
      ],
      "metadata": {
        "id": "Ichw830zgijn"
      },
      "execution_count": null,
      "outputs": []
    }
  ]
}