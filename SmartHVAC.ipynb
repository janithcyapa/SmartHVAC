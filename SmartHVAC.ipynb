{
  "nbformat": 4,
  "nbformat_minor": 0,
  "metadata": {
    "colab": {
      "provenance": [],
      "include_colab_link": true
    },
    "kernelspec": {
      "name": "python3",
      "display_name": "Python 3"
    },
    "language_info": {
      "name": "python"
    }
  },
  "cells": [
    {
      "cell_type": "markdown",
      "metadata": {
        "id": "view-in-github",
        "colab_type": "text"
      },
      "source": [
        "<a href=\"https://colab.research.google.com/github/janithcyapa/SmartHVAC/blob/main/SmartHVAC.ipynb\" target=\"_parent\"><img src=\"https://colab.research.google.com/assets/colab-badge.svg\" alt=\"Open In Colab\"/></a>"
      ]
    },
    {
      "cell_type": "markdown",
      "source": [
        "# Library\n",
        "https://scikit-fuzzy.github.io/scikit-fuzzy/"
      ],
      "metadata": {
        "id": "h83C3BiGdKhh"
      }
    },
    {
      "cell_type": "code",
      "execution_count": 40,
      "metadata": {
        "id": "jOR_wYpXjbUB",
        "colab": {
          "base_uri": "https://localhost:8080/"
        },
        "outputId": "5d9e3c9f-e9ad-4e62-9312-0b53d88ac8c2"
      },
      "outputs": [
        {
          "output_type": "stream",
          "name": "stdout",
          "text": [
            "Collecting scikit-fuzzy\n",
            "  Downloading scikit_fuzzy-0.5.0-py2.py3-none-any.whl.metadata (2.6 kB)\n",
            "Downloading scikit_fuzzy-0.5.0-py2.py3-none-any.whl (920 kB)\n",
            "\u001b[?25l   \u001b[90m━━━━━━━━━━━━━━━━━━━━━━━━━━━━━━━━━━━━━━━━\u001b[0m \u001b[32m0.0/920.8 kB\u001b[0m \u001b[31m?\u001b[0m eta \u001b[36m-:--:--\u001b[0m\r\u001b[2K   \u001b[91m━━━━━━━━━━━━━━━━━\u001b[0m\u001b[90m╺\u001b[0m\u001b[90m━━━━━━━━━━━━━━━━━━━━━━\u001b[0m \u001b[32m399.4/920.8 kB\u001b[0m \u001b[31m11.7 MB/s\u001b[0m eta \u001b[36m0:00:01\u001b[0m\r\u001b[2K   \u001b[90m━━━━━━━━━━━━━━━━━━━━━━━━━━━━━━━━━━━━━━━━\u001b[0m \u001b[32m920.8/920.8 kB\u001b[0m \u001b[31m15.4 MB/s\u001b[0m eta \u001b[36m0:00:00\u001b[0m\n",
            "\u001b[?25hInstalling collected packages: scikit-fuzzy\n",
            "Successfully installed scikit-fuzzy-0.5.0\n"
          ]
        }
      ],
      "source": [
        "!pip install scikit-fuzzy"
      ]
    },
    {
      "cell_type": "code",
      "source": [
        "import numpy as np\n",
        "import matplotlib.pyplot as plt\n",
        "import skfuzzy as fuzz\n",
        "from skfuzzy import control as ctrl"
      ],
      "metadata": {
        "id": "T9e_GtkmeCUU"
      },
      "execution_count": 41,
      "outputs": []
    },
    {
      "cell_type": "markdown",
      "source": [
        "# - - - - I/O - - - -"
      ],
      "metadata": {
        "id": "4-TdabZcdVaG"
      }
    },
    {
      "cell_type": "markdown",
      "source": [
        "> Antecedents (inputs)\n",
        "- Temperature: very cool, cool, moderate, high, very high (16 - 30 C)\n",
        "- Humidity : Low, Medium, High (0 - 100)\n",
        "\n",
        "> Consequents (outputs)\n",
        "- Compressor fan speed : 0 - 100 rpm\n",
        "- Cooler voltage out : 0 - 5 V\n",
        "- Heater voltage : 0 - 5 V\n",
        "\n",
        "> Rules\n",
        "\n",
        "- IF Temp (High) AND RH (High) : THEN Compressor Fan Speed is Very High (e.g., ~90 rpm)\n",
        "\n",
        "- IF Temp (Medium) AND RH (Low) : THEN Compressor Fan Speed is Medium (e.g., ~50 rpm)\n",
        "\n",
        "- IF Temp (Low) AND RH (Medium) : THEN Compressor Fan Speed is Low (e.g., ~30 rpm)"
      ],
      "metadata": {
        "id": "vzzdgENtdYgV"
      }
    },
    {
      "cell_type": "markdown",
      "source": [
        "## Inputs & outputs & error"
      ],
      "metadata": {
        "id": "ulFnWnirlr5J"
      }
    },
    {
      "cell_type": "code",
      "source": [
        "#inputs fuzzy logic variables\n",
        "#convert np arrays to fuzzy variable using antecedent\n",
        "\n",
        "temp_np = np.arange(0,51,1)\n",
        "temp_sf = ctrl.Antecedent(temp_np,'temperature')\n",
        "\n",
        "humid_np = np.arange(0,101,1)\n",
        "humid_sf = ctrl.Antecedent(humid_np,'humidity')\n",
        "\n",
        "t_error_np = np.arange(-5,6,1) #set point - actual temp\n",
        "t_error_sf = ctrl.Antecedent(t_error_np, 'temp_error')\n",
        "\n",
        "h_error_np = np.arange(-5,6,1) #set point - actual humid\n",
        "h_error_sf = ctrl.Antecedent(h_error_np, 'humid_error')\n",
        "\n",
        "print(temp_sf)\n",
        "print(humid_sf)\n",
        "print(t_error_sf)\n",
        "print(h_error_sf)\n",
        "\n",
        "#universe of each variable\n",
        "\n",
        "print(temp_sf.universe)\n",
        "print(humid_sf.universe)\n",
        "print(t_error_sf.universe)\n",
        "print(h_error_sf.universe)\n"
      ],
      "metadata": {
        "id": "vMl1KRrHdy9n",
        "colab": {
          "base_uri": "https://localhost:8080/"
        },
        "outputId": "18b53333-8ab0-4b1e-e607-f72d7c4933d8"
      },
      "execution_count": 3,
      "outputs": [
        {
          "output_type": "stream",
          "name": "stdout",
          "text": [
            "Antecedent: temperature\n",
            "Antecedent: humidity\n",
            "Antecedent: temp_error\n",
            "Antecedent: humid_error\n",
            "[ 0  1  2  3  4  5  6  7  8  9 10 11 12 13 14 15 16 17 18 19 20 21 22 23\n",
            " 24 25 26 27 28 29 30 31 32 33 34 35 36 37 38 39 40 41 42 43 44 45 46 47\n",
            " 48 49 50]\n",
            "[  0   1   2   3   4   5   6   7   8   9  10  11  12  13  14  15  16  17\n",
            "  18  19  20  21  22  23  24  25  26  27  28  29  30  31  32  33  34  35\n",
            "  36  37  38  39  40  41  42  43  44  45  46  47  48  49  50  51  52  53\n",
            "  54  55  56  57  58  59  60  61  62  63  64  65  66  67  68  69  70  71\n",
            "  72  73  74  75  76  77  78  79  80  81  82  83  84  85  86  87  88  89\n",
            "  90  91  92  93  94  95  96  97  98  99 100]\n",
            "[-5 -4 -3 -2 -1  0  1  2  3  4  5]\n",
            "[-5 -4 -3 -2 -1  0  1  2  3  4  5]\n"
          ]
        }
      ]
    },
    {
      "cell_type": "code",
      "source": [
        "#output fuzzy logic variables need to control\n",
        "#convert np arrays to fuzzy variable uisng Consequent\n",
        "\n",
        "fspeed_np = np.arange(0, 1.01, 0.05)\n",
        "fspeed_sf = ctrl.Consequent(fspeed_np, 'fan_speed')\n",
        "\n",
        "cvolt_np = np.arange(0, 1.01, 0.05)\n",
        "cvolt_sf = ctrl.Consequent(cvolt_np, 'cooler_volt')\n",
        "\n",
        "hvolt_np = np.arange(0, 1.01, 0.05)\n",
        "hvolt_sf = ctrl.Consequent(hvolt_np, 'heater_volt')\n",
        "\n",
        "humidmoist_np = np.arange(0, 1.01, 0.05)\n",
        "humidmoist_sf = ctrl.Consequent(humidmoist_np, 'moisture')\n",
        "\n",
        "print(fspeed_sf)\n",
        "print(cvolt_sf)\n",
        "print(hvolt_sf)\n",
        "print(humidmoist_sf)\n",
        "\n",
        "print(fspeed_sf.universe)\n",
        "print(cvolt_sf.universe)\n",
        "print(hvolt_sf.universe)\n",
        "print(humidmoist_sf.universe)"
      ],
      "metadata": {
        "id": "74MtGjvfe8Vg",
        "colab": {
          "base_uri": "https://localhost:8080/"
        },
        "outputId": "8398ee05-167e-4788-a546-aad7bd2c6452"
      },
      "execution_count": 4,
      "outputs": [
        {
          "output_type": "stream",
          "name": "stdout",
          "text": [
            "Consequent: fan_speed\n",
            "Consequent: cooler_volt\n",
            "Consequent: heater_volt\n",
            "Consequent: moisture\n",
            "[0.   0.05 0.1  0.15 0.2  0.25 0.3  0.35 0.4  0.45 0.5  0.55 0.6  0.65\n",
            " 0.7  0.75 0.8  0.85 0.9  0.95 1.  ]\n",
            "[0.   0.05 0.1  0.15 0.2  0.25 0.3  0.35 0.4  0.45 0.5  0.55 0.6  0.65\n",
            " 0.7  0.75 0.8  0.85 0.9  0.95 1.  ]\n",
            "[0.   0.05 0.1  0.15 0.2  0.25 0.3  0.35 0.4  0.45 0.5  0.55 0.6  0.65\n",
            " 0.7  0.75 0.8  0.85 0.9  0.95 1.  ]\n",
            "[0.   0.05 0.1  0.15 0.2  0.25 0.3  0.35 0.4  0.45 0.5  0.55 0.6  0.65\n",
            " 0.7  0.75 0.8  0.85 0.9  0.95 1.  ]\n"
          ]
        }
      ]
    },
    {
      "cell_type": "markdown",
      "source": [
        "##I - Temperature - Membership functions"
      ],
      "metadata": {
        "id": "qi2Jt6zrntJE"
      }
    },
    {
      "cell_type": "code",
      "source": [
        "# Define membership functions for temperature\n",
        "#zmf - z shaped mf, steep drop\n",
        "\n",
        "#temp_universe = temp_sf.universe\n",
        "\n",
        "very_cool_mf = fuzz.zmf(temp_np, 8, 18)\n",
        "cool_mf = fuzz.trimf(temp_np, [15, 20, 26])\n",
        "moderate_mf = fuzz.trimf(temp_np, [24, 30, 32])\n",
        "hot_mf = fuzz.trimf(temp_np, [31, 38, 42])\n",
        "very_hot_mf = fuzz.smf(temp_np, 44, 50)\n",
        "\n",
        "# Assign temp mf to fuzzy input temperature variables\n",
        "# link fuzzy lable very cool to it's mf very_cool_mf\n",
        "\n",
        "temp_sf['very_cool'] = very_cool_mf\n",
        "temp_sf['cool'] = cool_mf\n",
        "temp_sf['moderate'] = moderate_mf\n",
        "temp_sf['hot'] = hot_mf\n",
        "temp_sf['very_hot'] = very_hot_mf\n",
        "\n",
        "temp_sf.view()"
      ],
      "metadata": {
        "id": "9szvIAezfCcG",
        "colab": {
          "base_uri": "https://localhost:8080/",
          "height": 451
        },
        "outputId": "40ca6c31-3ae9-4d6c-a65e-903ffe1bc20d"
      },
      "execution_count": 5,
      "outputs": [
        {
          "output_type": "display_data",
          "data": {
            "text/plain": [
              "<Figure size 640x480 with 1 Axes>"
            ],
            "image/png": "[encoded data removed]"
          },
          "metadata": {}
        }
      ]
    },
    {
      "cell_type": "code",
      "source": [
        "# Setpoint temperature\n",
        "temp_setp = 22\n",
        "\n",
        "# Interpolate and find how much 22C belong to each memership function (0-1)\n",
        "membership_values = {\n",
        "    'very_cool': np.interp(temp_setp, temp_sf.universe, very_cool_mf),\n",
        "    'cool': np.interp(temp_setp, temp_sf.universe, cool_mf),\n",
        "    'moderate': np.interp(temp_setp, temp_sf.universe, moderate_mf),\n",
        "    'hot': np.interp(temp_setp, temp_sf.universe, hot_mf),\n",
        "    'very_hot': np.interp(temp_setp, temp_sf.universe, very_hot_mf),\n",
        "}\n",
        "\n",
        "# Print results\n",
        "\n",
        "for label, value in membership_values.items():\n",
        "    print(f\"{label}: {value:.2f}\")\n"
      ],
      "metadata": {
        "id": "L-dGzlm-kCwz",
        "outputId": "b0116a3e-6b0e-479d-b239-52dd63fc3d3e",
        "colab": {
          "base_uri": "https://localhost:8080/"
        }
      },
      "execution_count": 6,
      "outputs": [
        {
          "output_type": "stream",
          "name": "stdout",
          "text": [
            "very_cool: 0.00\n",
            "cool: 0.67\n",
            "moderate: 0.00\n",
            "hot: 0.00\n",
            "very_hot: 0.00\n"
          ]
        }
      ]
    },
    {
      "cell_type": "markdown",
      "source": [
        "##I - Humidity - Membership Functions"
      ],
      "metadata": {
        "id": "sRgAWaVt-ftj"
      }
    },
    {
      "cell_type": "code",
      "source": [
        "# Define membership functions for humidity\n",
        "#zmf - z shaped mf, steep drop\n",
        "\n",
        "#humidity_sf_universe = humidity_sf.universe\n",
        "\n",
        "very_low_mf = fuzz.zmf(humid_np, 0, 18)\n",
        "low_mf = fuzz.trimf(humid_np, [15, 25, 35])\n",
        "medium_mf = fuzz.trimf(humid_np, [30, 38, 55])\n",
        "high_mf = fuzz.trimf(humid_np, [48, 65, 80])\n",
        "very_high_mf = fuzz.smf(humid_np, 75, 100)\n",
        "\n",
        "# Assign humid mf to fuzzy input humidity variables\n",
        "# link fuzzy lable very_high to it's mf very_high_mf\n",
        "\n",
        "humid_sf['very_low'] = very_low_mf\n",
        "humid_sf['low'] = low_mf\n",
        "humid_sf['medium'] = medium_mf\n",
        "humid_sf['high'] = high_mf\n",
        "humid_sf['very_high'] = very_high_mf\n",
        "\n",
        "humid_sf.view()"
      ],
      "metadata": {
        "colab": {
          "base_uri": "https://localhost:8080/",
          "height": 451
        },
        "id": "20UQqquN-oCy",
        "outputId": "581e2bbf-d982-4206-bdf7-bd6eb71faf60"
      },
      "execution_count": 7,
      "outputs": [
        {
          "output_type": "display_data",
          "data": {
            "text/plain": [
              "<Figure size 640x480 with 1 Axes>"
            ],
            "image/png": "[encoded data removed]"
          },
          "metadata": {}
        }
      ]
    },
    {
      "cell_type": "code",
      "source": [
        "# Setpoint humidity\n",
        "humid_setp = 53\n",
        "\n",
        "# Interpolate and find how much 53% humidity belong to each memership function (0-1)\n",
        "membership_values = {\n",
        "    'very_high': np.interp(humid_setp, humid_sf.universe, very_high_mf),\n",
        "    'high': np.interp(humid_setp, humid_sf.universe, high_mf),\n",
        "    'medium': np.interp(humid_setp, humid_sf.universe, medium_mf),\n",
        "    'low': np.interp(humid_setp, humid_sf.universe, low_mf),\n",
        "    'very_low': np.interp(humid_setp, humid_sf.universe, very_low_mf),\n",
        "}\n",
        "\n",
        "# Print results\n",
        "\n",
        "for label, value in membership_values.items():\n",
        "    print(f\"{label}: {value:.2f}\")"
      ],
      "metadata": {
        "colab": {
          "base_uri": "https://localhost:8080/"
        },
        "id": "Aq20_Zz6AUEF",
        "outputId": "cfe72c2a-da64-46a0-cfb3-7bb2c77753df"
      },
      "execution_count": 8,
      "outputs": [
        {
          "output_type": "stream",
          "name": "stdout",
          "text": [
            "very_high: 0.00\n",
            "high: 0.29\n",
            "medium: 0.12\n",
            "low: 0.00\n",
            "very_low: 0.00\n"
          ]
        }
      ]
    },
    {
      "cell_type": "markdown",
      "source": [
        "##E - Temp error - Membership functions"
      ],
      "metadata": {
        "id": "b2TUb4e3l9Cj"
      }
    },
    {
      "cell_type": "code",
      "source": [
        "# Define membership functions for error = set point - current room temp\n",
        "#zmf - z shaped mf, steep drop\n",
        "\n",
        "#t_error_sf_universe = t_error_sf.universe\n",
        "\n",
        "t_er_exneg_mf = fuzz.zmf(t_error_np, -5, -3)\n",
        "t_er_neg_mf = fuzz.trimf(t_error_np, [-5, -2, 0]) #a,peak,b\n",
        "t_er_zero_mf = fuzz.trimf(t_error_np, [-1, 0, 1])\n",
        "t_er_pos_mf = fuzz.trimf(t_error_np, [0, 2, 5])\n",
        "t_er_expos_mf = fuzz.smf(t_error_np, 3, 5)\n",
        "\n",
        "# Assign t_error mf to fuzzy input t_error variables\n",
        "# link fuzzy lable t_er_pos to it's mf t_er_pos_mf\n",
        "\n",
        "t_error_sf['t_er_exneg'] = t_er_exneg_mf\n",
        "t_error_sf['t_er_neg'] = t_er_neg_mf\n",
        "t_error_sf['t_er_zero'] = t_er_zero_mf\n",
        "t_error_sf['t_er_pos'] = t_er_pos_mf\n",
        "t_error_sf['t_er_expos'] = t_er_expos_mf\n",
        "\n",
        "t_error_sf.view()"
      ],
      "metadata": {
        "id": "e75P1GbQhgvS",
        "outputId": "d0291bb0-aeaa-4a7e-e67d-792a51d19c45",
        "colab": {
          "base_uri": "https://localhost:8080/",
          "height": 451
        }
      },
      "execution_count": 9,
      "outputs": [
        {
          "output_type": "display_data",
          "data": {
            "text/plain": [
              "<Figure size 640x480 with 1 Axes>"
            ],
            "image/png": "[encoded data removed]"
          },
          "metadata": {}
        }
      ]
    },
    {
      "cell_type": "code",
      "source": [
        "#demo error\n",
        "\n",
        "t_error_setp = -4\n",
        "\n",
        "# Interpolate and find how much -4 t_error belong to each memership function (0-1)\n",
        "membership_values = {\n",
        "    't_er_exneg': np.interp(t_error_setp, t_error_sf.universe, t_er_exneg_mf),\n",
        "    't_er_neg': np.interp(t_error_setp, t_error_sf.universe, t_er_neg_mf),\n",
        "    't_er_zero': np.interp(t_error_setp, t_error_sf.universe, t_er_zero_mf),\n",
        "    't_er_pos': np.interp(t_error_setp, t_error_sf.universe, t_er_pos_mf),\n",
        "    't_er_expos': np.interp(t_error_setp, t_error_sf.universe, t_er_expos_mf),\n",
        "}\n",
        "\n",
        "# Print membership values\n",
        "for label, value in membership_values.items():\n",
        "    print(f\"{label}: {value:.2f}\")\n"
      ],
      "metadata": {
        "id": "iwuI-6cPjZfK",
        "outputId": "f7f6a4a4-6bcc-44ea-96c2-a43d92ec71dc",
        "colab": {
          "base_uri": "https://localhost:8080/"
        }
      },
      "execution_count": 10,
      "outputs": [
        {
          "output_type": "stream",
          "name": "stdout",
          "text": [
            "t_er_exneg: 0.50\n",
            "t_er_neg: 0.33\n",
            "t_er_zero: 0.00\n",
            "t_er_pos: 0.00\n",
            "t_er_expos: 0.00\n"
          ]
        }
      ]
    },
    {
      "cell_type": "markdown",
      "source": [
        "##E - Humidity error - Membership functions"
      ],
      "metadata": {
        "id": "l1qdP-jQU5vI"
      }
    },
    {
      "cell_type": "code",
      "source": [
        "# Define membership functions for error = set point - current room temp\n",
        "#zmf - z shaped mf, steep drop\n",
        "\n",
        "#h_error_sf_universe = h_error_sf.universe\n",
        "\n",
        "h_er_exneg_mf = fuzz.zmf(h_error_np, -5, -3)\n",
        "h_er_neg_mf = fuzz.trimf(h_error_np, [-5, -2, 0]) #a,peak,b\n",
        "h_er_zero_mf = fuzz.trimf(h_error_np, [-1, 0, 1])\n",
        "h_er_pos_mf = fuzz.trimf(h_error_np, [0, 2, 5])\n",
        "h_er_expos_mf = fuzz.smf(h_error_np, 3, 5)\n",
        "\n",
        "# Assign h_error mf to fuzzy input h_error variables\n",
        "# link fuzzy lable h_er_pos to it's mf h_er_pos_mf\n",
        "\n",
        "h_error_sf['h_er_exneg'] = h_er_exneg_mf\n",
        "h_error_sf['h_er_neg'] = h_er_neg_mf\n",
        "h_error_sf['h_er_zero'] = h_er_zero_mf\n",
        "h_error_sf['h_er_pos'] = h_er_pos_mf\n",
        "h_error_sf['h_er_expos'] = h_er_expos_mf\n",
        "\n",
        "h_error_sf.view()"
      ],
      "metadata": {
        "outputId": "dd3d4d0e-49ef-4c4d-e912-bcbd04519268",
        "colab": {
          "base_uri": "https://localhost:8080/",
          "height": 451
        },
        "id": "iS_XViQjU5vK"
      },
      "execution_count": 11,
      "outputs": [
        {
          "output_type": "display_data",
          "data": {
            "text/plain": [
              "<Figure size 640x480 with 1 Axes>"
            ],
            "image/png": "[encoded data removed]"
          },
          "metadata": {}
        }
      ]
    },
    {
      "cell_type": "code",
      "source": [
        "#demo error\n",
        "\n",
        "h_error_setp = 3.5\n",
        "\n",
        "# Interpolate and find how much -4 t_error belong to each memership function (0-1)\n",
        "membership_values = {\n",
        "    'h_er_exneg': np.interp(h_error_setp, t_error_sf.universe, h_er_exneg_mf),\n",
        "    'h_er_neg': np.interp(h_error_setp, t_error_sf.universe, h_er_neg_mf),\n",
        "    'h_er_zero': np.interp(h_error_setp, t_error_sf.universe, h_er_zero_mf),\n",
        "    'h_er_pos': np.interp(h_error_setp, t_error_sf.universe, h_er_pos_mf),\n",
        "    'h_er_expos': np.interp(h_error_setp, t_error_sf.universe, h_er_expos_mf),\n",
        "}\n",
        "\n",
        "# Print membership values\n",
        "for label, value in membership_values.items():\n",
        "    print(f\"{label}: {value:.2f}\")\n"
      ],
      "metadata": {
        "outputId": "c8012e9a-4fae-44d7-e70c-4efadb84a952",
        "colab": {
          "base_uri": "https://localhost:8080/"
        },
        "id": "Jb1sm20EU5vL"
      },
      "execution_count": 12,
      "outputs": [
        {
          "output_type": "stream",
          "name": "stdout",
          "text": [
            "h_er_exneg: 0.00\n",
            "h_er_neg: 0.00\n",
            "h_er_zero: 0.00\n",
            "h_er_pos: 0.50\n",
            "h_er_expos: 0.25\n"
          ]
        }
      ]
    },
    {
      "cell_type": "markdown",
      "source": [
        "##O - Fan speed - Membership functions"
      ],
      "metadata": {
        "id": "LcW9Go6Klgjh"
      }
    },
    {
      "cell_type": "code",
      "source": [
        "# Define membership functions for fan speed\n",
        "#zmf - z shaped mf, steep drop\n",
        "\n",
        "#fspeed_sf_universe = fspeed_sf.universe\n",
        "\n",
        "very_slow_mf = fuzz.zmf(fspeed_np, 0.1, 0.2)\n",
        "slow_mf = fuzz.trimf(fspeed_np, [0.15, 0.3, 0.45]) #a,peak,b\n",
        "f_medium_mf = fuzz.trimf(fspeed_np, [0.35, 0.5, 0.65])\n",
        "fast_mf = fuzz.trimf(fspeed_np, [0.6, 0.75, 0.85])\n",
        "very_fast_mf = fuzz.smf(fspeed_np, 0.75, 1.0)\n",
        "\n",
        "# Assign fspeed mf to fuzzy input fspeed variables\n",
        "# link fuzzy lable very_slow to it's mf very_slow_mf\n",
        "\n",
        "fspeed_sf['very_slow'] = very_slow_mf\n",
        "fspeed_sf['slow'] = slow_mf\n",
        "fspeed_sf['f_medium'] = f_medium_mf\n",
        "fspeed_sf['fast'] = fast_mf\n",
        "fspeed_sf['very_fast'] = very_fast_mf\n",
        "\n",
        "fspeed_sf.view()"
      ],
      "metadata": {
        "colab": {
          "base_uri": "https://localhost:8080/",
          "height": 451
        },
        "id": "CRb-U-GFBKVC",
        "outputId": "4b2f4bf6-6b16-471a-c5ee-ad8ba9c6e8a1"
      },
      "execution_count": 13,
      "outputs": [
        {
          "output_type": "display_data",
          "data": {
            "text/plain": [
              "<Figure size 640x480 with 1 Axes>"
            ],
            "image/png": "[encoded data removed]"
          },
          "metadata": {}
        }
      ]
    },
    {
      "cell_type": "code",
      "source": [
        "#demo fspeed\n",
        "\n",
        "fspeed_setp = 0.41\n",
        "\n",
        "# Interpolate and find how much -4 error belong to each memership function (0-1)\n",
        "membership_values = {\n",
        "    'very_fast': np.interp(fspeed_setp, fspeed_sf.universe, very_fast_mf),\n",
        "    'fast': np.interp(fspeed_setp, fspeed_sf.universe, fast_mf),\n",
        "    'f_medium': np.interp(fspeed_setp, fspeed_sf.universe, f_medium_mf),\n",
        "    'slow': np.interp(fspeed_setp, fspeed_sf.universe, slow_mf),\n",
        "    'very_slow': np.interp(fspeed_setp, fspeed_sf.universe, very_slow_mf),\n",
        "}\n",
        "\n",
        "# Print membership values\n",
        "for label, value in membership_values.items():\n",
        "    print(f\"{label}: {value:.2f}\")"
      ],
      "metadata": {
        "colab": {
          "base_uri": "https://localhost:8080/"
        },
        "id": "o8vYVshuCoHo",
        "outputId": "139b6a55-b691-4f64-f70c-7e9ac2640ea6"
      },
      "execution_count": 14,
      "outputs": [
        {
          "output_type": "stream",
          "name": "stdout",
          "text": [
            "very_fast: 0.00\n",
            "fast: 0.00\n",
            "f_medium: 0.40\n",
            "slow: 0.27\n",
            "very_slow: 0.00\n"
          ]
        }
      ]
    },
    {
      "cell_type": "markdown",
      "source": [
        "##O - Cooler voltage speed - Membership functions"
      ],
      "metadata": {
        "id": "XAr3pMrmDxNz"
      }
    },
    {
      "cell_type": "code",
      "source": [
        "# Define membership functions for cooler voltage\n",
        "#zmf - z shaped mf, steep drop\n",
        "\n",
        "#cvolt_sf_universe = cvolt_sf.universe\n",
        "\n",
        "very_low_c_mf = fuzz.zmf(cvolt_np, 0.1, 0.2)\n",
        "low_c_mf = fuzz.trimf(cvolt_np, [0.15, 0.3, 0.45]) #a,peak,b\n",
        "c_medium_mf = fuzz.trimf(cvolt_np, [0.35, 0.5, 0.65])\n",
        "high_c_mf = fuzz.trimf(cvolt_np, [0.6, 0.75, 0.85])\n",
        "very_high_c_mf = fuzz.smf(cvolt_np, 0.75, 1.0)\n",
        "\n",
        "# Assign cvolt mf to fuzzy input cvolt variables\n",
        "# link fuzzy lable very_low_c to it's mf very_low_c_mf\n",
        "\n",
        "cvolt_sf['very_low_c'] = very_low_c_mf\n",
        "cvolt_sf['low_c'] = low_c_mf\n",
        "cvolt_sf['c_medium'] = c_medium_mf\n",
        "cvolt_sf['high_c'] = high_c_mf\n",
        "cvolt_sf['very_high_c'] = very_high_c_mf\n",
        "\n",
        "cvolt_sf.view()"
      ],
      "metadata": {
        "outputId": "1b4c43d9-76f0-4928-cc85-d5c3c9740794",
        "colab": {
          "base_uri": "https://localhost:8080/",
          "height": 451
        },
        "id": "QpgTg7rNDxN1"
      },
      "execution_count": 15,
      "outputs": [
        {
          "output_type": "display_data",
          "data": {
            "text/plain": [
              "<Figure size 640x480 with 1 Axes>"
            ],
            "image/png": "[encoded data removed]"
          },
          "metadata": {}
        }
      ]
    },
    {
      "cell_type": "code",
      "source": [
        "#demo cvolt\n",
        "\n",
        "cvolt_setp = 0.34\n",
        "\n",
        "# Interpolate and find how much -4 error belong to each memership function (0-1)\n",
        "membership_values = {\n",
        "    'very_high_c': np.interp(cvolt_setp, cvolt_sf.universe, very_high_c_mf),\n",
        "    'high_c': np.interp(cvolt_setp, cvolt_sf.universe, high_c_mf),\n",
        "    'c_medium': np.interp(cvolt_setp, cvolt_sf.universe, c_medium_mf),\n",
        "    'low_c': np.interp(cvolt_setp, cvolt_sf.universe, low_c_mf),\n",
        "    'very_low_c': np.interp(cvolt_setp, cvolt_sf.universe, very_low_c_mf),\n",
        "}\n",
        "\n",
        "# Print membership values\n",
        "for label, value in membership_values.items():\n",
        "    print(f\"{label}: {value:.2f}\")"
      ],
      "metadata": {
        "outputId": "80cb5293-06e3-4efe-aeac-d6e3d8100f1f",
        "colab": {
          "base_uri": "https://localhost:8080/"
        },
        "id": "Bw25MZFjDxN3"
      },
      "execution_count": 16,
      "outputs": [
        {
          "output_type": "stream",
          "name": "stdout",
          "text": [
            "very_high_c: 0.00\n",
            "high_c: 0.00\n",
            "c_medium: 0.00\n",
            "low_c: 0.73\n",
            "very_low_c: 0.00\n"
          ]
        }
      ]
    },
    {
      "cell_type": "markdown",
      "source": [
        "##O - Heater voltage speed - Membership functions"
      ],
      "metadata": {
        "id": "9OgHoeeAFEYw"
      }
    },
    {
      "cell_type": "code",
      "source": [
        "# Define membership functions for cooler voltage\n",
        "#zmf - z shaped mf, steep drop\n",
        "\n",
        "#hvolt_sf_universe = hvolt_sf.universe\n",
        "\n",
        "very_low_h_mf = fuzz.zmf(hvolt_np, 0.1, 0.2)\n",
        "low_h_mf = fuzz.trimf(hvolt_np, [0.15, 0.3, 0.45]) #a,peak,b\n",
        "h_medium_mf = fuzz.trimf(hvolt_np, [0.35, 0.5, 0.65])\n",
        "high_h_mf = fuzz.trimf(hvolt_np, [0.6, 0.75, 0.85])\n",
        "very_high_h_mf = fuzz.smf(hvolt_np, 0.75, 1.0)\n",
        "\n",
        "# Assign hvolt mf to fuzzy input hvolt variables\n",
        "# link fuzzy lable very_low_h to it's mf very_low_h_mf\n",
        "\n",
        "hvolt_sf['very_low_h'] = very_low_h_mf\n",
        "hvolt_sf['low_h'] = low_h_mf\n",
        "hvolt_sf['h_medium'] = h_medium_mf\n",
        "hvolt_sf['high_h'] = high_h_mf\n",
        "hvolt_sf['very_high_h'] = very_high_h_mf\n",
        "\n",
        "hvolt_sf.view()"
      ],
      "metadata": {
        "outputId": "96aaaaf7-b5eb-4017-974e-c0fd83248a34",
        "colab": {
          "base_uri": "https://localhost:8080/",
          "height": 451
        },
        "id": "Rdw6cwoVFEYx"
      },
      "execution_count": 17,
      "outputs": [
        {
          "output_type": "display_data",
          "data": {
            "text/plain": [
              "<Figure size 640x480 with 1 Axes>"
            ],
            "image/png": "[encoded data removed]"
          },
          "metadata": {}
        }
      ]
    },
    {
      "cell_type": "code",
      "source": [
        "#demo hvolt\n",
        "\n",
        "hvolt_setp = 0.79\n",
        "\n",
        "# Interpolate and find how much -4 error belong to each memership function (0-1)\n",
        "membership_values = {\n",
        "    'very_high_h': np.interp(hvolt_setp, hvolt_sf.universe, very_high_h_mf),\n",
        "    'high_h': np.interp(hvolt_setp, hvolt_sf.universe, high_h_mf),\n",
        "    'h_medium': np.interp(hvolt_setp, hvolt_sf.universe, h_medium_mf),\n",
        "    'low_h': np.interp(hvolt_setp, hvolt_sf.universe, low_h_mf),\n",
        "    'very_low_h': np.interp(hvolt_setp, hvolt_sf.universe, very_low_h_mf),\n",
        "}\n",
        "\n",
        "# Print membership values\n",
        "for label, value in membership_values.items():\n",
        "    print(f\"{label}: {value:.2f}\")"
      ],
      "metadata": {
        "outputId": "2e1d4b3d-3a44-4aaf-cf8c-637966805aec",
        "colab": {
          "base_uri": "https://localhost:8080/"
        },
        "id": "QSLyBQDkFEYy"
      },
      "execution_count": 18,
      "outputs": [
        {
          "output_type": "stream",
          "name": "stdout",
          "text": [
            "very_high_h: 0.06\n",
            "high_h: 0.60\n",
            "h_medium: 0.00\n",
            "low_h: 0.00\n",
            "very_low_h: 0.00\n"
          ]
        }
      ]
    },
    {
      "cell_type": "markdown",
      "source": [
        "##O - Humidifier flow content - Membership functions"
      ],
      "metadata": {
        "id": "1lAEeLspFryM"
      }
    },
    {
      "cell_type": "code",
      "source": [
        "# Define membership functions for humididfier voltage\n",
        "#zmf - z shaped mf, steep drop\n",
        "\n",
        "#humidmoist_sf_universe = humidmoist_sf.universe\n",
        "\n",
        "#mist\n",
        "\n",
        "very_light_m_mf = fuzz.zmf(humidmoist_np, 0.1, 0.2)\n",
        "light_m_mf = fuzz.trimf(humidmoist_np, [0.15, 0.3, 0.45]) #a,peak,b\n",
        "m_medium_mf = fuzz.trimf(humidmoist_np, [0.35, 0.5, 0.65])\n",
        "heavy_m_mf = fuzz.trimf(humidmoist_np, [0.6, 0.75, 0.85])\n",
        "very_heavy_m_mf = fuzz.smf(humidmoist_np, 0.75, 1.0)\n",
        "\n",
        "# Assign humidmoist mf to fuzzy input humidmoist variables\n",
        "# link fuzzy lable very_light_m to it's mf very_light_m_mf\n",
        "\n",
        "humidmoist_sf['very_light_m'] = very_light_m_mf\n",
        "humidmoist_sf['light_m'] = light_m_mf\n",
        "humidmoist_sf['m_medium'] = m_medium_mf\n",
        "humidmoist_sf['heavy_m'] = heavy_m_mf\n",
        "humidmoist_sf['very_heavy_m'] = very_heavy_m_mf\n",
        "\n",
        "humidmoist_sf.view()"
      ],
      "metadata": {
        "outputId": "0ec65a5b-37c7-4b72-cbcb-782c88cf1d0f",
        "colab": {
          "base_uri": "https://localhost:8080/",
          "height": 451
        },
        "id": "4rWS8EVEFryO"
      },
      "execution_count": 19,
      "outputs": [
        {
          "output_type": "display_data",
          "data": {
            "text/plain": [
              "<Figure size 640x480 with 1 Axes>"
            ],
            "image/png": "[encoded data removed]"
          },
          "metadata": {}
        }
      ]
    },
    {
      "cell_type": "code",
      "source": [
        "#demo humidmoist\n",
        "\n",
        "humidmoist_setp = 0.57\n",
        "\n",
        "# Interpolate and find how much -4 error belong to each memership function (0-1)\n",
        "membership_values = {\n",
        "    'very_heavy_m': np.interp(humidmoist_setp, humidmoist_sf.universe, very_heavy_m_mf),\n",
        "    'heavy_m': np.interp(humidmoist_setp, humidmoist_sf.universe, heavy_m_mf),\n",
        "    'm_medium': np.interp(humidmoist_setp, humidmoist_sf.universe, h_medium_mf),\n",
        "    'light_m': np.interp(humidmoist_setp, humidmoist_sf.universe, light_m_mf),\n",
        "    'very_light_m': np.interp(humidmoist_setp, humidmoist_sf.universe, very_light_m_mf),\n",
        "}\n",
        "\n",
        "# Print membership values\n",
        "for label, value in membership_values.items():\n",
        "    print(f\"{label}: {value:.2f}\")"
      ],
      "metadata": {
        "outputId": "3a757654-d2b7-478f-c4fc-801e07d8b4e1",
        "colab": {
          "base_uri": "https://localhost:8080/"
        },
        "id": "q1fW-delFryP"
      },
      "execution_count": 20,
      "outputs": [
        {
          "output_type": "stream",
          "name": "stdout",
          "text": [
            "very_heavy_m: 0.00\n",
            "heavy_m: 0.00\n",
            "m_medium: 0.53\n",
            "light_m: 0.00\n",
            "very_light_m: 0.00\n"
          ]
        }
      ]
    },
    {
      "cell_type": "markdown",
      "source": [
        "# - - - - Simple Fuzzy - - - -"
      ],
      "metadata": {
        "id": "Yo7F6Lx6f5Xu"
      }
    },
    {
      "cell_type": "markdown",
      "source": [
        "##Rules by me"
      ],
      "metadata": {
        "id": "yYPWJtKjH27s"
      }
    },
    {
      "cell_type": "code",
      "source": [
        "#rules for fuzzy logic\n",
        "\n",
        "\n",
        "# Rule 1\n",
        "rule1a = ctrl.Rule(t_error_sf['t_er_exneg'] | h_error_sf['h_er_exneg'], fspeed_sf['very_fast'])\n",
        "rule1b = ctrl.Rule(t_error_sf['t_er_exneg'] | h_error_sf['h_er_exneg'], cvolt_sf['very_high_c'])\n",
        "rule1c = ctrl.Rule(t_error_sf['t_er_exneg'] | h_error_sf['h_er_exneg'], hvolt_sf['very_high_h'])\n",
        "\n",
        "# Rule 2\n",
        "rule2a = ctrl.Rule(t_error_sf['t_er_neg'] | h_error_sf['h_er_neg'], fspeed_sf['fast'])\n",
        "rule2b = ctrl.Rule(t_error_sf['t_er_neg'] | h_error_sf['h_er_neg'], cvolt_sf['high_c'])\n",
        "rule2c = ctrl.Rule(t_error_sf['t_er_neg'] | h_error_sf['h_er_neg'], hvolt_sf['high_h'])\n",
        "\n",
        "# Rule 3\n",
        "rule3a = ctrl.Rule(t_error_sf['t_er_zero'] | h_error_sf['h_er_zero'], fspeed_sf['f_medium'])\n",
        "rule3b = ctrl.Rule(t_error_sf['t_er_zero'] | h_error_sf['h_er_zero'], cvolt_sf['c_medium'])\n",
        "rule3c = ctrl.Rule(t_error_sf['t_er_zero'] | h_error_sf['h_er_zero'], hvolt_sf['h_medium'])\n",
        "\n",
        "# Rule 4\n",
        "rule4a = ctrl.Rule(t_error_sf['t_er_pos'] | h_error_sf['h_er_pos'], fspeed_sf['slow'])\n",
        "rule4b = ctrl.Rule(t_error_sf['t_er_pos'] | h_error_sf['h_er_pos'], cvolt_sf['low_c'])\n",
        "rule4c = ctrl.Rule(t_error_sf['t_er_pos'] | h_error_sf['h_er_pos'], hvolt_sf['low_h'])\n",
        "\n",
        "# Rule 5\n",
        "rule5a = ctrl.Rule(t_error_sf['t_er_expos'] | h_error_sf['h_er_expos'], fspeed_sf['very_slow'])\n",
        "rule5b = ctrl.Rule(t_error_sf['t_er_expos'] | h_error_sf['h_er_expos'], cvolt_sf['very_low_c'])\n",
        "rule5c = ctrl.Rule(t_error_sf['t_er_expos'] | h_error_sf['h_er_expos'], hvolt_sf['very_low_h'])\n"
      ],
      "metadata": {
        "id": "0eNgW0IDgkyz"
      },
      "execution_count": 21,
      "outputs": []
    },
    {
      "cell_type": "code",
      "source": [
        "#build control system\n",
        "control_system = ctrl.ControlSystem([\n",
        "    rule1a, rule1b, rule1c,\n",
        "    rule2a, rule2b, rule2c,\n",
        "    rule3a, rule3b, rule3c,\n",
        "    rule4a, rule4b, rule4c,\n",
        "    rule5a, rule5b, rule5c\n",
        "])\n"
      ],
      "metadata": {
        "id": "ub3xzyCyhA3c"
      },
      "execution_count": 22,
      "outputs": []
    },
    {
      "cell_type": "code",
      "source": [
        "#build fuzzy system\n",
        "\n",
        "fuzzy_system = ctrl.ControlSystemSimulation(control_system)\n",
        "fuzzy_system\n"
      ],
      "metadata": {
        "id": "QxuKcGfuhYGq",
        "colab": {
          "base_uri": "https://localhost:8080/"
        },
        "outputId": "4ab43c48-8739-4914-e139-e1ab0449f823"
      },
      "execution_count": 23,
      "outputs": [
        {
          "output_type": "execute_result",
          "data": {
            "text/plain": [
              "<skfuzzy.control.controlsystem.ControlSystemSimulation at 0x789df784d650>"
            ]
          },
          "metadata": {},
          "execution_count": 23
        }
      ]
    },
    {
      "cell_type": "code",
      "source": [
        "#testing demo values\n",
        "\n",
        "fuzzy_system.input['temp_error'] = 5\n",
        "fuzzy_system.input['humid_error'] = -2\n",
        "\n",
        "fuzzy_system.compute()\n",
        "\n",
        "print(\"Fan Speed:\", fuzzy_system.output['fan_speed'])\n",
        "print(\"Compressor Voltage:\", fuzzy_system.output['cooler_volt'])\n",
        "print(\"Heater Voltage:\", fuzzy_system.output['heater_volt'])\n",
        "\n",
        "'''fspeed_sf.view(sim = fuzzy_system)\n",
        "cvolt_sf.view(sim = fuzzy_system)\n",
        "hvolt_sf.view(sim = fuzzy_system)'''\n"
      ],
      "metadata": {
        "id": "Xi5LMUaBhq88",
        "colab": {
          "base_uri": "https://localhost:8080/",
          "height": 89
        },
        "outputId": "f1de9678-ee5c-47a3-9cbb-e843734e824a"
      },
      "execution_count": 24,
      "outputs": [
        {
          "output_type": "stream",
          "name": "stdout",
          "text": [
            "Fan Speed: 0.3757575757575758\n",
            "Compressor Voltage: 0.3757575757575758\n",
            "Heater Voltage: 0.3757575757575758\n"
          ]
        },
        {
          "output_type": "execute_result",
          "data": {
            "text/plain": [
              "'fspeed_sf.view(sim = fuzzy_system)\\ncvolt_sf.view(sim = fuzzy_system)\\nhvolt_sf.view(sim = fuzzy_system)'"
            ],
            "application/vnd.google.colaboratory.intrinsic+json": {
              "type": "string"
            }
          },
          "metadata": {},
          "execution_count": 24
        }
      ]
    },
    {
      "cell_type": "markdown",
      "source": [
        "##Rules by Grok"
      ],
      "metadata": {
        "id": "hVY2rIcWIW8U"
      }
    },
    {
      "cell_type": "code",
      "source": [
        "# Assuming all antecedents and consequents are defined as in your code\n",
        "# (temp_error_sf, h_error_sf, fspeed_sf, cvolt_sf, hvolt_sf, humidmoist_sf)\n",
        "\n",
        "# Define thermodynamically correct rules\n",
        "rules = [\n",
        "    # Temperature too hot (t_er_exneg, t_er_neg)\n",
        "    ctrl.Rule(t_error_sf['t_er_exneg'] & h_error_sf['h_er_zero'],\n",
        "              [fspeed_sf['very_fast'], cvolt_sf['very_high_c'], hvolt_sf['very_low_h'], humidmoist_sf['very_light_m']]),\n",
        "    ctrl.Rule(t_error_sf['t_er_neg'] & h_error_sf['h_er_zero'],\n",
        "              [fspeed_sf['fast'], cvolt_sf['high_c'], hvolt_sf['very_low_h'], humidmoist_sf['very_light_m']]),\n",
        "\n",
        "    # Temperature too cold (t_er_expos, t_er_pos)\n",
        "    ctrl.Rule(t_error_sf['t_er_expos'] & h_error_sf['h_er_zero'],\n",
        "              [fspeed_sf['very_fast'], cvolt_sf['very_low_c'], hvolt_sf['very_high_h'], humidmoist_sf['very_light_m']]),\n",
        "    ctrl.Rule(t_error_sf['t_er_pos'] & h_error_sf['h_er_zero'],\n",
        "              [fspeed_sf['fast'], cvolt_sf['very_low_c'], hvolt_sf['high_h'], humidmoist_sf['very_light_m']]),\n",
        "\n",
        "    # Temperature and humidity at set point (minimize power)\n",
        "    ctrl.Rule(t_error_sf['t_er_zero'] & h_error_sf['h_er_zero'],\n",
        "              [fspeed_sf['very_slow'], cvolt_sf['very_low_c'], hvolt_sf['very_low_h'], humidmoist_sf['very_light_m']]),\n",
        "\n",
        "    # Humidity too high (h_er_exneg, h_er_neg)\n",
        "    ctrl.Rule(t_error_sf['t_er_zero'] & h_error_sf['h_er_exneg'],\n",
        "              [fspeed_sf['fast'], cvolt_sf['very_high_c'], hvolt_sf['very_low_h'], humidmoist_sf['very_light_m']]),\n",
        "    ctrl.Rule(t_error_sf['t_er_zero'] & h_error_sf['h_er_neg'],\n",
        "              [fspeed_sf['f_medium'], cvolt_sf['high_c'], hvolt_sf['very_low_h'], humidmoist_sf['very_light_m']]),\n",
        "\n",
        "    # Humidity too low (h_er_expos, h_er_pos)\n",
        "    ctrl.Rule(t_error_sf['t_er_zero'] & h_error_sf['h_er_expos'],\n",
        "              [fspeed_sf['f_medium'], cvolt_sf['very_low_c'], hvolt_sf['very_low_h'], humidmoist_sf['very_heavy_m']]),\n",
        "    ctrl.Rule(t_error_sf['t_er_zero'] & h_error_sf['h_er_pos'],\n",
        "              [fspeed_sf['slow'], cvolt_sf['very_low_c'], hvolt_sf['very_low_h'], humidmoist_sf['heavy_m']]),\n",
        "\n",
        "    # Combined cases\n",
        "    ctrl.Rule(t_error_sf['t_er_expos'] & h_error_sf['h_er_neg'],\n",
        "              [fspeed_sf['fast'], cvolt_sf['low_c'], hvolt_sf['very_high_h'], humidmoist_sf['very_light_m']]),\n",
        "    ctrl.Rule(t_error_sf['t_er_exneg'] & h_error_sf['h_er_exneg'],\n",
        "              [fspeed_sf['very_fast'], cvolt_sf['very_high_c'], hvolt_sf['very_low_h'], humidmoist_sf['very_light_m']]),\n",
        "    ctrl.Rule(t_error_sf['t_er_expos'] & h_error_sf['h_er_expos'],\n",
        "              [fspeed_sf['very_fast'], cvolt_sf['very_low_c'], hvolt_sf['very_high_h'], humidmoist_sf['very_heavy_m']]),\n",
        "    ctrl.Rule(t_error_sf['t_er_neg'] & h_error_sf['h_er_neg'],\n",
        "              [fspeed_sf['fast'], cvolt_sf['high_c'], hvolt_sf['very_low_h'], humidmoist_sf['very_light_m']]),\n",
        "    ctrl.Rule(t_error_sf['t_er_pos'] & h_error_sf['h_er_pos'],\n",
        "              [fspeed_sf['fast'], cvolt_sf['very_low_c'], hvolt_sf['high_h'], humidmoist_sf['heavy_m']]),\n",
        "]\n",
        "\n",
        "# Create control system\n",
        "control_system = ctrl.ControlSystem(rules)\n",
        "fuzzy_system = ctrl.ControlSystemSimulation(control_system)"
      ],
      "metadata": {
        "id": "dxZNqYRg0vWH"
      },
      "execution_count": 25,
      "outputs": []
    },
    {
      "cell_type": "code",
      "source": [
        "# Set inputs\n",
        "fuzzy_system.input['temp_error'] = 5\n",
        "fuzzy_system.input['humid_error'] = -2\n",
        "\n",
        "# Compute\n",
        "fuzzy_system.compute()\n",
        "\n",
        "# Print outputs\n",
        "print(\"Fan Speed:\", fuzzy_system.output['fan_speed'])\n",
        "print(\"Cooler Voltage:\", fuzzy_system.output['cooler_volt'])\n",
        "print(\"Heater Voltage:\", fuzzy_system.output['heater_volt'])\n",
        "print(\"Moisture:\", fuzzy_system.output['moisture'])\n",
        "\n",
        "# Visualize outputs\n",
        "'''fspeed_sf.view(sim=fuzzy_system)\n",
        "cvolt_sf.view(sim=fuzzy_system)\n",
        "hvolt_sf.view(sim=fuzzy_system)\n",
        "humidmoist_sf.view(sim=fuzzy_system)'''"
      ],
      "metadata": {
        "id": "0AOAEsDL5Ofz",
        "outputId": "a60f7916-918e-43b2-b4d7-1cfc8aca0949",
        "colab": {
          "base_uri": "https://localhost:8080/",
          "height": 107
        }
      },
      "execution_count": 26,
      "outputs": [
        {
          "output_type": "stream",
          "name": "stdout",
          "text": [
            "Fan Speed: 0.7333333333333333\n",
            "Cooler Voltage: 0.3\n",
            "Heater Voltage: 0.9254666666666667\n",
            "Moisture: 0.07777777777777779\n"
          ]
        },
        {
          "output_type": "execute_result",
          "data": {
            "text/plain": [
              "'fspeed_sf.view(sim=fuzzy_system)\\ncvolt_sf.view(sim=fuzzy_system)\\nhvolt_sf.view(sim=fuzzy_system)\\nhumidmoist_sf.view(sim=fuzzy_system)'"
            ],
            "application/vnd.google.colaboratory.intrinsic+json": {
              "type": "string"
            }
          },
          "metadata": {},
          "execution_count": 26
        }
      ]
    },
    {
      "cell_type": "markdown",
      "source": [
        "#- - - - Connect LlaMA - - - -"
      ],
      "metadata": {
        "id": "V20lRvNe28G1"
      }
    },
    {
      "cell_type": "code",
      "source": [
        "!pip install transformers accelerate bitsandbytes\n"
      ],
      "metadata": {
        "id": "lVNBzyFfHjNi"
      },
      "execution_count": null,
      "outputs": []
    },
    {
      "cell_type": "code",
      "source": [
        "!pip install -U bitsandbytes accelerate transformers\n"
      ],
      "metadata": {
        "id": "VQRidGtmShLz"
      },
      "execution_count": null,
      "outputs": []
    },
    {
      "cell_type": "code",
      "source": [
        "from transformers import AutoTokenizer, AutoModelForCausalLM, BitsAndBytesConfig\n",
        "import torch\n",
        "\n",
        "model_name = \"TinyLlama/TinyLlama-1.1B-Chat-v1.0\"\n",
        "\n",
        "# Load tokenizer\n",
        "tokenizer = AutoTokenizer.from_pretrained(model_name)\n",
        "\n",
        "# Define quantization config for 8-bit loading\n",
        "quant_config = BitsAndBytesConfig(load_in_8bit=True)\n",
        "\n",
        "\n",
        "from transformers import AutoModelForCausalLM\n",
        "model = AutoModelForCausalLM.from_pretrained(model_name).to(\"cuda\" if torch.cuda.is_available() else \"cpu\")\n",
        "\n"
      ],
      "metadata": {
        "id": "mHQWSTHMHui8"
      },
      "execution_count": null,
      "outputs": []
    },
    {
      "cell_type": "code",
      "source": [
        "prompt = \"Generate fuzzy logic rules for HVAC system where temperature and humidity inputs control fan speed and voltage outputs.\"\n",
        "\n",
        "inputs = tokenizer(prompt, return_tensors=\"pt\").to(model.device)\n",
        "\n",
        "outputs = model.generate(**inputs, max_new_tokens=150)\n",
        "\n",
        "print(tokenizer.decode(outputs[0], skip_special_tokens=True))\n"
      ],
      "metadata": {
        "id": "wsZrs6cMIP4Z"
      },
      "execution_count": null,
      "outputs": []
    },
    {
      "cell_type": "code",
      "source": [
        "from transformers import pipeline\n",
        "\n",
        "model_name = \"TinyLlama/TinyLlama-1.1B-Chat-v1.0\"\n",
        "generator = pipeline(\"text-generation\", model=model_name, device=0)\n",
        "\n",
        "prompt = \"\"\"\n",
        "You are an expert in control systems. Generate fuzzy logic control rules.\n",
        "\n",
        "Inputs:\n",
        "- Temperature: very cool, cool, moderate, high, very high\n",
        "- Humidity: low, medium, high\n",
        "\n",
        "Outputs:\n",
        "- Fan Speed: low, medium, high\n",
        "- Compressor Voltage: low, medium, high\n",
        "- Heater Voltage: low, medium, high\n",
        "\n",
        "Generate 5 rules, Rules must follow this format excatly, only channge the [level] appropriately:\n",
        "IF temperature is [level] AND/OR humidity is [level] THEN fan_speed is [level], compressor_voltage is [level], heater_voltage is [level]\n",
        "\"\"\"\n",
        "\n",
        "response = generator(prompt, max_new_tokens=300, do_sample=True, temperature=0.7)[0]['generated_text']\n",
        "print(response)\n",
        "\n",
        "rules = response.split('\\n')\n",
        "for rule in rules:\n",
        "    if \"IF\" in rule and \"THEN\" in rule:\n",
        "        print(rule.strip())\n"
      ],
      "metadata": {
        "id": "K3r5IUGtImtT"
      },
      "execution_count": null,
      "outputs": []
    },
    {
      "cell_type": "code",
      "source": [
        "rules_text = [\n",
        "    \"IF temperature is very cool AND humidity is high THEN fan_speed is low, compressor_voltage is medium, heater_voltage is high\",\n",
        "    \"IF temperature is cool OR humidity is medium THEN fan_speed is medium, compressor_voltage is low, heater_voltage is medium\",\n",
        "    \"IF temperature is moderate AND humidity is low THEN fan_speed is medium, compressor_voltage is low, heater_voltage is low\",\n",
        "    \"IF temperature is high OR humidity is high THEN fan_speed is high, compressor_voltage is high, heater_voltage is low\",\n",
        "    \"IF temperature is very high AND humidity is medium THEN fan_speed is high, compressor_voltage is high, heater_voltage is medium\",\n",
        "]\n"
      ],
      "metadata": {
        "id": "5aHD-Zslg3FG"
      },
      "execution_count": null,
      "outputs": []
    },
    {
      "cell_type": "code",
      "source": [
        "import numpy as np\n",
        "import skfuzzy as fuzz\n",
        "import skfuzzy.control as ctrl"
      ],
      "metadata": {
        "id": "0-wZQODQiVlG"
      },
      "execution_count": null,
      "outputs": []
    },
    {
      "cell_type": "code",
      "source": [
        "#inputs\n",
        "\n",
        "temp = ctrl.Antecedent(np.arange(16,31,1),'temperature')\n",
        "humidity = ctrl.Antecedent(np.arange(0,101,1),'humidity')\n",
        "print(temp)\n",
        "print(humidity)\n",
        "print(temp.universe)\n",
        "print(humidity.universe)"
      ],
      "metadata": {
        "id": "RTdQSxQqjN5h"
      },
      "execution_count": null,
      "outputs": []
    },
    {
      "cell_type": "code",
      "source": [
        "#output\n",
        "\n",
        "f_speed = ctrl.Consequent(np.arange(0,101,1),'f_speed')\n",
        "c_volt = ctrl.Consequent(np.arange(0,6,1),'c_volt')\n",
        "h_volt = ctrl.Consequent(np.arange(0,6,1),'h_volt')\n",
        "print(f_speed)\n",
        "print(c_volt)\n",
        "print(h_volt)\n",
        "print(f_speed.universe)\n",
        "print(c_volt.universe)\n",
        "print(h_volt.universe)"
      ],
      "metadata": {
        "id": "G1Ic0t-QjTgv"
      },
      "execution_count": null,
      "outputs": []
    },
    {
      "cell_type": "code",
      "source": [
        "#membership fn for inputs\n",
        "\n",
        "temp.automf(number=5,names=['very cool', 'cool', 'moderate', 'high', 'very high'])\n",
        "humidity.automf(number=3,names=['low', 'medium', 'high'])\n",
        "\n",
        "temp.view()\n",
        "humidity.view()"
      ],
      "metadata": {
        "id": "0MG9PkTliVSl"
      },
      "execution_count": null,
      "outputs": []
    },
    {
      "cell_type": "code",
      "source": [
        "#custom output membership fns for f_speed\n",
        "\n",
        "f_speed['low']= fuzz.trimf(f_speed.universe,[0,0,50])\n",
        "f_speed['medium']= fuzz.trimf(f_speed.universe,[0,50,100])\n",
        "f_speed['high']= fuzz.trimf(f_speed.universe,[50,100,100])\n",
        "\n",
        "f_speed.view()\n",
        "\n",
        "#custom output membership fns for c_volt\n",
        "\n",
        "c_volt['low']= fuzz.trimf(c_volt.universe,[0,0,30])\n",
        "c_volt['medium']= fuzz.trimf(c_volt.universe,[0,30,50])\n",
        "c_volt['high']= fuzz.trimf(c_volt.universe,[30,50,50])\n",
        "\n",
        "c_volt.view()\n",
        "\n",
        "#custom output membership fns for h_volt\n",
        "\n",
        "h_volt['low']= fuzz.trimf(h_volt.universe,[0,0,30])\n",
        "h_volt['medium']= fuzz.trimf(h_volt.universe,[0,30,50])\n",
        "h_volt['high']= fuzz.trimf(h_volt.universe,[30,50,50])\n",
        "\n",
        "h_volt.view()\n"
      ],
      "metadata": {
        "id": "MjIarxfwii5i"
      },
      "execution_count": null,
      "outputs": []
    },
    {
      "cell_type": "code",
      "source": [
        "print(\"Temperature labels:\", list(temp.terms.keys()))\n"
      ],
      "metadata": {
        "id": "Ee6aEwl-jkVh"
      },
      "execution_count": null,
      "outputs": []
    },
    {
      "cell_type": "code",
      "source": [
        "import skfuzzy.control as ctrl\n",
        "\n",
        "# Define fuzzy variables (assuming you’ve done this earlier in your code)\n",
        "temperature = ctrl.Antecedent(np.arange(0, 51, 1), 'temperature')\n",
        "humidity = ctrl.Antecedent(np.arange(0, 101, 1), 'humidity')\n",
        "f_speed = ctrl.Consequent(np.arange(0, 101, 1), 'f_speed')\n",
        "c_volt = ctrl.Consequent(np.arange(0, 101, 1), 'c_volt')\n",
        "h_volt = ctrl.Consequent(np.arange(0, 101, 1), 'h_volt')\n",
        "\n",
        "# Replace this with your actual fuzzy sets for temp/humidity/outputs\n",
        "# temperature['very cool'], humidity['low'], etc.\n",
        "\n",
        "# Parsing function\n",
        "def parse_rule(text, index):\n",
        "    logic = '&' if \"AND\" in text else '|'\n",
        "\n",
        "    # Extract values\n",
        "    parts = text.replace(\"IF \", \"\").replace(\" THEN \", \";\").split(\";\")\n",
        "    condition, actions = parts[0], parts[1]\n",
        "\n",
        "    conds = condition.strip().split(f\" {'AND' if logic == '&' else 'OR'} \")\n",
        "    cond1_key, cond1_val = conds[0].split(\" is \")\n",
        "    cond2_key, cond2_val = conds[1].split(\" is \")\n",
        "\n",
        "    fan_speed = actions.split(\",\")[0].split(\" is \")[1].strip()\n",
        "    comp_voltage = actions.split(\",\")[1].split(\" is \")[1].strip()\n",
        "    heater_voltage = actions.split(\",\")[2].split(\" is \")[1].strip()\n",
        "\n",
        "    rule_fs = ctrl.Rule(eval(f\"{cond1_key.strip()}['{cond1_val.strip()}'] {logic} {cond2_key.strip()}['{cond2_val.strip()}']\"), f_speed[fan_speed])\n",
        "    rule_cv = ctrl.Rule(eval(f\"{cond1_key.strip()}['{cond1_val.strip()}'] {logic} {cond2_key.strip()}['{cond2_val.strip()}']\"), c_volt[comp_voltage])\n",
        "    rule_hv = ctrl.Rule(eval(f\"{cond1_key.strip()}['{cond1_val.strip()}'] {logic} {cond2_key.strip()}['{cond2_val.strip()}']\"), h_volt[heater_voltage])\n",
        "\n",
        "    return rule_fs, rule_cv, rule_hv\n",
        "\n",
        "# Build all rules\n",
        "all_rules = []\n",
        "for i, r in enumerate(rules_text):\n",
        "    fs, cv, hv = parse_rule(r, i)\n",
        "    all_rules.extend([fs, cv, hv])\n",
        "\n",
        "# Create control system\n",
        "control_system = ctrl.ControlSystem(all_rules)\n",
        "fuzzy_system = ctrl.ControlSystemSimulation(control_system)\n"
      ],
      "metadata": {
        "id": "9dkH2IZzXrHr"
      },
      "execution_count": null,
      "outputs": []
    },
    {
      "cell_type": "markdown",
      "source": [
        "#- - - -Connect OpenAI API- - - -"
      ],
      "metadata": {
        "id": "3asnQRtqswQf"
      }
    },
    {
      "cell_type": "markdown",
      "source": [
        "##Runs"
      ],
      "metadata": {
        "id": "fDFDwvfVGBsN"
      }
    },
    {
      "cell_type": "code",
      "source": [
        "#install openai library\n",
        "\n",
        "!pip install --upgrade openai\n",
        "\n",
        "from openai import OpenAI\n",
        "from getpass import getpass\n",
        "\n",
        "#secure API key enter\n",
        "api_key = getpass(\"Enter your OpenAI API key: \")"
      ],
      "metadata": {
        "colab": {
          "base_uri": "https://localhost:8080/"
        },
        "id": "IxgHp_hcs1DJ",
        "outputId": "2cc76072-11a6-4c48-fab3-c82afb4de9a6"
      },
      "execution_count": 27,
      "outputs": [
        {
          "name": "stdout",
          "output_type": "stream",
          "text": [
            "Requirement already satisfied: openai in /usr/local/lib/python3.11/dist-packages (1.96.1)\n",
            "Collecting openai\n",
            "  Downloading openai-1.97.0-py3-none-any.whl.metadata (29 kB)\n",
            "Requirement already satisfied: anyio<5,>=3.5.0 in /usr/local/lib/python3.11/dist-packages (from openai) (4.9.0)\n",
            "Requirement already satisfied: distro<2,>=1.7.0 in /usr/local/lib/python3.11/dist-packages (from openai) (1.9.0)\n",
            "Requirement already satisfied: httpx<1,>=0.23.0 in /usr/local/lib/python3.11/dist-packages (from openai) (0.28.1)\n",
            "Requirement already satisfied: jiter<1,>=0.4.0 in /usr/local/lib/python3.11/dist-packages (from openai) (0.10.0)\n",
            "Requirement already satisfied: pydantic<3,>=1.9.0 in /usr/local/lib/python3.11/dist-packages (from openai) (2.11.7)\n",
            "Requirement already satisfied: sniffio in /usr/local/lib/python3.11/dist-packages (from openai) (1.3.1)\n",
            "Requirement already satisfied: tqdm>4 in /usr/local/lib/python3.11/dist-packages (from openai) (4.67.1)\n",
            "Requirement already satisfied: typing-extensions<5,>=4.11 in /usr/local/lib/python3.11/dist-packages (from openai) (4.14.1)\n",
            "Requirement already satisfied: idna>=2.8 in /usr/local/lib/python3.11/dist-packages (from anyio<5,>=3.5.0->openai) (3.10)\n",
            "Requirement already satisfied: certifi in /usr/local/lib/python3.11/dist-packages (from httpx<1,>=0.23.0->openai) (2025.7.14)\n",
            "Requirement already satisfied: httpcore==1.* in /usr/local/lib/python3.11/dist-packages (from httpx<1,>=0.23.0->openai) (1.0.9)\n",
            "Requirement already satisfied: h11>=0.16 in /usr/local/lib/python3.11/dist-packages (from httpcore==1.*->httpx<1,>=0.23.0->openai) (0.16.0)\n",
            "Requirement already satisfied: annotated-types>=0.6.0 in /usr/local/lib/python3.11/dist-packages (from pydantic<3,>=1.9.0->openai) (0.7.0)\n",
            "Requirement already satisfied: pydantic-core==2.33.2 in /usr/local/lib/python3.11/dist-packages (from pydantic<3,>=1.9.0->openai) (2.33.2)\n",
            "Requirement already satisfied: typing-inspection>=0.4.0 in /usr/local/lib/python3.11/dist-packages (from pydantic<3,>=1.9.0->openai) (0.4.1)\n",
            "Downloading openai-1.97.0-py3-none-any.whl (764 kB)\n",
            "\u001b[2K   \u001b[90m━━━━━━━━━━━━━━━━━━━━━━━━━━━━━━━━━━━━━━━━\u001b[0m \u001b[32m765.0/765.0 kB\u001b[0m \u001b[31m11.2 MB/s\u001b[0m eta \u001b[36m0:00:00\u001b[0m\n",
            "\u001b[?25hInstalling collected packages: openai\n",
            "  Attempting uninstall: openai\n",
            "    Found existing installation: openai 1.96.1\n",
            "    Uninstalling openai-1.96.1:\n",
            "      Successfully uninstalled openai-1.96.1\n",
            "Successfully installed openai-1.97.0\n",
            "Enter your OpenAI API key: ··········\n"
          ]
        }
      ]
    },
    {
      "cell_type": "code",
      "source": [
        "# Initialize client\n",
        "client = OpenAI(api_key=api_key)"
      ],
      "metadata": {
        "id": "hVski7MBtj7z"
      },
      "execution_count": 29,
      "outputs": []
    },
    {
      "cell_type": "code",
      "source": [
        "#prompt\n",
        "\n",
        "prompt = \"\"\"\n",
        "You are an expert in control systems. Generate 5 fuzzy logic control rules.\n",
        "\n",
        "Inputs:\n",
        "- Temperature: very cool, cool, moderate, high, very high\n",
        "- Humidity: low, medium, high\n",
        "\n",
        "Outputs:\n",
        "- Fan Speed: low, medium, high\n",
        "- Compressor Voltage: low, medium, high\n",
        "- Heater Voltage: low, medium, high\n",
        "\n",
        "Rules must follow **this exact format**:\n",
        "IF temperature is [level] AND/OR humidity is [level] THEN fan_speed is [level], compressor_voltage is [level], heater_voltage is [level]\n",
        "\n",
        "Use only values from the lists. Do not add any extra text.\n",
        "use AND or OR as you wish\n",
        "\"\"\"\n"
      ],
      "metadata": {
        "id": "Xigt0PIitPgB"
      },
      "execution_count": 30,
      "outputs": []
    },
    {
      "cell_type": "code",
      "source": [
        "def get_temp_level(temp_c):\n",
        "    if temp_c <= 10:\n",
        "        return \"very cool\"\n",
        "    elif 11 <= temp_c <= 15:\n",
        "        return \"cool\"\n",
        "    elif 16 <= temp_c <= 25:\n",
        "        return \"moderate\"\n",
        "    elif 26 <= temp_c <= 30:\n",
        "        return \"high\"\n",
        "    else:\n",
        "        return \"very high\"\n",
        "\n",
        "def get_humidity_level(rh_percent):\n",
        "    if rh_percent <= 30:\n",
        "        return \"low\"\n",
        "    elif 31 <= rh_percent <= 60:\n",
        "        return \"medium\"\n",
        "    else:\n",
        "        return \"high\"\n",
        "\n",
        "# Example sensor input values:\n",
        "temperature_input = 22\n",
        "humidity_input = 45\n",
        "\n",
        "temp_level = get_temp_level(temperature_input)\n",
        "humidity_level = get_humidity_level(humidity_input)\n",
        "\n",
        "# Now create your prompt using these levels\n",
        "prompt1 = f\"\"\"\n",
        "You are an expert in control systems. Generate 5 fuzzy logic control rule.\n",
        "\n",
        "Inputs:\n",
        "- Temperature: very cool, cool, moderate, high, very high\n",
        "- Humidity: low, medium, high\n",
        "\n",
        "Outputs:\n",
        "- Fan Speed: low, medium, high\n",
        "- Compressor Voltage: low, medium, high\n",
        "- Heater Voltage: low, medium, high\n",
        "\n",
        "Rules must follow **this exact format**:\n",
        "IF temperature is {temp_level} AND/OR humidity is {humidity_level} THEN fan_speed is [level], compressor_voltage is [level], heater_voltage is [level]\n",
        "\n",
        "Use only values from the lists. Do not add any extra text.\n",
        "\"\"\"\n",
        "\n",
        "#rint(prompt)\n"
      ],
      "metadata": {
        "id": "312L_IVv3_fS"
      },
      "execution_count": null,
      "outputs": []
    },
    {
      "cell_type": "code",
      "source": [
        "# Get response from gpt\n",
        "\n",
        "response = client.chat.completions.create(\n",
        "    model=\"gpt-4o-mini\",\n",
        "    messages=[\n",
        "        {\"role\": \"user\", \"content\": prompt1}\n",
        "    ],\n",
        "    temperature=0.5,\n",
        ")\n",
        "\n",
        "# Extract content from response\n",
        "rules_text = response.choices[0].message.content\n",
        "print(rules_text)\n"
      ],
      "metadata": {
        "colab": {
          "base_uri": "https://localhost:8080/"
        },
        "id": "9YWDZ8Z0uZDq",
        "outputId": "e00ada54-912f-4ccc-f31a-d96b11459c0d"
      },
      "execution_count": null,
      "outputs": [
        {
          "output_type": "stream",
          "name": "stdout",
          "text": [
            "1. IF temperature is very cool AND humidity is low THEN fan_speed is low, compressor_voltage is low, heater_voltage is high  \n",
            "2. IF temperature is high AND humidity is medium THEN fan_speed is medium, compressor_voltage is high, heater_voltage is low  \n",
            "3. IF temperature is moderate AND humidity is high THEN fan_speed is high, compressor_voltage is medium, heater_voltage is low  \n",
            "4. IF temperature is cool AND humidity is low THEN fan_speed is low, compressor_voltage is medium, heater_voltage is medium  \n",
            "5. IF temperature is very high AND humidity is high THEN fan_speed is high, compressor_voltage is high, heater_voltage is low  \n"
          ]
        }
      ]
    },
    {
      "cell_type": "code",
      "source": [
        "def parse_fuzzy_rule(text, rule_index=1):\n",
        "    \"\"\"\n",
        "    Convert LLM output fuzzy rule into skfuzzy.ctrl.Rule format.\n",
        "    Returns a list of rule strings.\n",
        "    \"\"\"\n",
        "    import re\n",
        "\n",
        "    # Clean and split rule\n",
        "    rule_line = text.strip().replace(\"IF \", \"\")\n",
        "    condition_part, output_part = rule_line.split(\" THEN \")\n",
        "\n",
        "    # Detect logical operator\n",
        "    if \" AND \" in condition_part:\n",
        "        conds = condition_part.split(\" AND \")\n",
        "        join_op = \" & \"\n",
        "    elif \" OR \" in condition_part:\n",
        "        conds = condition_part.split(\" OR \")\n",
        "        join_op = \" | \"\n",
        "    else:\n",
        "        conds = [condition_part]\n",
        "        join_op = \"\"\n",
        "\n",
        "    # Process conditions\n",
        "    cond_exprs = []\n",
        "    for cond in conds:\n",
        "        var, level = cond.strip().split(\" is \")\n",
        "        var_map = {\n",
        "            \"temperature\": \"temp\",\n",
        "            \"humidity\": \"humidity\"\n",
        "        }\n",
        "        cond_exprs.append(f\"{var_map[var.strip()]}['{level.strip()}']\")\n",
        "\n",
        "    # Join conditions\n",
        "    full_condition = join_op.join(cond_exprs)\n",
        "\n",
        "    # Process outputs\n",
        "    outputs = output_part.split(\",\")\n",
        "    output_map = {\n",
        "        \"fan_speed\": \"f_speed\",\n",
        "        \"compressor_voltage\": \"c_volt\",\n",
        "        \"heater_voltage\": \"h_volt\"\n",
        "    }\n",
        "\n",
        "    rules = []\n",
        "    for i, out in enumerate(outputs):\n",
        "        var, level = out.strip().split(\" is \")\n",
        "        var = var.strip()\n",
        "        level = level.strip()\n",
        "        rule_str = f\"rule{rule_index}{chr(97 + i)} = ctrl.Rule({full_condition}, {output_map[var]}['{level}'])\"\n",
        "        rules.append(rule_str)\n",
        "\n",
        "    return rules\n"
      ],
      "metadata": {
        "id": "Senz0TOXv0lm"
      },
      "execution_count": null,
      "outputs": []
    },
    {
      "cell_type": "code",
      "source": [
        "import re\n",
        "\n",
        "# Clean and extract only lines that contain actual rules\n",
        "llm_rules = [re.sub(r\"^\\d+\\.\\s*\", \"\", line.strip()) for line in rules_text.split(\"\\n\") if \"IF\" in line and \"THEN\" in line]\n",
        "\n",
        "\n",
        "final_rules = []\n",
        "for i, rule in enumerate(llm_rules):\n",
        "    fuzzy_rules = parse_fuzzy_rule(rule, i + 1)\n",
        "    final_rules.extend(fuzzy_rules)\n",
        "\n",
        "# Print the final rules in scikit-fuzzy format\n",
        "\n",
        "for i, r in enumerate(final_rules, 1):\n",
        "    print(r)\n",
        "    if i % 3 == 0:\n",
        "        print()  # Add blank line after every 3 rules (i.e., after 1a,1b,1c)\n"
      ],
      "metadata": {
        "colab": {
          "base_uri": "https://localhost:8080/"
        },
        "id": "YQNhb-8KwWeV",
        "outputId": "6ce6b0bc-01bd-49be-9b21-06a8b27684c2"
      },
      "execution_count": null,
      "outputs": [
        {
          "output_type": "stream",
          "name": "stdout",
          "text": [
            "rule1a = ctrl.Rule(temp['very high'] & humidity['high'], f_speed['high'])\n",
            "rule1b = ctrl.Rule(temp['very high'] & humidity['high'], c_volt['high'])\n",
            "rule1c = ctrl.Rule(temp['very high'] & humidity['high'], h_volt['low'])\n",
            "\n",
            "rule2a = ctrl.Rule(temp['moderate'] & humidity['medium'], f_speed['medium'])\n",
            "rule2b = ctrl.Rule(temp['moderate'] & humidity['medium'], c_volt['medium'])\n",
            "rule2c = ctrl.Rule(temp['moderate'] & humidity['medium'], h_volt['low'])\n",
            "\n",
            "rule3a = ctrl.Rule(temp['cool'] | humidity['low'], f_speed['low'])\n",
            "rule3b = ctrl.Rule(temp['cool'] | humidity['low'], c_volt['low'])\n",
            "rule3c = ctrl.Rule(temp['cool'] | humidity['low'], h_volt['medium'])\n",
            "\n",
            "rule4a = ctrl.Rule(temp['high'] & humidity['low'], f_speed['medium'])\n",
            "rule4b = ctrl.Rule(temp['high'] & humidity['low'], c_volt['medium'])\n",
            "rule4c = ctrl.Rule(temp['high'] & humidity['low'], h_volt['low'])\n",
            "\n",
            "rule5a = ctrl.Rule(temp['very cool'] & humidity['high'], f_speed['low'])\n",
            "rule5b = ctrl.Rule(temp['very cool'] & humidity['high'], c_volt['low'])\n",
            "rule5c = ctrl.Rule(temp['very cool'] & humidity['high'], h_volt['high'])\n",
            "\n"
          ]
        }
      ]
    },
    {
      "cell_type": "code",
      "source": [
        "#build control system\n",
        "control_system = ctrl.ControlSystem([\n",
        "    rule1a, rule1b, rule1c,\n",
        "    rule2a, rule2b, rule2c,\n",
        "    rule3a, rule3b, rule3c,\n",
        "    rule4a, rule4b, rule4c,\n",
        "    rule5a, rule5b, rule5c\n",
        "])\n"
      ],
      "metadata": {
        "id": "3Lpj82UVyh9x"
      },
      "execution_count": null,
      "outputs": []
    },
    {
      "cell_type": "code",
      "source": [
        "#build fuzzy system\n",
        "\n",
        "fuzzy_system = ctrl.ControlSystemSimulation(control_system)\n",
        "fuzzy_system\n"
      ],
      "metadata": {
        "colab": {
          "base_uri": "https://localhost:8080/"
        },
        "id": "Pud8ZDAtyluj",
        "outputId": "6b841afa-e78e-41e4-d76e-7c250fedcc77"
      },
      "execution_count": null,
      "outputs": [
        {
          "output_type": "execute_result",
          "data": {
            "text/plain": [
              "<skfuzzy.control.controlsystem.ControlSystemSimulation at 0x795a87c671d0>"
            ]
          },
          "metadata": {},
          "execution_count": 34
        }
      ]
    },
    {
      "cell_type": "code",
      "source": [
        "#testing demo values\n",
        "\n",
        "fuzzy_system.input['temperature'] = 25\n",
        "fuzzy_system.input['humidity'] = 50\n",
        "\n",
        "fuzzy_system.compute()\n",
        "\n",
        "print(\"Fan Speed:\", round((fuzzy_system.output['f_speed']),4))\n",
        "print(\"Compressor Voltage:\", round((fuzzy_system.output['c_volt']),4))\n",
        "print(\"Heater Voltage:\", round((fuzzy_system.output['h_volt']),4))\n",
        "\n",
        "#f_speed.view(sim = fuzzy_system)\n",
        "#c_volt.view(sim = fuzzy_system)\n",
        "#h_volt.view(sim = fuzzy_system)\n"
      ],
      "metadata": {
        "colab": {
          "base_uri": "https://localhost:8080/"
        },
        "id": "w3nPt-qgyomB",
        "outputId": "1d6aa917-4064-4578-8363-72b11d6e5bab"
      },
      "execution_count": null,
      "outputs": [
        {
          "output_type": "stream",
          "name": "stdout",
          "text": [
            "Fan Speed: 46.3941\n",
            "Compressor Voltage: 2.4364\n",
            "Heater Voltage: 2.4364\n"
          ]
        }
      ]
    },
    {
      "cell_type": "markdown",
      "source": [
        "##New Prompt July 19tth"
      ],
      "metadata": {
        "id": "KBEr9_IOe03F"
      }
    },
    {
      "cell_type": "code",
      "source": [
        "# Define the prompt\n",
        "prompt = \"\"\"\n",
        "Generate a set of fuzzy logic rules for an HVAC system to control temperature and humidity, optimizing for minimal power consumption while maintaining comfort (reaching set points). The system has two inputs:\n",
        "- Temperature error (t_error_sf): linguistic terms are t_er_exneg, t_er_neg, t_er_zero, t_er_pos, t_er_expos.\n",
        "- Humidity error (h_error_sf): linguistic terms are h_er_exneg, h_er_neg, h_er_zero, h_er_pos, h_er_expos.\n",
        "The system has four outputs:\n",
        "- Fan speed (fspeed_sf): very_slow, slow, f_medium, fast, very_fast.\n",
        "- Cooler voltage (cvolt_sf): very_low_c, low_c, c_medium, high_c, very_high_c.\n",
        "- Heater voltage (hvolt_sf): very_low_h, low_h, h_medium, high_h, very_high_h.\n",
        "- Humidifier moisture (humidmost_sf): very_light_m, light_m, m_medium, heavy_m, very_heavy_m.\n",
        "Rules should be thermodynamically correct:\n",
        "- If t_error_sf is positive (t_er_pos, t_er_expos), increase hvolt_sf, minimize cvolt_sf, use moderate to high fspeed_sf.\n",
        "- If t_error_sf is negative (t_er_neg, t_er_exneg), increase cvolt_sf, minimize hvolt_sf, use moderate to high fspeed_sf.\n",
        "- If t_error_sf is t_er_zero, minimize both hvolt_sf and cvolt_sf, use very_slow fspeed_sf.\n",
        "- If h_error_sf is positive (h_er_pos, h_er_expos), increase humidmost_sf.\n",
        "- If h_error_sf is negative (h_er_neg, h_er_exneg), minimize humidmost_sf, increase cvolt_sf for dehumidification if temperature allows.\n",
        "- Avoid simultaneous high hvolt_sf and cvolt_sf to save energy.\n",
        "Generate at least 12 rules covering key combinations, including t_error_af = t_er_expos and h_error_sf = h_er_neg. Output each rule must follow **this exact format**:\n",
        "IF t_error_sf is [level] AND/OR h_error_sf_sf is [level] THEN fspeed_sf is [level], cvolt_sf is [level], hvolt_sf is [level], humidmost_sf is [level]\n",
        "Ensure rules are concise and use AND or OR for combining inputs.\n",
        "\"\"\"\n",
        "\n"
      ],
      "metadata": {
        "id": "d3i6WqZmLD9Q"
      },
      "execution_count": 31,
      "outputs": []
    },
    {
      "cell_type": "code",
      "source": [
        "# Get response from gpt\n",
        "\n",
        "response = client.chat.completions.create(\n",
        "    model=\"gpt-4o-mini\",\n",
        "    messages=[\n",
        "        {\"role\": \"user\", \"content\": prompt\n",
        "    ],\n",
        "    temperature=0.3,\n",
        ")\n",
        "\n",
        "# Extract content from response\n",
        "rules_text = response.choices[0].message.content\n",
        "print(rules_text)"
      ],
      "metadata": {
        "id": "9FmMmamjMivC",
        "outputId": "e49723c2-f6d3-46fd-9115-c2ddbd070a74",
        "colab": {
          "base_uri": "https://localhost:8080/"
        }
      },
      "execution_count": 32,
      "outputs": [
        {
          "output_type": "stream",
          "name": "stdout",
          "text": [
            "Here is a set of fuzzy logic rules for the HVAC system that optimizes for minimal power consumption while maintaining comfort:\n",
            "\n",
            "1. IF t_error_sf is t_er_expos AND h_error_sf is h_er_neg THEN fspeed_sf is fast, cvolt_sf is high_c, hvolt_sf is very_low_h, humidmost_sf is very_light_m\n",
            "2. IF t_error_sf is t_er_pos AND h_error_sf is h_er_zero THEN fspeed_sf is moderate, cvolt_sf is very_low_c, hvolt_sf is high_h, humidmost_sf is very_light_m\n",
            "3. IF t_error_sf is t_er_pos AND h_error_sf is h_er_pos THEN fspeed_sf is fast, cvolt_sf is very_low_c, hvolt_sf is high_h, humidmost_sf is heavy_m\n",
            "4. IF t_error_sf is t_er_neg AND h_error_sf is h_er_exneg THEN fspeed_sf is moderate, cvolt_sf is high_c, hvolt_sf is very_low_h, humidmost_sf is very_light_m\n",
            "5. IF t_error_sf is t_er_neg AND h_error_sf is h_er_zero THEN fspeed_sf is moderate, cvolt_sf is high_c, hvolt_sf is very_low_h, humidmost_sf is very_light_m\n",
            "6. IF t_error_sf is t_er_zero AND h_error_sf is h_er_pos THEN fspeed_sf is very_slow, cvolt_sf is very_low_c, hvolt_sf is very_low_h, humidmost_sf is heavy_m\n",
            "7. IF t_error_sf is t_er_zero AND h_error_sf is h_er_neg THEN fspeed_sf is very_slow, cvolt_sf is very_low_c, hvolt_sf is very_low_h, humidmost_sf is very_light_m\n",
            "8. IF t_error_sf is t_er_exneg AND h_error_sf is h_er_pos THEN fspeed_sf is fast, cvolt_sf is very_low_c, hvolt_sf is very_low_h, humidmost_sf is heavy_m\n",
            "9. IF t_error_sf is t_er_exneg AND h_error_sf is h_er_zero THEN fspeed_sf is slow, cvolt_sf is very_low_c, hvolt_sf is very_low_h, humidmost_sf is very_light_m\n",
            "10. IF t_error_sf is t_er_pos AND h_error_sf is h_er_exneg THEN fspeed_sf is fast, cvolt_sf is very_low_c, hvolt_sf is high_h, humidmost_sf is very_light_m\n",
            "11. IF t_error_sf is t_er_expos AND h_error_sf is h_er_zero THEN fspeed_sf is fast, cvolt_sf is very_low_c, hvolt_sf is high_h, humidmost_sf is very_light_m\n",
            "12. IF t_error_sf is t_er_zero AND h_error_sf is h_er_expos THEN fspeed_sf is very_slow, cvolt_sf is very_low_c, hvolt_sf is very_low_h, humidmost_sf is heavy_m\n",
            "\n",
            "These rules cover various combinations of temperature and humidity errors while ensuring energy efficiency and comfort.\n"
          ]
        }
      ]
    },
    {
      "cell_type": "code",
      "source": [
        "# Parse rules into scikit-fuzzy ctrl.Rule objects\n",
        "rules = []\n",
        "for rule in rules_text.strip().split('\\n'):\n",
        "    if rule.startswith(\"IF\") or rule.startswith(\"1. IF\"):  # Handle numbered rules\n",
        "        # Remove numbering if present (e.g., \"1. IF\" -> \"IF\")\n",
        "        rule = rule.split(\"IF\", 1)[1] if rule.startswith(\"1.\") else rule\n",
        "        # Split into condition and outputs: \"IF ... THEN ...\"\n",
        "        parts = rule.replace(\"IF \", \"\").replace(\" THEN \", \"|\").split(\"|\")\n",
        "        condition, outputs = parts[0], parts[1]\n",
        "        # Parse condition: \"t_error_sf is t_er_expos AND h_error_sf is h_er_neg\"\n",
        "        cond_parts = condition.split(\" AND \")\n",
        "        temp_cond = cond_parts[0].split(\" is \")[1].strip()\n",
        "        humid_cond = cond_parts[1].split(\" is \")[1].strip()\n",
        "        # Parse outputs: \"fspeed_sf is fast, cvolt_sf is high_c, hvolt_sf is very_low_h, humidmost_sf is very_light_m\"\n",
        "        output_parts = outputs.split(\", \")\n",
        "        fan_out = output_parts[0].split(\" is \")[1].strip()\n",
        "        cooler_out = output_parts[1].split(\" is \")[1].strip()\n",
        "        heater_out = output_parts[2].split(\" is \")[1].strip()\n",
        "        humid_out = output_parts[3].split(\" is \")[1].strip()\n",
        "        # Fix typo in humidifier output (humidmost_sf -> humidmoist_sf)\n",
        "        humid_out = humid_out.replace(\"humidmost_sf\", \"humidmoist_sf\")\n",
        "        # Map 'moderate' to 'f_medium' for fspeed_sf\n",
        "        fan_out = \"f_medium\" if fan_out == \"moderate\" else fan_out\n",
        "        # Create rule in desired format\n",
        "        rule_str = (f\"ctrl.Rule(t_error_sf['{temp_cond}'] & h_error_sf['{humid_cond}'], \"\n",
        "                    f\"[fspeed_sf['{fan_out}'], cvolt_sf['{cooler_out}'], hvolt_sf['{heater_out}'], humidmoist_sf['{humid_out}']])\")\n",
        "        rules.append(rule_str)\n",
        "\n",
        "# Print rules in the requested format\n",
        "for rule_str in rules:\n",
        "    print(rule_str)\n",
        "\n",
        "# Create actual ctrl.Rule objects (assuming antecedents/consequents are defined)\n",
        "fuzzy_rules = []\n",
        "for rule in rules_text.strip().split('\\n'):\n",
        "    if rule.startswith(\"IF\") or rule.startswith(\"1. IF\"):\n",
        "        rule = rule.split(\"IF\", 1)[1] if rule.startswith(\"1.\") else rule\n",
        "        parts = rule.replace(\"IF \", \"\").replace(\" THEN \", \"|\").split(\"|\")\n",
        "        condition, outputs = parts[0], parts[1]\n",
        "        cond_parts = condition.split(\" AND \")\n",
        "        temp_cond = cond_parts[0].split(\" is \")[1].strip()\n",
        "        humid_cond = cond_parts[1].split(\" is \")[1].strip()\n",
        "        output_parts = outputs.split(\", \")\n",
        "        fan_out = output_parts[0].split(\" is \")[1].strip()\n",
        "        cooler_out = output_parts[1].split(\" is \")[1].strip()\n",
        "        heater_out = output_parts[2].split(\" is \")[1].strip()\n",
        "        humid_out = output_parts[3].split(\" is \")[1].strip()\n",
        "        humid_out = humid_out.replace(\"humidmost_sf\", \"humidmoist_sf\")\n",
        "        fan_out = \"f_medium\" if fan_out == \"moderate\" else fan_out\n",
        "        fuzzy_rule = ctrl.Rule(\n",
        "            t_error_sf[temp_cond] & h_error_sf[humid_cond],\n",
        "            [fspeed_sf[fan_out], cvolt_sf[cooler_out], hvolt_sf[heater_out], humidmoist_sf[humid_out]]\n",
        "        )\n",
        "        fuzzy_rules.append(fuzzy_rule)"
      ],
      "metadata": {
        "id": "EFGRb8h6RX6K",
        "outputId": "57c77c67-553d-48c6-df68-7f95fec58264",
        "colab": {
          "base_uri": "https://localhost:8080/"
        }
      },
      "execution_count": 33,
      "outputs": [
        {
          "output_type": "stream",
          "name": "stdout",
          "text": [
            "ctrl.Rule(t_error_sf['t_er_expos'] & h_error_sf['h_er_neg'], [fspeed_sf['fast'], cvolt_sf['high_c'], hvolt_sf['very_low_h'], humidmoist_sf['very_light_m']])\n"
          ]
        }
      ]
    },
    {
      "cell_type": "code",
      "source": [
        "# Create control system\n",
        "control_system = ctrl.ControlSystem(fuzzy_rules)\n",
        "fuzzy_system = ctrl.ControlSystemSimulation(control_system)\n",
        "\n",
        "# Test with demo values\n",
        "fuzzy_system.input['temp_error'] = 5\n",
        "fuzzy_system.input['humid_error'] = -2\n",
        "fuzzy_system.compute()\n",
        "\n",
        "# Print outputs\n",
        "print(\"\\nFan Speed:\", fuzzy_system.output['fan_speed'])\n",
        "print(\"Cooler Voltage:\", fuzzy_system.output['cooler_volt'])\n",
        "print(\"Heater Voltage:\", fuzzy_system.output['heater_volt'])\n",
        "print(\"Moisture:\", fuzzy_system.output['moisture'])\n",
        "\n",
        "# Visualize outputs\n",
        "'''fspeed_sf.view(sim=fuzzy_system)\n",
        "cvolt_sf.view(sim=fuzzy_system)\n",
        "hvolt_sf.view(sim=fuzzy_system)\n",
        "humidmoist_sf.view(sim=fuzzy_system)'''"
      ],
      "metadata": {
        "id": "1GdoQAL5TOYv",
        "outputId": "dec426d0-9dd3-417d-f80e-86ec93d2e8d8",
        "colab": {
          "base_uri": "https://localhost:8080/",
          "height": 124
        }
      },
      "execution_count": 34,
      "outputs": [
        {
          "output_type": "stream",
          "name": "stdout",
          "text": [
            "\n",
            "Fan Speed: 0.7333333333333333\n",
            "Cooler Voltage: 0.7333333333333333\n",
            "Heater Voltage: 0.07777777777777779\n",
            "Moisture: 0.07777777777777779\n"
          ]
        },
        {
          "output_type": "execute_result",
          "data": {
            "text/plain": [
              "'fspeed_sf.view(sim=fuzzy_system)\\ncvolt_sf.view(sim=fuzzy_system)\\nhvolt_sf.view(sim=fuzzy_system)\\nhumidmoist_sf.view(sim=fuzzy_system)'"
            ],
            "application/vnd.google.colaboratory.intrinsic+json": {
              "type": "string"
            }
          },
          "metadata": {},
          "execution_count": 34
        }
      ]
    },
    {
      "cell_type": "markdown",
      "source": [
        "##Send API csv and get new rule set"
      ],
      "metadata": {
        "id": "fHUMWPrWfNtY"
      }
    },
    {
      "cell_type": "code",
      "source": [
        "from google.colab import files\n",
        "uploaded = files.upload()\n"
      ],
      "metadata": {
        "id": "KxJ1O-k4gRPW",
        "outputId": "684624f0-72fc-4768-95e1-b8195e0a7715",
        "colab": {
          "base_uri": "https://localhost:8080/",
          "height": 77
        }
      },
      "execution_count": 2,
      "outputs": [
        {
          "output_type": "display_data",
          "data": {
            "text/plain": [
              "<IPython.core.display.HTML object>"
            ],
            "text/html": [
              "\n",
              "     <input type=\"file\" id=\"files-38aac946-daa3-4248-9974-ae0914c01a6e\" name=\"files[]\" multiple disabled\n",
              "        style=\"border:none\" />\n",
              "     <output id=\"result-38aac946-daa3-4248-9974-ae0914c01a6e\">\n",
              "      Upload widget is only available when the cell has been executed in the\n",
              "      current browser session. Please rerun this cell to enable.\n",
              "      </output>\n",
              "      <script>// Copyright 2017 Google LLC\n",
              "//\n",
              "// Licensed under the Apache License, Version 2.0 (the \"License\");\n",
              "// you may not use this file except in compliance with the License.\n",
              "// You may obtain a copy of the License at\n",
              "//\n",
              "//      http://www.apache.org/licenses/LICENSE-2.0\n",
              "//\n",
              "// Unless required by applicable law or agreed to in writing, software\n",
              "// distributed under the License is distributed on an \"AS IS\" BASIS,\n",
              "// WITHOUT WARRANTIES OR CONDITIONS OF ANY KIND, either express or implied.\n",
              "// See the License for the specific language governing permissions and\n",
              "// limitations under the License.\n",
              "\n",
              "/**\n",
              " * @fileoverview Helpers for google.colab Python module.\n",
              " */\n",
              "(function(scope) {\n",
              "function span(text, styleAttributes = {}) {\n",
              "  const element = document.createElement('span');\n",
              "  element.textContent = text;\n",
              "  for (const key of Object.keys(styleAttributes)) {\n",
              "    element.style[key] = styleAttributes[key];\n",
              "  }\n",
              "  return element;\n",
              "}\n",
              "\n",
              "// Max number of bytes which will be uploaded at a time.\n",
              "const MAX_PAYLOAD_SIZE = 100 * 1024;\n",
              "\n",
              "function _uploadFiles(inputId, outputId) {\n",
              "  const steps = uploadFilesStep(inputId, outputId);\n",
              "  const outputElement = document.getElementById(outputId);\n",
              "  // Cache steps on the outputElement to make it available for the next call\n",
              "  // to uploadFilesContinue from Python.\n",
              "  outputElement.steps = steps;\n",
              "\n",
              "  return _uploadFilesContinue(outputId);\n",
              "}\n",
              "\n",
              "// This is roughly an async generator (not supported in the browser yet),\n",
              "// where there are multiple asynchronous steps and the Python side is going\n",
              "// to poll for completion of each step.\n",
              "// This uses a Promise to block the python side on completion of each step,\n",
              "// then passes the result of the previous step as the input to the next step.\n",
              "function _uploadFilesContinue(outputId) {\n",
              "  const outputElement = document.getElementById(outputId);\n",
              "  const steps = outputElement.steps;\n",
              "\n",
              "  const next = steps.next(outputElement.lastPromiseValue);\n",
              "  return Promise.resolve(next.value.promise).then((value) => {\n",
              "    // Cache the last promise value to make it available to the next\n",
              "    // step of the generator.\n",
              "    outputElement.lastPromiseValue = value;\n",
              "    return next.value.response;\n",
              "  });\n",
              "}\n",
              "\n",
              "/**\n",
              " * Generator function which is called between each async step of the upload\n",
              " * process.\n",
              " * @param {string} inputId Element ID of the input file picker element.\n",
              " * @param {string} outputId Element ID of the output display.\n",
              " * @return {!Iterable<!Object>} Iterable of next steps.\n",
              " */\n",
              "function* uploadFilesStep(inputId, outputId) {\n",
              "  const inputElement = document.getElementById(inputId);\n",
              "  inputElement.disabled = false;\n",
              "\n",
              "  const outputElement = document.getElementById(outputId);\n",
              "  outputElement.innerHTML = '';\n",
              "\n",
              "  const pickedPromise = new Promise((resolve) => {\n",
              "    inputElement.addEventListener('change', (e) => {\n",
              "      resolve(e.target.files);\n",
              "    });\n",
              "  });\n",
              "\n",
              "  const cancel = document.createElement('button');\n",
              "  inputElement.parentElement.appendChild(cancel);\n",
              "  cancel.textContent = 'Cancel upload';\n",
              "  const cancelPromise = new Promise((resolve) => {\n",
              "    cancel.onclick = () => {\n",
              "      resolve(null);\n",
              "    };\n",
              "  });\n",
              "\n",
              "  // Wait for the user to pick the files.\n",
              "  const files = yield {\n",
              "    promise: Promise.race([pickedPromise, cancelPromise]),\n",
              "    response: {\n",
              "      action: 'starting',\n",
              "    }\n",
              "  };\n",
              "\n",
              "  cancel.remove();\n",
              "\n",
              "  // Disable the input element since further picks are not allowed.\n",
              "  inputElement.disabled = true;\n",
              "\n",
              "  if (!files) {\n",
              "    return {\n",
              "      response: {\n",
              "        action: 'complete',\n",
              "      }\n",
              "    };\n",
              "  }\n",
              "\n",
              "  for (const file of files) {\n",
              "    const li = document.createElement('li');\n",
              "    li.append(span(file.name, {fontWeight: 'bold'}));\n",
              "    li.append(span(\n",
              "        `(${file.type || 'n/a'}) - ${file.size} bytes, ` +\n",
              "        `last modified: ${\n",
              "            file.lastModifiedDate ? file.lastModifiedDate.toLocaleDateString() :\n",
              "                                    'n/a'} - `));\n",
              "    const percent = span('0% done');\n",
              "    li.appendChild(percent);\n",
              "\n",
              "    outputElement.appendChild(li);\n",
              "\n",
              "    const fileDataPromise = new Promise((resolve) => {\n",
              "      const reader = new FileReader();\n",
              "      reader.onload = (e) => {\n",
              "        resolve(e.target.result);\n",
              "      };\n",
              "      reader.readAsArrayBuffer(file);\n",
              "    });\n",
              "    // Wait for the data to be ready.\n",
              "    let fileData = yield {\n",
              "      promise: fileDataPromise,\n",
              "      response: {\n",
              "        action: 'continue',\n",
              "      }\n",
              "    };\n",
              "\n",
              "    // Use a chunked sending to avoid message size limits. See b/62115660.\n",
              "    let position = 0;\n",
              "    do {\n",
              "      const length = Math.min(fileData.byteLength - position, MAX_PAYLOAD_SIZE);\n",
              "      const chunk = new Uint8Array(fileData, position, length);\n",
              "      position += length;\n",
              "\n",
              "      const base64 = btoa(String.fromCharCode.apply(null, chunk));\n",
              "      yield {\n",
              "        response: {\n",
              "          action: 'append',\n",
              "          file: file.name,\n",
              "          data: base64,\n",
              "        },\n",
              "      };\n",
              "\n",
              "      let percentDone = fileData.byteLength === 0 ?\n",
              "          100 :\n",
              "          Math.round((position / fileData.byteLength) * 100);\n",
              "      percent.textContent = `${percentDone}% done`;\n",
              "\n",
              "    } while (position < fileData.byteLength);\n",
              "  }\n",
              "\n",
              "  // All done.\n",
              "  yield {\n",
              "    response: {\n",
              "      action: 'complete',\n",
              "    }\n",
              "  };\n",
              "}\n",
              "\n",
              "scope.google = scope.google || {};\n",
              "scope.google.colab = scope.google.colab || {};\n",
              "scope.google.colab._files = {\n",
              "  _uploadFiles,\n",
              "  _uploadFilesContinue,\n",
              "};\n",
              "})(self);\n",
              "</script> "
            ]
          },
          "metadata": {}
        },
        {
          "output_type": "stream",
          "name": "stdout",
          "text": [
            "Saving 2025-07-20_10-10_Fuzzy_Control.csv to 2025-07-20_10-10_Fuzzy_Control.csv\n"
          ]
        }
      ]
    },
    {
      "cell_type": "code",
      "source": [
        "import pandas as pd\n",
        "\n",
        "# Replace 'yourfile.csv' with the actual file name you uploaded\n",
        "df = pd.read_csv('2025-07-20_10-10_Fuzzy_Control.csv')\n",
        "\n",
        "# Step 2: Preview data\n",
        "print(\"Columns:\\n\", df.columns.tolist())\n",
        "print(\"Shape:\", df.shape)\n",
        "print(\"First few rows:\")\n",
        "display(df.head())\n"
      ],
      "metadata": {
        "id": "WUOLiSBmfUlh",
        "outputId": "0757c284-6d69-430b-9fbf-a7795ca32693",
        "colab": {
          "base_uri": "https://localhost:8080/",
          "height": 412
        }
      },
      "execution_count": 19,
      "outputs": [
        {
          "output_type": "stream",
          "name": "stdout",
          "text": [
            "Columns:\n",
            " ['Control_Air_AF', 'Control_Cooling_PW', 'Control_Heating_PW', 'Control_Humidifier', 'Control_Vent_AF', 'E_cooling_kWh', 'E_fan_kWh', 'E_heating_kWh', 'E_humidifier_kWh', 'E_total_kWh', 'N_Occ', 'Q_Equ', 'Q_L_total', 'Q_S_envelope', 'Q_S_total', 'RH_Coil', 'RH_MA', 'RH_Out', 'RH_fan', 'RH_final', 'RH_out', 'RH_room', 'T_Coil', 'T_MA', 'T_Out', 'T_dew', 'T_fan', 'T_final', 'T_out', 'T_room', 'W_Coil', 'W_MA', 'W_Out', 'W_fan', 'W_final', 'W_room', 'controller_state', 'h_Coil', 'h_MA', 'h_Out', 'h_fan', 'h_final', 'h_room', 'timestamp', 'ΔT_fan']\n",
            "Shape: (61, 45)\n",
            "First few rows:\n"
          ]
        },
        {
          "output_type": "display_data",
          "data": {
            "text/plain": [
              "   Control_Air_AF  Control_Cooling_PW  Control_Heating_PW  Control_Humidifier  \\\n",
              "0        0.732937            0.732937            0.300000            0.300000   \n",
              "1        0.577843            0.577843            0.424681            0.424681   \n",
              "2        0.825121            0.825121            0.197802            0.197802   \n",
              "3        0.794968            0.794968            0.233101            0.233101   \n",
              "4        0.891495            0.891495            0.118643            0.118643   \n",
              "\n",
              "   Control_Vent_AF  E_cooling_kWh  E_fan_kWh  E_heating_kWh  E_humidifier_kWh  \\\n",
              "0              0.1       0.195450   0.013333       0.064000          0.000040   \n",
              "1              0.1       0.154091   0.013333       0.090599          0.000057   \n",
              "2              0.1       0.220032   0.013333       0.042198          0.000026   \n",
              "3              0.1       0.211992   0.013333       0.049728          0.000031   \n",
              "4              0.1       0.237732   0.013333       0.025310          0.000016   \n",
              "\n",
              "   E_total_kWh  ...    W_room  \\\n",
              "0     0.272823  ...  0.011895   \n",
              "1     0.258080  ...  0.014204   \n",
              "2     0.275590  ...  0.016723   \n",
              "3     0.275084  ...  0.016936   \n",
              "4     0.276392  ...  0.017437   \n",
              "\n",
              "                                    controller_state        h_Coil  \\\n",
              "0  {'Temperature_setpoint': 22.5, 'Humidity_setpo...  47494.539590   \n",
              "1  {'Temperature_setpoint': 22.5, 'Humidity_setpo...  50823.271555   \n",
              "2  {'Temperature_setpoint': 22.5, 'Humidity_setpo...  59466.738985   \n",
              "3  {'Temperature_setpoint': 22.5, 'Humidity_setpo...  59547.504490   \n",
              "4  {'Temperature_setpoint': 22.5, 'Humidity_setpo...  62185.927297   \n",
              "\n",
              "           h_MA         h_Out         h_fan       h_final        h_room  \\\n",
              "0  56001.136757  50846.197160  47998.245467  59296.070358  55452.636141   \n",
              "1  59284.977838  56578.232422  51483.658920  69239.160718  59296.070358   \n",
              "2  68038.436484  61607.906600  59917.520801  69410.938071  69239.160718   \n",
              "3  68110.019966  62070.253734  60004.794311  72297.870227  69410.938071   \n",
              "4  70795.347962  63535.996780  62592.188575  70935.229151  72297.870227   \n",
              "\n",
              "       timestamp    ΔT_fan  \n",
              "0  7/8/2021 8:00  0.577422  \n",
              "1  7/8/2021 8:01  0.728538  \n",
              "2  7/8/2021 8:02  0.516836  \n",
              "3  7/8/2021 8:03  0.535865  \n",
              "4  7/8/2021 8:04  0.480462  \n",
              "\n",
              "[5 rows x 45 columns]"
            ],
            "text/html": [
              "\n",
              "  <div id=\"df-b97aa3fc-7273-4e3f-9ae0-d833781e517f\" class=\"colab-df-container\">\n",
              "    <div>\n",
              "<style scoped>\n",
              "    .dataframe tbody tr th:only-of-type {\n",
              "        vertical-align: middle;\n",
              "    }\n",
              "\n",
              "    .dataframe tbody tr th {\n",
              "        vertical-align: top;\n",
              "    }\n",
              "\n",
              "    .dataframe thead th {\n",
              "        text-align: right;\n",
              "    }\n",
              "</style>\n",
              "<table border=\"1\" class=\"dataframe\">\n",
              "  <thead>\n",
              "    <tr style=\"text-align: right;\">\n",
              "      <th></th>\n",
              "      <th>Control_Air_AF</th>\n",
              "      <th>Control_Cooling_PW</th>\n",
              "      <th>Control_Heating_PW</th>\n",
              "      <th>Control_Humidifier</th>\n",
              "      <th>Control_Vent_AF</th>\n",
              "      <th>E_cooling_kWh</th>\n",
              "      <th>E_fan_kWh</th>\n",
              "      <th>E_heating_kWh</th>\n",
              "      <th>E_humidifier_kWh</th>\n",
              "      <th>E_total_kWh</th>\n",
              "      <th>...</th>\n",
              "      <th>W_room</th>\n",
              "      <th>controller_state</th>\n",
              "      <th>h_Coil</th>\n",
              "      <th>h_MA</th>\n",
              "      <th>h_Out</th>\n",
              "      <th>h_fan</th>\n",
              "      <th>h_final</th>\n",
              "      <th>h_room</th>\n",
              "      <th>timestamp</th>\n",
              "      <th>ΔT_fan</th>\n",
              "    </tr>\n",
              "  </thead>\n",
              "  <tbody>\n",
              "    <tr>\n",
              "      <th>0</th>\n",
              "      <td>0.732937</td>\n",
              "      <td>0.732937</td>\n",
              "      <td>0.300000</td>\n",
              "      <td>0.300000</td>\n",
              "      <td>0.1</td>\n",
              "      <td>0.195450</td>\n",
              "      <td>0.013333</td>\n",
              "      <td>0.064000</td>\n",
              "      <td>0.000040</td>\n",
              "      <td>0.272823</td>\n",
              "      <td>...</td>\n",
              "      <td>0.011895</td>\n",
              "      <td>{'Temperature_setpoint': 22.5, 'Humidity_setpo...</td>\n",
              "      <td>47494.539590</td>\n",
              "      <td>56001.136757</td>\n",
              "      <td>50846.197160</td>\n",
              "      <td>47998.245467</td>\n",
              "      <td>59296.070358</td>\n",
              "      <td>55452.636141</td>\n",
              "      <td>7/8/2021 8:00</td>\n",
              "      <td>0.577422</td>\n",
              "    </tr>\n",
              "    <tr>\n",
              "      <th>1</th>\n",
              "      <td>0.577843</td>\n",
              "      <td>0.577843</td>\n",
              "      <td>0.424681</td>\n",
              "      <td>0.424681</td>\n",
              "      <td>0.1</td>\n",
              "      <td>0.154091</td>\n",
              "      <td>0.013333</td>\n",
              "      <td>0.090599</td>\n",
              "      <td>0.000057</td>\n",
              "      <td>0.258080</td>\n",
              "      <td>...</td>\n",
              "      <td>0.014204</td>\n",
              "      <td>{'Temperature_setpoint': 22.5, 'Humidity_setpo...</td>\n",
              "      <td>50823.271555</td>\n",
              "      <td>59284.977838</td>\n",
              "      <td>56578.232422</td>\n",
              "      <td>51483.658920</td>\n",
              "      <td>69239.160718</td>\n",
              "      <td>59296.070358</td>\n",
              "      <td>7/8/2021 8:01</td>\n",
              "      <td>0.728538</td>\n",
              "    </tr>\n",
              "    <tr>\n",
              "      <th>2</th>\n",
              "      <td>0.825121</td>\n",
              "      <td>0.825121</td>\n",
              "      <td>0.197802</td>\n",
              "      <td>0.197802</td>\n",
              "      <td>0.1</td>\n",
              "      <td>0.220032</td>\n",
              "      <td>0.013333</td>\n",
              "      <td>0.042198</td>\n",
              "      <td>0.000026</td>\n",
              "      <td>0.275590</td>\n",
              "      <td>...</td>\n",
              "      <td>0.016723</td>\n",
              "      <td>{'Temperature_setpoint': 22.5, 'Humidity_setpo...</td>\n",
              "      <td>59466.738985</td>\n",
              "      <td>68038.436484</td>\n",
              "      <td>61607.906600</td>\n",
              "      <td>59917.520801</td>\n",
              "      <td>69410.938071</td>\n",
              "      <td>69239.160718</td>\n",
              "      <td>7/8/2021 8:02</td>\n",
              "      <td>0.516836</td>\n",
              "    </tr>\n",
              "    <tr>\n",
              "      <th>3</th>\n",
              "      <td>0.794968</td>\n",
              "      <td>0.794968</td>\n",
              "      <td>0.233101</td>\n",
              "      <td>0.233101</td>\n",
              "      <td>0.1</td>\n",
              "      <td>0.211992</td>\n",
              "      <td>0.013333</td>\n",
              "      <td>0.049728</td>\n",
              "      <td>0.000031</td>\n",
              "      <td>0.275084</td>\n",
              "      <td>...</td>\n",
              "      <td>0.016936</td>\n",
              "      <td>{'Temperature_setpoint': 22.5, 'Humidity_setpo...</td>\n",
              "      <td>59547.504490</td>\n",
              "      <td>68110.019966</td>\n",
              "      <td>62070.253734</td>\n",
              "      <td>60004.794311</td>\n",
              "      <td>72297.870227</td>\n",
              "      <td>69410.938071</td>\n",
              "      <td>7/8/2021 8:03</td>\n",
              "      <td>0.535865</td>\n",
              "    </tr>\n",
              "    <tr>\n",
              "      <th>4</th>\n",
              "      <td>0.891495</td>\n",
              "      <td>0.891495</td>\n",
              "      <td>0.118643</td>\n",
              "      <td>0.118643</td>\n",
              "      <td>0.1</td>\n",
              "      <td>0.237732</td>\n",
              "      <td>0.013333</td>\n",
              "      <td>0.025310</td>\n",
              "      <td>0.000016</td>\n",
              "      <td>0.276392</td>\n",
              "      <td>...</td>\n",
              "      <td>0.017437</td>\n",
              "      <td>{'Temperature_setpoint': 22.5, 'Humidity_setpo...</td>\n",
              "      <td>62185.927297</td>\n",
              "      <td>70795.347962</td>\n",
              "      <td>63535.996780</td>\n",
              "      <td>62592.188575</td>\n",
              "      <td>70935.229151</td>\n",
              "      <td>72297.870227</td>\n",
              "      <td>7/8/2021 8:04</td>\n",
              "      <td>0.480462</td>\n",
              "    </tr>\n",
              "  </tbody>\n",
              "</table>\n",
              "<p>5 rows × 45 columns</p>\n",
              "</div>\n",
              "    <div class=\"colab-df-buttons\">\n",
              "\n",
              "  <div class=\"colab-df-container\">\n",
              "    <button class=\"colab-df-convert\" onclick=\"convertToInteractive('df-b97aa3fc-7273-4e3f-9ae0-d833781e517f')\"\n",
              "            title=\"Convert this dataframe to an interactive table.\"\n",
              "            style=\"display:none;\">\n",
              "\n",
              "  <svg xmlns=\"http://www.w3.org/2000/svg\" height=\"24px\" viewBox=\"0 -960 960 960\">\n",
              "    <path d=\"M120-120v-720h720v720H120Zm60-500h600v-160H180v160Zm220 220h160v-160H400v160Zm0 220h160v-160H400v160ZM180-400h160v-160H180v160Zm440 0h160v-160H620v160ZM180-180h160v-160H180v160Zm440 0h160v-160H620v160Z\"/>\n",
              "  </svg>\n",
              "    </button>\n",
              "\n",
              "  <style>\n",
              "    .colab-df-container {\n",
              "      display:flex;\n",
              "      gap: 12px;\n",
              "    }\n",
              "\n",
              "    .colab-df-convert {\n",
              "      background-color: #E8F0FE;\n",
              "      border: none;\n",
              "      border-radius: 50%;\n",
              "      cursor: pointer;\n",
              "      display: none;\n",
              "      fill: #1967D2;\n",
              "      height: 32px;\n",
              "      padding: 0 0 0 0;\n",
              "      width: 32px;\n",
              "    }\n",
              "\n",
              "    .colab-df-convert:hover {\n",
              "      background-color: #E2EBFA;\n",
              "      box-shadow: 0px 1px 2px rgba(60, 64, 67, 0.3), 0px 1px 3px 1px rgba(60, 64, 67, 0.15);\n",
              "      fill: #174EA6;\n",
              "    }\n",
              "\n",
              "    .colab-df-buttons div {\n",
              "      margin-bottom: 4px;\n",
              "    }\n",
              "\n",
              "    [theme=dark] .colab-df-convert {\n",
              "      background-color: #3B4455;\n",
              "      fill: #D2E3FC;\n",
              "    }\n",
              "\n",
              "    [theme=dark] .colab-df-convert:hover {\n",
              "      background-color: #434B5C;\n",
              "      box-shadow: 0px 1px 3px 1px rgba(0, 0, 0, 0.15);\n",
              "      filter: drop-shadow(0px 1px 2px rgba(0, 0, 0, 0.3));\n",
              "      fill: #FFFFFF;\n",
              "    }\n",
              "  </style>\n",
              "\n",
              "    <script>\n",
              "      const buttonEl =\n",
              "        document.querySelector('#df-b97aa3fc-7273-4e3f-9ae0-d833781e517f button.colab-df-convert');\n",
              "      buttonEl.style.display =\n",
              "        google.colab.kernel.accessAllowed ? 'block' : 'none';\n",
              "\n",
              "      async function convertToInteractive(key) {\n",
              "        const element = document.querySelector('#df-b97aa3fc-7273-4e3f-9ae0-d833781e517f');\n",
              "        const dataTable =\n",
              "          await google.colab.kernel.invokeFunction('convertToInteractive',\n",
              "                                                    [key], {});\n",
              "        if (!dataTable) return;\n",
              "\n",
              "        const docLinkHtml = 'Like what you see? Visit the ' +\n",
              "          '<a target=\"_blank\" href=https://colab.research.google.com/notebooks/data_table.ipynb>data table notebook</a>'\n",
              "          + ' to learn more about interactive tables.';\n",
              "        element.innerHTML = '';\n",
              "        dataTable['output_type'] = 'display_data';\n",
              "        await google.colab.output.renderOutput(dataTable, element);\n",
              "        const docLink = document.createElement('div');\n",
              "        docLink.innerHTML = docLinkHtml;\n",
              "        element.appendChild(docLink);\n",
              "      }\n",
              "    </script>\n",
              "  </div>\n",
              "\n",
              "\n",
              "    <div id=\"df-b69e7032-f78e-4c8a-a0a7-0acfd81b34ce\">\n",
              "      <button class=\"colab-df-quickchart\" onclick=\"quickchart('df-b69e7032-f78e-4c8a-a0a7-0acfd81b34ce')\"\n",
              "                title=\"Suggest charts\"\n",
              "                style=\"display:none;\">\n",
              "\n",
              "<svg xmlns=\"http://www.w3.org/2000/svg\" height=\"24px\"viewBox=\"0 0 24 24\"\n",
              "     width=\"24px\">\n",
              "    <g>\n",
              "        <path d=\"M19 3H5c-1.1 0-2 .9-2 2v14c0 1.1.9 2 2 2h14c1.1 0 2-.9 2-2V5c0-1.1-.9-2-2-2zM9 17H7v-7h2v7zm4 0h-2V7h2v10zm4 0h-2v-4h2v4z\"/>\n",
              "    </g>\n",
              "</svg>\n",
              "      </button>\n",
              "\n",
              "<style>\n",
              "  .colab-df-quickchart {\n",
              "      --bg-color: #E8F0FE;\n",
              "      --fill-color: #1967D2;\n",
              "      --hover-bg-color: #E2EBFA;\n",
              "      --hover-fill-color: #174EA6;\n",
              "      --disabled-fill-color: #AAA;\n",
              "      --disabled-bg-color: #DDD;\n",
              "  }\n",
              "\n",
              "  [theme=dark] .colab-df-quickchart {\n",
              "      --bg-color: #3B4455;\n",
              "      --fill-color: #D2E3FC;\n",
              "      --hover-bg-color: #434B5C;\n",
              "      --hover-fill-color: #FFFFFF;\n",
              "      --disabled-bg-color: #3B4455;\n",
              "      --disabled-fill-color: #666;\n",
              "  }\n",
              "\n",
              "  .colab-df-quickchart {\n",
              "    background-color: var(--bg-color);\n",
              "    border: none;\n",
              "    border-radius: 50%;\n",
              "    cursor: pointer;\n",
              "    display: none;\n",
              "    fill: var(--fill-color);\n",
              "    height: 32px;\n",
              "    padding: 0;\n",
              "    width: 32px;\n",
              "  }\n",
              "\n",
              "  .colab-df-quickchart:hover {\n",
              "    background-color: var(--hover-bg-color);\n",
              "    box-shadow: 0 1px 2px rgba(60, 64, 67, 0.3), 0 1px 3px 1px rgba(60, 64, 67, 0.15);\n",
              "    fill: var(--button-hover-fill-color);\n",
              "  }\n",
              "\n",
              "  .colab-df-quickchart-complete:disabled,\n",
              "  .colab-df-quickchart-complete:disabled:hover {\n",
              "    background-color: var(--disabled-bg-color);\n",
              "    fill: var(--disabled-fill-color);\n",
              "    box-shadow: none;\n",
              "  }\n",
              "\n",
              "  .colab-df-spinner {\n",
              "    border: 2px solid var(--fill-color);\n",
              "    border-color: transparent;\n",
              "    border-bottom-color: var(--fill-color);\n",
              "    animation:\n",
              "      spin 1s steps(1) infinite;\n",
              "  }\n",
              "\n",
              "  @keyframes spin {\n",
              "    0% {\n",
              "      border-color: transparent;\n",
              "      border-bottom-color: var(--fill-color);\n",
              "      border-left-color: var(--fill-color);\n",
              "    }\n",
              "    20% {\n",
              "      border-color: transparent;\n",
              "      border-left-color: var(--fill-color);\n",
              "      border-top-color: var(--fill-color);\n",
              "    }\n",
              "    30% {\n",
              "      border-color: transparent;\n",
              "      border-left-color: var(--fill-color);\n",
              "      border-top-color: var(--fill-color);\n",
              "      border-right-color: var(--fill-color);\n",
              "    }\n",
              "    40% {\n",
              "      border-color: transparent;\n",
              "      border-right-color: var(--fill-color);\n",
              "      border-top-color: var(--fill-color);\n",
              "    }\n",
              "    60% {\n",
              "      border-color: transparent;\n",
              "      border-right-color: var(--fill-color);\n",
              "    }\n",
              "    80% {\n",
              "      border-color: transparent;\n",
              "      border-right-color: var(--fill-color);\n",
              "      border-bottom-color: var(--fill-color);\n",
              "    }\n",
              "    90% {\n",
              "      border-color: transparent;\n",
              "      border-bottom-color: var(--fill-color);\n",
              "    }\n",
              "  }\n",
              "</style>\n",
              "\n",
              "      <script>\n",
              "        async function quickchart(key) {\n",
              "          const quickchartButtonEl =\n",
              "            document.querySelector('#' + key + ' button');\n",
              "          quickchartButtonEl.disabled = true;  // To prevent multiple clicks.\n",
              "          quickchartButtonEl.classList.add('colab-df-spinner');\n",
              "          try {\n",
              "            const charts = await google.colab.kernel.invokeFunction(\n",
              "                'suggestCharts', [key], {});\n",
              "          } catch (error) {\n",
              "            console.error('Error during call to suggestCharts:', error);\n",
              "          }\n",
              "          quickchartButtonEl.classList.remove('colab-df-spinner');\n",
              "          quickchartButtonEl.classList.add('colab-df-quickchart-complete');\n",
              "        }\n",
              "        (() => {\n",
              "          let quickchartButtonEl =\n",
              "            document.querySelector('#df-b69e7032-f78e-4c8a-a0a7-0acfd81b34ce button');\n",
              "          quickchartButtonEl.style.display =\n",
              "            google.colab.kernel.accessAllowed ? 'block' : 'none';\n",
              "        })();\n",
              "      </script>\n",
              "    </div>\n",
              "\n",
              "    </div>\n",
              "  </div>\n"
            ],
            "application/vnd.google.colaboratory.intrinsic+json": {
              "type": "dataframe"
            }
          },
          "metadata": {}
        }
      ]
    },
    {
      "cell_type": "code",
      "source": [
        "print(df.columns.tolist())\n"
      ],
      "metadata": {
        "id": "GkhUZaa_gizs",
        "outputId": "8289f5e0-cb25-465f-bfed-ba6129c2f411",
        "colab": {
          "base_uri": "https://localhost:8080/"
        }
      },
      "execution_count": 20,
      "outputs": [
        {
          "output_type": "stream",
          "name": "stdout",
          "text": [
            "['Control_Air_AF', 'Control_Cooling_PW', 'Control_Heating_PW', 'Control_Humidifier', 'Control_Vent_AF', 'E_cooling_kWh', 'E_fan_kWh', 'E_heating_kWh', 'E_humidifier_kWh', 'E_total_kWh', 'N_Occ', 'Q_Equ', 'Q_L_total', 'Q_S_envelope', 'Q_S_total', 'RH_Coil', 'RH_MA', 'RH_Out', 'RH_fan', 'RH_final', 'RH_out', 'RH_room', 'T_Coil', 'T_MA', 'T_Out', 'T_dew', 'T_fan', 'T_final', 'T_out', 'T_room', 'W_Coil', 'W_MA', 'W_Out', 'W_fan', 'W_final', 'W_room', 'controller_state', 'h_Coil', 'h_MA', 'h_Out', 'h_fan', 'h_final', 'h_room', 'timestamp', 'ΔT_fan']\n"
          ]
        }
      ]
    },
    {
      "cell_type": "code",
      "source": [
        "# Define desired setpoints (you can adjust these)\n",
        "setpoint_temperature = 24.0  # in °C\n",
        "setpoint_humidity = 0.7   # in % RH\n"
      ],
      "metadata": {
        "id": "IsrhXpbe2mAI"
      },
      "execution_count": 21,
      "outputs": []
    },
    {
      "cell_type": "code",
      "source": [
        "df['temp_error'] = setpoint_temperature - df['T_room']\n",
        "df['humid_error'] = setpoint_humidity - df['RH_room']\n",
        "\n",
        "print(df[['temp_error', 'humid_error']].describe())\n"
      ],
      "metadata": {
        "id": "0MDHMAv-3i5P",
        "outputId": "73e0f86e-19d5-4fcb-b503-ed027a1f3907",
        "colab": {
          "base_uri": "https://localhost:8080/"
        }
      },
      "execution_count": 22,
      "outputs": [
        {
          "output_type": "stream",
          "name": "stdout",
          "text": [
            "       temp_error  humid_error\n",
            "count   61.000000    61.000000\n",
            "mean    -8.835418     0.058546\n",
            "std      3.249161     0.046419\n",
            "min    -11.405421    -0.103833\n",
            "25%    -11.232909     0.076097\n",
            "50%    -10.552368     0.080052\n",
            "75%     -6.191268     0.080619\n",
            "max      0.975637     0.100000\n"
          ]
        }
      ]
    },
    {
      "cell_type": "code",
      "source": [
        "def label_error(error_value):\n",
        "    if error_value <= -3:\n",
        "        return 'extra_negative'\n",
        "    elif error_value <= -0.75:\n",
        "        return 'negative'\n",
        "    elif error_value <= 0.75:\n",
        "        return 'zero_error'\n",
        "    elif error_value <= 3:\n",
        "        return 'positive'\n",
        "    else:\n",
        "        return 'extra_positive'\n"
      ],
      "metadata": {
        "id": "-2LvB_4b35_C"
      },
      "execution_count": 23,
      "outputs": []
    },
    {
      "cell_type": "code",
      "source": [
        "df['temp_error_label'] = df['temp_error'].apply(label_error)\n",
        "df['humid_error_label'] = df['humid_error'].apply(label_error)\n"
      ],
      "metadata": {
        "id": "ShRncUik3_DN"
      },
      "execution_count": 10,
      "outputs": []
    },
    {
      "cell_type": "code",
      "source": [
        "df[['T_room', 'RH_room', 'temp_error', 'humid_error', 'temp_error_label', 'humid_error_label']].head()\n"
      ],
      "metadata": {
        "id": "fBwjQqlk4BJB",
        "outputId": "e6ffc002-dcb7-4af5-f0f2-656f4b118f7a",
        "colab": {
          "base_uri": "https://localhost:8080/",
          "height": 206
        }
      },
      "execution_count": 11,
      "outputs": [
        {
          "output_type": "execute_result",
          "data": {
            "text/plain": [
              "      T_room   RH_room  temp_error  humid_error temp_error_label  \\\n",
              "0  25.000000  0.600000   -1.000000    49.400000         negative   \n",
              "1  23.024363  0.803833    0.975637    49.196167         positive   \n",
              "2  26.433151  0.768972   -2.433151    49.231028         negative   \n",
              "3  26.075135  0.795140   -2.075135    49.204860         negative   \n",
              "4  27.626750  0.746684   -3.626750    49.253316   extra_negative   \n",
              "\n",
              "  humid_error_label  \n",
              "0    extra_positive  \n",
              "1    extra_positive  \n",
              "2    extra_positive  \n",
              "3    extra_positive  \n",
              "4    extra_positive  "
            ],
            "text/html": [
              "\n",
              "  <div id=\"df-c8dc4068-7508-4632-b032-86a2d70a35cd\" class=\"colab-df-container\">\n",
              "    <div>\n",
              "<style scoped>\n",
              "    .dataframe tbody tr th:only-of-type {\n",
              "        vertical-align: middle;\n",
              "    }\n",
              "\n",
              "    .dataframe tbody tr th {\n",
              "        vertical-align: top;\n",
              "    }\n",
              "\n",
              "    .dataframe thead th {\n",
              "        text-align: right;\n",
              "    }\n",
              "</style>\n",
              "<table border=\"1\" class=\"dataframe\">\n",
              "  <thead>\n",
              "    <tr style=\"text-align: right;\">\n",
              "      <th></th>\n",
              "      <th>T_room</th>\n",
              "      <th>RH_room</th>\n",
              "      <th>temp_error</th>\n",
              "      <th>humid_error</th>\n",
              "      <th>temp_error_label</th>\n",
              "      <th>humid_error_label</th>\n",
              "    </tr>\n",
              "  </thead>\n",
              "  <tbody>\n",
              "    <tr>\n",
              "      <th>0</th>\n",
              "      <td>25.000000</td>\n",
              "      <td>0.600000</td>\n",
              "      <td>-1.000000</td>\n",
              "      <td>49.400000</td>\n",
              "      <td>negative</td>\n",
              "      <td>extra_positive</td>\n",
              "    </tr>\n",
              "    <tr>\n",
              "      <th>1</th>\n",
              "      <td>23.024363</td>\n",
              "      <td>0.803833</td>\n",
              "      <td>0.975637</td>\n",
              "      <td>49.196167</td>\n",
              "      <td>positive</td>\n",
              "      <td>extra_positive</td>\n",
              "    </tr>\n",
              "    <tr>\n",
              "      <th>2</th>\n",
              "      <td>26.433151</td>\n",
              "      <td>0.768972</td>\n",
              "      <td>-2.433151</td>\n",
              "      <td>49.231028</td>\n",
              "      <td>negative</td>\n",
              "      <td>extra_positive</td>\n",
              "    </tr>\n",
              "    <tr>\n",
              "      <th>3</th>\n",
              "      <td>26.075135</td>\n",
              "      <td>0.795140</td>\n",
              "      <td>-2.075135</td>\n",
              "      <td>49.204860</td>\n",
              "      <td>negative</td>\n",
              "      <td>extra_positive</td>\n",
              "    </tr>\n",
              "    <tr>\n",
              "      <th>4</th>\n",
              "      <td>27.626750</td>\n",
              "      <td>0.746684</td>\n",
              "      <td>-3.626750</td>\n",
              "      <td>49.253316</td>\n",
              "      <td>extra_negative</td>\n",
              "      <td>extra_positive</td>\n",
              "    </tr>\n",
              "  </tbody>\n",
              "</table>\n",
              "</div>\n",
              "    <div class=\"colab-df-buttons\">\n",
              "\n",
              "  <div class=\"colab-df-container\">\n",
              "    <button class=\"colab-df-convert\" onclick=\"convertToInteractive('df-c8dc4068-7508-4632-b032-86a2d70a35cd')\"\n",
              "            title=\"Convert this dataframe to an interactive table.\"\n",
              "            style=\"display:none;\">\n",
              "\n",
              "  <svg xmlns=\"http://www.w3.org/2000/svg\" height=\"24px\" viewBox=\"0 -960 960 960\">\n",
              "    <path d=\"M120-120v-720h720v720H120Zm60-500h600v-160H180v160Zm220 220h160v-160H400v160Zm0 220h160v-160H400v160ZM180-400h160v-160H180v160Zm440 0h160v-160H620v160ZM180-180h160v-160H180v160Zm440 0h160v-160H620v160Z\"/>\n",
              "  </svg>\n",
              "    </button>\n",
              "\n",
              "  <style>\n",
              "    .colab-df-container {\n",
              "      display:flex;\n",
              "      gap: 12px;\n",
              "    }\n",
              "\n",
              "    .colab-df-convert {\n",
              "      background-color: #E8F0FE;\n",
              "      border: none;\n",
              "      border-radius: 50%;\n",
              "      cursor: pointer;\n",
              "      display: none;\n",
              "      fill: #1967D2;\n",
              "      height: 32px;\n",
              "      padding: 0 0 0 0;\n",
              "      width: 32px;\n",
              "    }\n",
              "\n",
              "    .colab-df-convert:hover {\n",
              "      background-color: #E2EBFA;\n",
              "      box-shadow: 0px 1px 2px rgba(60, 64, 67, 0.3), 0px 1px 3px 1px rgba(60, 64, 67, 0.15);\n",
              "      fill: #174EA6;\n",
              "    }\n",
              "\n",
              "    .colab-df-buttons div {\n",
              "      margin-bottom: 4px;\n",
              "    }\n",
              "\n",
              "    [theme=dark] .colab-df-convert {\n",
              "      background-color: #3B4455;\n",
              "      fill: #D2E3FC;\n",
              "    }\n",
              "\n",
              "    [theme=dark] .colab-df-convert:hover {\n",
              "      background-color: #434B5C;\n",
              "      box-shadow: 0px 1px 3px 1px rgba(0, 0, 0, 0.15);\n",
              "      filter: drop-shadow(0px 1px 2px rgba(0, 0, 0, 0.3));\n",
              "      fill: #FFFFFF;\n",
              "    }\n",
              "  </style>\n",
              "\n",
              "    <script>\n",
              "      const buttonEl =\n",
              "        document.querySelector('#df-c8dc4068-7508-4632-b032-86a2d70a35cd button.colab-df-convert');\n",
              "      buttonEl.style.display =\n",
              "        google.colab.kernel.accessAllowed ? 'block' : 'none';\n",
              "\n",
              "      async function convertToInteractive(key) {\n",
              "        const element = document.querySelector('#df-c8dc4068-7508-4632-b032-86a2d70a35cd');\n",
              "        const dataTable =\n",
              "          await google.colab.kernel.invokeFunction('convertToInteractive',\n",
              "                                                    [key], {});\n",
              "        if (!dataTable) return;\n",
              "\n",
              "        const docLinkHtml = 'Like what you see? Visit the ' +\n",
              "          '<a target=\"_blank\" href=https://colab.research.google.com/notebooks/data_table.ipynb>data table notebook</a>'\n",
              "          + ' to learn more about interactive tables.';\n",
              "        element.innerHTML = '';\n",
              "        dataTable['output_type'] = 'display_data';\n",
              "        await google.colab.output.renderOutput(dataTable, element);\n",
              "        const docLink = document.createElement('div');\n",
              "        docLink.innerHTML = docLinkHtml;\n",
              "        element.appendChild(docLink);\n",
              "      }\n",
              "    </script>\n",
              "  </div>\n",
              "\n",
              "\n",
              "    <div id=\"df-33bf86ec-032b-4986-83e2-64c8df29d497\">\n",
              "      <button class=\"colab-df-quickchart\" onclick=\"quickchart('df-33bf86ec-032b-4986-83e2-64c8df29d497')\"\n",
              "                title=\"Suggest charts\"\n",
              "                style=\"display:none;\">\n",
              "\n",
              "<svg xmlns=\"http://www.w3.org/2000/svg\" height=\"24px\"viewBox=\"0 0 24 24\"\n",
              "     width=\"24px\">\n",
              "    <g>\n",
              "        <path d=\"M19 3H5c-1.1 0-2 .9-2 2v14c0 1.1.9 2 2 2h14c1.1 0 2-.9 2-2V5c0-1.1-.9-2-2-2zM9 17H7v-7h2v7zm4 0h-2V7h2v10zm4 0h-2v-4h2v4z\"/>\n",
              "    </g>\n",
              "</svg>\n",
              "      </button>\n",
              "\n",
              "<style>\n",
              "  .colab-df-quickchart {\n",
              "      --bg-color: #E8F0FE;\n",
              "      --fill-color: #1967D2;\n",
              "      --hover-bg-color: #E2EBFA;\n",
              "      --hover-fill-color: #174EA6;\n",
              "      --disabled-fill-color: #AAA;\n",
              "      --disabled-bg-color: #DDD;\n",
              "  }\n",
              "\n",
              "  [theme=dark] .colab-df-quickchart {\n",
              "      --bg-color: #3B4455;\n",
              "      --fill-color: #D2E3FC;\n",
              "      --hover-bg-color: #434B5C;\n",
              "      --hover-fill-color: #FFFFFF;\n",
              "      --disabled-bg-color: #3B4455;\n",
              "      --disabled-fill-color: #666;\n",
              "  }\n",
              "\n",
              "  .colab-df-quickchart {\n",
              "    background-color: var(--bg-color);\n",
              "    border: none;\n",
              "    border-radius: 50%;\n",
              "    cursor: pointer;\n",
              "    display: none;\n",
              "    fill: var(--fill-color);\n",
              "    height: 32px;\n",
              "    padding: 0;\n",
              "    width: 32px;\n",
              "  }\n",
              "\n",
              "  .colab-df-quickchart:hover {\n",
              "    background-color: var(--hover-bg-color);\n",
              "    box-shadow: 0 1px 2px rgba(60, 64, 67, 0.3), 0 1px 3px 1px rgba(60, 64, 67, 0.15);\n",
              "    fill: var(--button-hover-fill-color);\n",
              "  }\n",
              "\n",
              "  .colab-df-quickchart-complete:disabled,\n",
              "  .colab-df-quickchart-complete:disabled:hover {\n",
              "    background-color: var(--disabled-bg-color);\n",
              "    fill: var(--disabled-fill-color);\n",
              "    box-shadow: none;\n",
              "  }\n",
              "\n",
              "  .colab-df-spinner {\n",
              "    border: 2px solid var(--fill-color);\n",
              "    border-color: transparent;\n",
              "    border-bottom-color: var(--fill-color);\n",
              "    animation:\n",
              "      spin 1s steps(1) infinite;\n",
              "  }\n",
              "\n",
              "  @keyframes spin {\n",
              "    0% {\n",
              "      border-color: transparent;\n",
              "      border-bottom-color: var(--fill-color);\n",
              "      border-left-color: var(--fill-color);\n",
              "    }\n",
              "    20% {\n",
              "      border-color: transparent;\n",
              "      border-left-color: var(--fill-color);\n",
              "      border-top-color: var(--fill-color);\n",
              "    }\n",
              "    30% {\n",
              "      border-color: transparent;\n",
              "      border-left-color: var(--fill-color);\n",
              "      border-top-color: var(--fill-color);\n",
              "      border-right-color: var(--fill-color);\n",
              "    }\n",
              "    40% {\n",
              "      border-color: transparent;\n",
              "      border-right-color: var(--fill-color);\n",
              "      border-top-color: var(--fill-color);\n",
              "    }\n",
              "    60% {\n",
              "      border-color: transparent;\n",
              "      border-right-color: var(--fill-color);\n",
              "    }\n",
              "    80% {\n",
              "      border-color: transparent;\n",
              "      border-right-color: var(--fill-color);\n",
              "      border-bottom-color: var(--fill-color);\n",
              "    }\n",
              "    90% {\n",
              "      border-color: transparent;\n",
              "      border-bottom-color: var(--fill-color);\n",
              "    }\n",
              "  }\n",
              "</style>\n",
              "\n",
              "      <script>\n",
              "        async function quickchart(key) {\n",
              "          const quickchartButtonEl =\n",
              "            document.querySelector('#' + key + ' button');\n",
              "          quickchartButtonEl.disabled = true;  // To prevent multiple clicks.\n",
              "          quickchartButtonEl.classList.add('colab-df-spinner');\n",
              "          try {\n",
              "            const charts = await google.colab.kernel.invokeFunction(\n",
              "                'suggestCharts', [key], {});\n",
              "          } catch (error) {\n",
              "            console.error('Error during call to suggestCharts:', error);\n",
              "          }\n",
              "          quickchartButtonEl.classList.remove('colab-df-spinner');\n",
              "          quickchartButtonEl.classList.add('colab-df-quickchart-complete');\n",
              "        }\n",
              "        (() => {\n",
              "          let quickchartButtonEl =\n",
              "            document.querySelector('#df-33bf86ec-032b-4986-83e2-64c8df29d497 button');\n",
              "          quickchartButtonEl.style.display =\n",
              "            google.colab.kernel.accessAllowed ? 'block' : 'none';\n",
              "        })();\n",
              "      </script>\n",
              "    </div>\n",
              "\n",
              "    </div>\n",
              "  </div>\n"
            ],
            "application/vnd.google.colaboratory.intrinsic+json": {
              "type": "dataframe",
              "summary": "{\n  \"name\": \"df[['T_room', 'RH_room', 'temp_error', 'humid_error', 'temp_error_label', 'humid_error_label']]\",\n  \"rows\": 5,\n  \"fields\": [\n    {\n      \"column\": \"T_room\",\n      \"properties\": {\n        \"dtype\": \"number\",\n        \"std\": 1.7332364788875694,\n        \"min\": 23.02436297635437,\n        \"max\": 27.626750400417468,\n        \"num_unique_values\": 5,\n        \"samples\": [\n          23.02436297635437,\n          27.626750400417468,\n          26.43315053419285\n        ],\n        \"semantic_type\": \"\",\n        \"description\": \"\"\n      }\n    },\n    {\n      \"column\": \"RH_room\",\n      \"properties\": {\n        \"dtype\": \"number\",\n        \"std\": 0.0830004773535998,\n        \"min\": 0.6,\n        \"max\": 0.8038331976321639,\n        \"num_unique_values\": 5,\n        \"samples\": [\n          0.8038331976321639,\n          0.746683839309924,\n          0.7689715884571303\n        ],\n        \"semantic_type\": \"\",\n        \"description\": \"\"\n      }\n    },\n    {\n      \"column\": \"temp_error\",\n      \"properties\": {\n        \"dtype\": \"number\",\n        \"std\": 1.7332364788875694,\n        \"min\": -3.6267504004174675,\n        \"max\": 0.9756370236456284,\n        \"num_unique_values\": 5,\n        \"samples\": [\n          0.9756370236456284,\n          -3.6267504004174675,\n          -2.433150534192851\n        ],\n        \"semantic_type\": \"\",\n        \"description\": \"\"\n      }\n    },\n    {\n      \"column\": \"humid_error\",\n      \"properties\": {\n        \"dtype\": \"number\",\n        \"std\": 0.0830004773535996,\n        \"min\": 49.196166802367834,\n        \"max\": 49.4,\n        \"num_unique_values\": 5,\n        \"samples\": [\n          49.196166802367834,\n          49.253316160690076,\n          49.23102841154287\n        ],\n        \"semantic_type\": \"\",\n        \"description\": \"\"\n      }\n    },\n    {\n      \"column\": \"temp_error_label\",\n      \"properties\": {\n        \"dtype\": \"string\",\n        \"num_unique_values\": 3,\n        \"samples\": [\n          \"negative\",\n          \"positive\",\n          \"extra_negative\"\n        ],\n        \"semantic_type\": \"\",\n        \"description\": \"\"\n      }\n    },\n    {\n      \"column\": \"humid_error_label\",\n      \"properties\": {\n        \"dtype\": \"category\",\n        \"num_unique_values\": 1,\n        \"samples\": [\n          \"extra_positive\"\n        ],\n        \"semantic_type\": \"\",\n        \"description\": \"\"\n      }\n    }\n  ]\n}"
            }
          },
          "metadata": {},
          "execution_count": 11
        }
      ]
    },
    {
      "cell_type": "code",
      "source": [
        "grouped = df.groupby(['temp_error_label', 'humid_error_label']).agg({\n",
        "    'Control_Heating_PW': 'mean',\n",
        "    'Control_Cooling_PW': 'mean',\n",
        "    'Control_Humidifier': 'mean',\n",
        "    'Control_Vent_AF': 'mean',\n",
        "    'E_total_kWh': 'mean',\n",
        "    'E_heating_kWh': 'mean',\n",
        "    'E_cooling_kWh': 'mean',\n",
        "    'E_humidifier_kWh': 'mean',\n",
        "    'E_fan_kWh': 'mean',\n",
        "    'temp_error': 'count'\n",
        "}).rename(columns={'temp_error': 'samples'}).reset_index()\n",
        "\n",
        "grouped.sort_values(by='samples', ascending=False).head(10)\n"
      ],
      "metadata": {
        "id": "pg_p1GaS7WOn",
        "outputId": "c5e2604e-b8e1-4dab-e427-7fa6e197bff2",
        "colab": {
          "base_uri": "https://localhost:8080/",
          "height": 143
        }
      },
      "execution_count": 12,
      "outputs": [
        {
          "output_type": "execute_result",
          "data": {
            "text/plain": [
              "  temp_error_label humid_error_label  Control_Heating_PW  Control_Cooling_PW  \\\n",
              "0   extra_negative    extra_positive            0.102588            0.905778   \n",
              "1         negative    extra_positive            0.243635            0.784342   \n",
              "2         positive    extra_positive            0.424681            0.577843   \n",
              "\n",
              "   Control_Humidifier  Control_Vent_AF  E_total_kWh  E_heating_kWh  \\\n",
              "0            0.102588              0.1     0.276773       0.021885   \n",
              "1            0.243635              0.1     0.274499       0.051975   \n",
              "2            0.424681              0.1     0.258080       0.090599   \n",
              "\n",
              "   E_cooling_kWh  E_humidifier_kWh  E_fan_kWh  samples  \n",
              "0       0.241541          0.000014   0.013333       57  \n",
              "1       0.209158          0.000032   0.013333        3  \n",
              "2       0.154091          0.000057   0.013333        1  "
            ],
            "text/html": [
              "\n",
              "  <div id=\"df-eac5e0f8-c123-4b3f-acf2-8e34a47ff5d6\" class=\"colab-df-container\">\n",
              "    <div>\n",
              "<style scoped>\n",
              "    .dataframe tbody tr th:only-of-type {\n",
              "        vertical-align: middle;\n",
              "    }\n",
              "\n",
              "    .dataframe tbody tr th {\n",
              "        vertical-align: top;\n",
              "    }\n",
              "\n",
              "    .dataframe thead th {\n",
              "        text-align: right;\n",
              "    }\n",
              "</style>\n",
              "<table border=\"1\" class=\"dataframe\">\n",
              "  <thead>\n",
              "    <tr style=\"text-align: right;\">\n",
              "      <th></th>\n",
              "      <th>temp_error_label</th>\n",
              "      <th>humid_error_label</th>\n",
              "      <th>Control_Heating_PW</th>\n",
              "      <th>Control_Cooling_PW</th>\n",
              "      <th>Control_Humidifier</th>\n",
              "      <th>Control_Vent_AF</th>\n",
              "      <th>E_total_kWh</th>\n",
              "      <th>E_heating_kWh</th>\n",
              "      <th>E_cooling_kWh</th>\n",
              "      <th>E_humidifier_kWh</th>\n",
              "      <th>E_fan_kWh</th>\n",
              "      <th>samples</th>\n",
              "    </tr>\n",
              "  </thead>\n",
              "  <tbody>\n",
              "    <tr>\n",
              "      <th>0</th>\n",
              "      <td>extra_negative</td>\n",
              "      <td>extra_positive</td>\n",
              "      <td>0.102588</td>\n",
              "      <td>0.905778</td>\n",
              "      <td>0.102588</td>\n",
              "      <td>0.1</td>\n",
              "      <td>0.276773</td>\n",
              "      <td>0.021885</td>\n",
              "      <td>0.241541</td>\n",
              "      <td>0.000014</td>\n",
              "      <td>0.013333</td>\n",
              "      <td>57</td>\n",
              "    </tr>\n",
              "    <tr>\n",
              "      <th>1</th>\n",
              "      <td>negative</td>\n",
              "      <td>extra_positive</td>\n",
              "      <td>0.243635</td>\n",
              "      <td>0.784342</td>\n",
              "      <td>0.243635</td>\n",
              "      <td>0.1</td>\n",
              "      <td>0.274499</td>\n",
              "      <td>0.051975</td>\n",
              "      <td>0.209158</td>\n",
              "      <td>0.000032</td>\n",
              "      <td>0.013333</td>\n",
              "      <td>3</td>\n",
              "    </tr>\n",
              "    <tr>\n",
              "      <th>2</th>\n",
              "      <td>positive</td>\n",
              "      <td>extra_positive</td>\n",
              "      <td>0.424681</td>\n",
              "      <td>0.577843</td>\n",
              "      <td>0.424681</td>\n",
              "      <td>0.1</td>\n",
              "      <td>0.258080</td>\n",
              "      <td>0.090599</td>\n",
              "      <td>0.154091</td>\n",
              "      <td>0.000057</td>\n",
              "      <td>0.013333</td>\n",
              "      <td>1</td>\n",
              "    </tr>\n",
              "  </tbody>\n",
              "</table>\n",
              "</div>\n",
              "    <div class=\"colab-df-buttons\">\n",
              "\n",
              "  <div class=\"colab-df-container\">\n",
              "    <button class=\"colab-df-convert\" onclick=\"convertToInteractive('df-eac5e0f8-c123-4b3f-acf2-8e34a47ff5d6')\"\n",
              "            title=\"Convert this dataframe to an interactive table.\"\n",
              "            style=\"display:none;\">\n",
              "\n",
              "  <svg xmlns=\"http://www.w3.org/2000/svg\" height=\"24px\" viewBox=\"0 -960 960 960\">\n",
              "    <path d=\"M120-120v-720h720v720H120Zm60-500h600v-160H180v160Zm220 220h160v-160H400v160Zm0 220h160v-160H400v160ZM180-400h160v-160H180v160Zm440 0h160v-160H620v160ZM180-180h160v-160H180v160Zm440 0h160v-160H620v160Z\"/>\n",
              "  </svg>\n",
              "    </button>\n",
              "\n",
              "  <style>\n",
              "    .colab-df-container {\n",
              "      display:flex;\n",
              "      gap: 12px;\n",
              "    }\n",
              "\n",
              "    .colab-df-convert {\n",
              "      background-color: #E8F0FE;\n",
              "      border: none;\n",
              "      border-radius: 50%;\n",
              "      cursor: pointer;\n",
              "      display: none;\n",
              "      fill: #1967D2;\n",
              "      height: 32px;\n",
              "      padding: 0 0 0 0;\n",
              "      width: 32px;\n",
              "    }\n",
              "\n",
              "    .colab-df-convert:hover {\n",
              "      background-color: #E2EBFA;\n",
              "      box-shadow: 0px 1px 2px rgba(60, 64, 67, 0.3), 0px 1px 3px 1px rgba(60, 64, 67, 0.15);\n",
              "      fill: #174EA6;\n",
              "    }\n",
              "\n",
              "    .colab-df-buttons div {\n",
              "      margin-bottom: 4px;\n",
              "    }\n",
              "\n",
              "    [theme=dark] .colab-df-convert {\n",
              "      background-color: #3B4455;\n",
              "      fill: #D2E3FC;\n",
              "    }\n",
              "\n",
              "    [theme=dark] .colab-df-convert:hover {\n",
              "      background-color: #434B5C;\n",
              "      box-shadow: 0px 1px 3px 1px rgba(0, 0, 0, 0.15);\n",
              "      filter: drop-shadow(0px 1px 2px rgba(0, 0, 0, 0.3));\n",
              "      fill: #FFFFFF;\n",
              "    }\n",
              "  </style>\n",
              "\n",
              "    <script>\n",
              "      const buttonEl =\n",
              "        document.querySelector('#df-eac5e0f8-c123-4b3f-acf2-8e34a47ff5d6 button.colab-df-convert');\n",
              "      buttonEl.style.display =\n",
              "        google.colab.kernel.accessAllowed ? 'block' : 'none';\n",
              "\n",
              "      async function convertToInteractive(key) {\n",
              "        const element = document.querySelector('#df-eac5e0f8-c123-4b3f-acf2-8e34a47ff5d6');\n",
              "        const dataTable =\n",
              "          await google.colab.kernel.invokeFunction('convertToInteractive',\n",
              "                                                    [key], {});\n",
              "        if (!dataTable) return;\n",
              "\n",
              "        const docLinkHtml = 'Like what you see? Visit the ' +\n",
              "          '<a target=\"_blank\" href=https://colab.research.google.com/notebooks/data_table.ipynb>data table notebook</a>'\n",
              "          + ' to learn more about interactive tables.';\n",
              "        element.innerHTML = '';\n",
              "        dataTable['output_type'] = 'display_data';\n",
              "        await google.colab.output.renderOutput(dataTable, element);\n",
              "        const docLink = document.createElement('div');\n",
              "        docLink.innerHTML = docLinkHtml;\n",
              "        element.appendChild(docLink);\n",
              "      }\n",
              "    </script>\n",
              "  </div>\n",
              "\n",
              "\n",
              "    <div id=\"df-89a54cde-954c-4196-badf-9a979f05de17\">\n",
              "      <button class=\"colab-df-quickchart\" onclick=\"quickchart('df-89a54cde-954c-4196-badf-9a979f05de17')\"\n",
              "                title=\"Suggest charts\"\n",
              "                style=\"display:none;\">\n",
              "\n",
              "<svg xmlns=\"http://www.w3.org/2000/svg\" height=\"24px\"viewBox=\"0 0 24 24\"\n",
              "     width=\"24px\">\n",
              "    <g>\n",
              "        <path d=\"M19 3H5c-1.1 0-2 .9-2 2v14c0 1.1.9 2 2 2h14c1.1 0 2-.9 2-2V5c0-1.1-.9-2-2-2zM9 17H7v-7h2v7zm4 0h-2V7h2v10zm4 0h-2v-4h2v4z\"/>\n",
              "    </g>\n",
              "</svg>\n",
              "      </button>\n",
              "\n",
              "<style>\n",
              "  .colab-df-quickchart {\n",
              "      --bg-color: #E8F0FE;\n",
              "      --fill-color: #1967D2;\n",
              "      --hover-bg-color: #E2EBFA;\n",
              "      --hover-fill-color: #174EA6;\n",
              "      --disabled-fill-color: #AAA;\n",
              "      --disabled-bg-color: #DDD;\n",
              "  }\n",
              "\n",
              "  [theme=dark] .colab-df-quickchart {\n",
              "      --bg-color: #3B4455;\n",
              "      --fill-color: #D2E3FC;\n",
              "      --hover-bg-color: #434B5C;\n",
              "      --hover-fill-color: #FFFFFF;\n",
              "      --disabled-bg-color: #3B4455;\n",
              "      --disabled-fill-color: #666;\n",
              "  }\n",
              "\n",
              "  .colab-df-quickchart {\n",
              "    background-color: var(--bg-color);\n",
              "    border: none;\n",
              "    border-radius: 50%;\n",
              "    cursor: pointer;\n",
              "    display: none;\n",
              "    fill: var(--fill-color);\n",
              "    height: 32px;\n",
              "    padding: 0;\n",
              "    width: 32px;\n",
              "  }\n",
              "\n",
              "  .colab-df-quickchart:hover {\n",
              "    background-color: var(--hover-bg-color);\n",
              "    box-shadow: 0 1px 2px rgba(60, 64, 67, 0.3), 0 1px 3px 1px rgba(60, 64, 67, 0.15);\n",
              "    fill: var(--button-hover-fill-color);\n",
              "  }\n",
              "\n",
              "  .colab-df-quickchart-complete:disabled,\n",
              "  .colab-df-quickchart-complete:disabled:hover {\n",
              "    background-color: var(--disabled-bg-color);\n",
              "    fill: var(--disabled-fill-color);\n",
              "    box-shadow: none;\n",
              "  }\n",
              "\n",
              "  .colab-df-spinner {\n",
              "    border: 2px solid var(--fill-color);\n",
              "    border-color: transparent;\n",
              "    border-bottom-color: var(--fill-color);\n",
              "    animation:\n",
              "      spin 1s steps(1) infinite;\n",
              "  }\n",
              "\n",
              "  @keyframes spin {\n",
              "    0% {\n",
              "      border-color: transparent;\n",
              "      border-bottom-color: var(--fill-color);\n",
              "      border-left-color: var(--fill-color);\n",
              "    }\n",
              "    20% {\n",
              "      border-color: transparent;\n",
              "      border-left-color: var(--fill-color);\n",
              "      border-top-color: var(--fill-color);\n",
              "    }\n",
              "    30% {\n",
              "      border-color: transparent;\n",
              "      border-left-color: var(--fill-color);\n",
              "      border-top-color: var(--fill-color);\n",
              "      border-right-color: var(--fill-color);\n",
              "    }\n",
              "    40% {\n",
              "      border-color: transparent;\n",
              "      border-right-color: var(--fill-color);\n",
              "      border-top-color: var(--fill-color);\n",
              "    }\n",
              "    60% {\n",
              "      border-color: transparent;\n",
              "      border-right-color: var(--fill-color);\n",
              "    }\n",
              "    80% {\n",
              "      border-color: transparent;\n",
              "      border-right-color: var(--fill-color);\n",
              "      border-bottom-color: var(--fill-color);\n",
              "    }\n",
              "    90% {\n",
              "      border-color: transparent;\n",
              "      border-bottom-color: var(--fill-color);\n",
              "    }\n",
              "  }\n",
              "</style>\n",
              "\n",
              "      <script>\n",
              "        async function quickchart(key) {\n",
              "          const quickchartButtonEl =\n",
              "            document.querySelector('#' + key + ' button');\n",
              "          quickchartButtonEl.disabled = true;  // To prevent multiple clicks.\n",
              "          quickchartButtonEl.classList.add('colab-df-spinner');\n",
              "          try {\n",
              "            const charts = await google.colab.kernel.invokeFunction(\n",
              "                'suggestCharts', [key], {});\n",
              "          } catch (error) {\n",
              "            console.error('Error during call to suggestCharts:', error);\n",
              "          }\n",
              "          quickchartButtonEl.classList.remove('colab-df-spinner');\n",
              "          quickchartButtonEl.classList.add('colab-df-quickchart-complete');\n",
              "        }\n",
              "        (() => {\n",
              "          let quickchartButtonEl =\n",
              "            document.querySelector('#df-89a54cde-954c-4196-badf-9a979f05de17 button');\n",
              "          quickchartButtonEl.style.display =\n",
              "            google.colab.kernel.accessAllowed ? 'block' : 'none';\n",
              "        })();\n",
              "      </script>\n",
              "    </div>\n",
              "\n",
              "    </div>\n",
              "  </div>\n"
            ],
            "application/vnd.google.colaboratory.intrinsic+json": {
              "type": "dataframe",
              "summary": "{\n  \"name\": \"grouped\",\n  \"rows\": 3,\n  \"fields\": [\n    {\n      \"column\": \"temp_error_label\",\n      \"properties\": {\n        \"dtype\": \"string\",\n        \"num_unique_values\": 3,\n        \"samples\": [\n          \"extra_negative\",\n          \"negative\",\n          \"positive\"\n        ],\n        \"semantic_type\": \"\",\n        \"description\": \"\"\n      }\n    },\n    {\n      \"column\": \"humid_error_label\",\n      \"properties\": {\n        \"dtype\": \"category\",\n        \"num_unique_values\": 1,\n        \"samples\": [\n          \"extra_positive\"\n        ],\n        \"semantic_type\": \"\",\n        \"description\": \"\"\n      }\n    },\n    {\n      \"column\": \"Control_Heating_PW\",\n      \"properties\": {\n        \"dtype\": \"number\",\n        \"std\": 0.1614601557165186,\n        \"min\": 0.10258797373781407,\n        \"max\": 0.4246814144837724,\n        \"num_unique_values\": 3,\n        \"samples\": [\n          0.10258797373781407\n        ],\n        \"semantic_type\": \"\",\n        \"description\": \"\"\n      }\n    },\n    {\n      \"column\": \"Control_Cooling_PW\",\n      \"properties\": {\n        \"dtype\": \"number\",\n        \"std\": 0.16579586932942877,\n        \"min\": 0.5778428893504312,\n        \"max\": 0.9057775489679346,\n        \"num_unique_values\": 3,\n        \"samples\": [\n          0.9057775489679346\n        ],\n        \"semantic_type\": \"\",\n        \"description\": \"\"\n      }\n    },\n    {\n      \"column\": \"Control_Humidifier\",\n      \"properties\": {\n        \"dtype\": \"number\",\n        \"std\": 0.1614601557165186,\n        \"min\": 0.10258797373781407,\n        \"max\": 0.4246814144837724,\n        \"num_unique_values\": 3,\n        \"samples\": [\n          0.10258797373781407\n        ],\n        \"semantic_type\": \"\",\n        \"description\": \"\"\n      }\n    },\n    {\n      \"column\": \"Control_Vent_AF\",\n      \"properties\": {\n        \"dtype\": \"number\",\n        \"std\": 1.3877787807814457e-17,\n        \"min\": 0.1,\n        \"max\": 0.10000000000000002,\n        \"num_unique_values\": 2,\n        \"samples\": [\n          0.10000000000000002\n        ],\n        \"semantic_type\": \"\",\n        \"description\": \"\"\n      }\n    },\n    {\n      \"column\": \"E_total_kWh\",\n      \"properties\": {\n        \"dtype\": \"number\",\n        \"std\": 0.010199534123664995,\n        \"min\": 0.2580800964385842,\n        \"max\": 0.2767731258520146,\n        \"num_unique_values\": 3,\n        \"samples\": [\n          0.2767731258520146\n        ],\n        \"semantic_type\": \"\",\n        \"description\": \"\"\n      }\n    },\n    {\n      \"column\": \"E_heating_kWh\",\n      \"properties\": {\n        \"dtype\": \"number\",\n        \"std\": 0.034444833219523976,\n        \"min\": 0.021885434397400306,\n        \"max\": 0.0905987017565381,\n        \"num_unique_values\": 3,\n        \"samples\": [\n          0.021885434397400306\n        ],\n        \"semantic_type\": \"\",\n        \"description\": \"\"\n      }\n    },\n    {\n      \"column\": \"E_cooling_kWh\",\n      \"properties\": {\n        \"dtype\": \"number\",\n        \"std\": 0.04421223182118104,\n        \"min\": 0.1540914371601149,\n        \"max\": 0.24154067972478255,\n        \"num_unique_values\": 3,\n        \"samples\": [\n          0.24154067972478255\n        ],\n        \"semantic_type\": \"\",\n        \"description\": \"\"\n      }\n    },\n    {\n      \"column\": \"E_humidifier_kWh\",\n      \"properties\": {\n        \"dtype\": \"number\",\n        \"std\": 2.1528020762202478e-05,\n        \"min\": 1.3678396498375216e-05,\n        \"max\": 5.662418859783633e-05,\n        \"num_unique_values\": 3,\n        \"samples\": [\n          1.3678396498375216e-05\n        ],\n        \"semantic_type\": \"\",\n        \"description\": \"\"\n      }\n    },\n    {\n      \"column\": \"E_fan_kWh\",\n      \"properties\": {\n        \"dtype\": \"number\",\n        \"std\": 1.734723475976807e-18,\n        \"min\": 0.0133333333333333,\n        \"max\": 0.013333333333333301,\n        \"num_unique_values\": 2,\n        \"samples\": [\n          0.0133333333333333\n        ],\n        \"semantic_type\": \"\",\n        \"description\": \"\"\n      }\n    },\n    {\n      \"column\": \"samples\",\n      \"properties\": {\n        \"dtype\": \"number\",\n        \"std\": 31,\n        \"min\": 1,\n        \"max\": 57,\n        \"num_unique_values\": 3,\n        \"samples\": [\n          57\n        ],\n        \"semantic_type\": \"\",\n        \"description\": \"\"\n      }\n    }\n  ]\n}"
            }
          },
          "metadata": {},
          "execution_count": 12
        }
      ]
    },
    {
      "cell_type": "code",
      "source": [
        "def get_level(value):\n",
        "    if value > 0.66:\n",
        "        return \"HIGH\"\n",
        "    elif value > 0.33:\n",
        "        return \"MEDIUM\"\n",
        "    elif value > 0.05:\n",
        "        return \"LOW\"\n",
        "    else:\n",
        "        return \"OFF\"\n",
        "\n",
        "rules = []\n",
        "for _, row in grouped.iterrows():\n",
        "    t_label = row['temp_error_label']\n",
        "    h_label = row['humid_error_label']\n",
        "    heat_level = get_level(row['Control_Heating_PW'])\n",
        "    cool_level = get_level(row['Control_Cooling_PW'])\n",
        "    hum_level = get_level(row['Control_Humidifier'])\n",
        "    vent_level = get_level(row['Control_Vent_AF'])\n",
        "\n",
        "    rule = f\"IF Temp_Error is {t_label} AND Humid_Error is {h_label} THEN Heating is {heat_level}, Cooling is {cool_level}, Humidifier is {hum_level}, Ventilation is {vent_level}\"\n",
        "    rules.append(rule)\n",
        "\n",
        "# Print rules\n",
        "for r in rules:\n",
        "    print(r)\n"
      ],
      "metadata": {
        "id": "xjOrdWT27rBR",
        "outputId": "9d3ce7f4-292f-4257-e71c-b86260f0c4b6",
        "colab": {
          "base_uri": "https://localhost:8080/"
        }
      },
      "execution_count": 13,
      "outputs": [
        {
          "output_type": "stream",
          "name": "stdout",
          "text": [
            "IF Temp_Error is extra_negative AND Humid_Error is extra_positive THEN Heating is LOW, Cooling is HIGH, Humidifier is LOW, Ventilation is LOW\n",
            "IF Temp_Error is negative AND Humid_Error is extra_positive THEN Heating is LOW, Cooling is HIGH, Humidifier is LOW, Ventilation is LOW\n",
            "IF Temp_Error is positive AND Humid_Error is extra_positive THEN Heating is MEDIUM, Cooling is MEDIUM, Humidifier is MEDIUM, Ventilation is LOW\n"
          ]
        }
      ]
    },
    {
      "cell_type": "code",
      "source": [
        "# Mapping original labels to your preferred fuzzy terms\n",
        "label_mapping = {\n",
        "    \"extra_negative\": \"extremely_negative\",\n",
        "    \"negative\": \"negative\",\n",
        "    \"zero\": \"zero\",\n",
        "    \"positive\": \"positive\",\n",
        "    \"extra_positive\": \"extremely_positive\"\n",
        "}\n"
      ],
      "metadata": {
        "id": "dLFZrhVt9CCv"
      },
      "execution_count": 17,
      "outputs": []
    },
    {
      "cell_type": "code",
      "source": [
        "# Helper to map numeric control value to fuzzy output term\n",
        "def map_control_to_label(value):\n",
        "    if value <= 0.2: return \"very_slow\"\n",
        "    elif value <= 0.4: return \"slow\"\n",
        "    elif value <= 0.6: return \"medium\"\n",
        "    elif value <= 0.8: return \"fast\"\n",
        "    else: return \"very_fast\"\n",
        "\n",
        "def map_control_all(ctrl_dict):\n",
        "    return {\n",
        "        \"fan_speed\": map_control_to_label(ctrl_dict[\"vent_airflow\"]),\n",
        "        \"compressor_voltage\": map_control_to_label(ctrl_dict[\"cooling_power\"]),\n",
        "        \"heater_voltage\": map_control_to_label(ctrl_dict[\"heating_power\"]),\n",
        "        \"humidifier_moisture\": map_control_to_label(ctrl_dict[\"humidifier_power\"]),\n",
        "    }\n",
        "\n",
        "def convert_rules_to_natural_language(rules):\n",
        "    lines = []\n",
        "    for rule in rules:\n",
        "        temp_label = label_mapping[rule[\"if\"][\"temperature_error\"]]\n",
        "        humid_label = label_mapping[rule[\"if\"][\"humidity_error\"]]\n",
        "\n",
        "        ctrl_labels = map_control_all(rule[\"then\"])\n",
        "        line = (\n",
        "            f\"IF temp_error is {temp_label} OR humid_error is {humid_label} THEN \"\n",
        "            f\"fan_speed is {ctrl_labels['fan_speed']}, \"\n",
        "            f\"compressor_voltage is {ctrl_labels['compressor_voltage']}, \"\n",
        "            f\"heater_voltage is {ctrl_labels['heater_voltage']}, \"\n",
        "            f\"humidifier_moisture is {ctrl_labels['humidifier_moisture']}\"\n",
        "        )\n",
        "        lines.append(line)\n",
        "    return lines\n",
        "\n",
        "# Generate final rule set\n",
        "natural_language_rules = convert_rules_to_natural_language(new_fuzzy_rules)\n",
        "\n",
        "# Print a few\n",
        "for rule in natural_language_rules[:10]:\n",
        "    print(rule)\n"
      ],
      "metadata": {
        "id": "VofY2Ue08-Sa",
        "outputId": "2b448cfc-dd1a-4f04-e634-933a170a8dd9",
        "colab": {
          "base_uri": "https://localhost:8080/"
        }
      },
      "execution_count": 18,
      "outputs": [
        {
          "output_type": "stream",
          "name": "stdout",
          "text": [
            "IF temp_error is extremely_negative OR humid_error is extremely_positive THEN fan_speed is very_slow, compressor_voltage is very_fast, heater_voltage is very_slow, humidifier_moisture is very_slow\n",
            "IF temp_error is negative OR humid_error is extremely_positive THEN fan_speed is very_slow, compressor_voltage is fast, heater_voltage is slow, humidifier_moisture is slow\n",
            "IF temp_error is positive OR humid_error is extremely_positive THEN fan_speed is very_slow, compressor_voltage is medium, heater_voltage is medium, humidifier_moisture is medium\n"
          ]
        }
      ]
    },
    {
      "cell_type": "code",
      "source": [
        "def generate_fuzzy_rules(df):\n",
        "    rules = []\n",
        "    for _, row in df.iterrows():\n",
        "        temp_label = row['temp_error_label']\n",
        "        humid_label = row['humid_error_label']\n",
        "        rule = {\n",
        "            'if': {\n",
        "                'temperature_error': temp_label,\n",
        "                'humidity_error': humid_label\n",
        "            },\n",
        "            'then': {\n",
        "                'heating_power': round(row['Control_Heating_PW'], 3),\n",
        "                'cooling_power': round(row['Control_Cooling_PW'], 3),\n",
        "                'humidifier_power': round(row['Control_Humidifier'], 3),\n",
        "                'vent_airflow': round(row['Control_Vent_AF'], 3)\n",
        "            },\n",
        "            'samples': int(row['samples'])\n",
        "        }\n",
        "        rules.append(rule)\n",
        "    return rules\n",
        "\n",
        "# Generate rules\n",
        "new_fuzzy_rules = generate_fuzzy_rules(grouped)\n",
        "\n",
        "# Preview\n",
        "import json\n",
        "print(json.dumps(new_fuzzy_rules, indent=2))\n"
      ],
      "metadata": {
        "id": "JCPWxfPS76aR",
        "outputId": "02d91f74-c37a-4f92-bc58-743ecc819781",
        "colab": {
          "base_uri": "https://localhost:8080/"
        }
      },
      "execution_count": 15,
      "outputs": [
        {
          "output_type": "stream",
          "name": "stdout",
          "text": [
            "[\n",
            "  {\n",
            "    \"if\": {\n",
            "      \"temperature_error\": \"extra_negative\",\n",
            "      \"humidity_error\": \"extra_positive\"\n",
            "    },\n",
            "    \"then\": {\n",
            "      \"heating_power\": 0.103,\n",
            "      \"cooling_power\": 0.906,\n",
            "      \"humidifier_power\": 0.103,\n",
            "      \"vent_airflow\": 0.1\n",
            "    },\n",
            "    \"samples\": 57\n",
            "  },\n",
            "  {\n",
            "    \"if\": {\n",
            "      \"temperature_error\": \"negative\",\n",
            "      \"humidity_error\": \"extra_positive\"\n",
            "    },\n",
            "    \"then\": {\n",
            "      \"heating_power\": 0.244,\n",
            "      \"cooling_power\": 0.784,\n",
            "      \"humidifier_power\": 0.244,\n",
            "      \"vent_airflow\": 0.1\n",
            "    },\n",
            "    \"samples\": 3\n",
            "  },\n",
            "  {\n",
            "    \"if\": {\n",
            "      \"temperature_error\": \"positive\",\n",
            "      \"humidity_error\": \"extra_positive\"\n",
            "    },\n",
            "    \"then\": {\n",
            "      \"heating_power\": 0.425,\n",
            "      \"cooling_power\": 0.578,\n",
            "      \"humidifier_power\": 0.425,\n",
            "      \"vent_airflow\": 0.1\n",
            "    },\n",
            "    \"samples\": 1\n",
            "  }\n",
            "]\n"
          ]
        }
      ]
    },
    {
      "cell_type": "code",
      "source": [
        "\n",
        "  IF temp_error is extremely_negative OR humid_error is extremely_positive THEN fan_speed is very_slow, compressor_voltage is very_high, heater_voltage is very_low, humidifier_moisture is very_light\n",
        "  IF temp_error is negative OR humid_error is extremely_positive THEN fan_speed is very_slow, compressor_voltage is high, heater_voltage is low, humidifier_moisture is light\n",
        "  IF temp_error is positive OR humid_error is extremely_positive THEN fan_speed is very_slow, compressor_voltage is medium, heater_voltage is medium, humidifier_moisture is medium\n"
      ],
      "metadata": {
        "id": "6CTq6Paa9k_P"
      },
      "execution_count": null,
      "outputs": []
    },
    {
      "cell_type": "code",
      "source": [
        "\n",
        "  IF temp_error is extremely_negative OR humid_error is extremely_negative THEN fan_speed is very_fast, compressor_voltage is very_high, heater_voltage is very_low, humidifier_moisture is very_light\n",
        "  IF temp_error is negative OR humid_error is negative THEN fan_speed is fast, compressor_voltage is high, heater_voltage is low, humidifier_moisture is light\n",
        "  IF temp_error is zero AND humid_error is zero THEN fan_speed is medium, compressor_voltage is medium, heater_voltage is medium, humidifier_moisture is medium\n",
        "  IF temp_error is positive OR humid_error is positive THEN fan_speed is slow, compressor_voltage is low, heater_voltage is high, humidifier_moisture is heavy\n",
        "  IF temp_error is extremely_positive OR humid_error is extremely_positive THEN fan_speed is very_slow, compressor_voltage is very_low, heater_voltage is very_high, humidifier_moisture is very_heavy\n"
      ],
      "metadata": {
        "id": "BRyLKvtt9lqG"
      },
      "execution_count": null,
      "outputs": []
    },
    {
      "cell_type": "markdown",
      "source": [
        "##July 20 7.50 PM"
      ],
      "metadata": {
        "id": "xmk-8uOuA-DV"
      }
    },
    {
      "cell_type": "code",
      "source": [
        "#install openai library\n",
        "\n",
        "!pip install --upgrade openai\n",
        "\n",
        "from openai import OpenAI\n",
        "from getpass import getpass\n",
        "\n",
        "#secure API key enter\n",
        "api_key = getpass(\"Enter your OpenAI API key: \")"
      ],
      "metadata": {
        "id": "NdUl2UwtApW5",
        "outputId": "efae9634-d5e8-4ba8-ff74-ce1d5ddf75a2",
        "colab": {
          "base_uri": "https://localhost:8080/"
        }
      },
      "execution_count": 27,
      "outputs": [
        {
          "name": "stdout",
          "output_type": "stream",
          "text": [
            "Requirement already satisfied: openai in /usr/local/lib/python3.11/dist-packages (1.96.1)\n",
            "Collecting openai\n",
            "  Downloading openai-1.97.0-py3-none-any.whl.metadata (29 kB)\n",
            "Requirement already satisfied: anyio<5,>=3.5.0 in /usr/local/lib/python3.11/dist-packages (from openai) (4.9.0)\n",
            "Requirement already satisfied: distro<2,>=1.7.0 in /usr/local/lib/python3.11/dist-packages (from openai) (1.9.0)\n",
            "Requirement already satisfied: httpx<1,>=0.23.0 in /usr/local/lib/python3.11/dist-packages (from openai) (0.28.1)\n",
            "Requirement already satisfied: jiter<1,>=0.4.0 in /usr/local/lib/python3.11/dist-packages (from openai) (0.10.0)\n",
            "Requirement already satisfied: pydantic<3,>=1.9.0 in /usr/local/lib/python3.11/dist-packages (from openai) (2.11.7)\n",
            "Requirement already satisfied: sniffio in /usr/local/lib/python3.11/dist-packages (from openai) (1.3.1)\n",
            "Requirement already satisfied: tqdm>4 in /usr/local/lib/python3.11/dist-packages (from openai) (4.67.1)\n",
            "Requirement already satisfied: typing-extensions<5,>=4.11 in /usr/local/lib/python3.11/dist-packages (from openai) (4.14.1)\n",
            "Requirement already satisfied: idna>=2.8 in /usr/local/lib/python3.11/dist-packages (from anyio<5,>=3.5.0->openai) (3.10)\n",
            "Requirement already satisfied: certifi in /usr/local/lib/python3.11/dist-packages (from httpx<1,>=0.23.0->openai) (2025.7.14)\n",
            "Requirement already satisfied: httpcore==1.* in /usr/local/lib/python3.11/dist-packages (from httpx<1,>=0.23.0->openai) (1.0.9)\n",
            "Requirement already satisfied: h11>=0.16 in /usr/local/lib/python3.11/dist-packages (from httpcore==1.*->httpx<1,>=0.23.0->openai) (0.16.0)\n",
            "Requirement already satisfied: annotated-types>=0.6.0 in /usr/local/lib/python3.11/dist-packages (from pydantic<3,>=1.9.0->openai) (0.7.0)\n",
            "Requirement already satisfied: pydantic-core==2.33.2 in /usr/local/lib/python3.11/dist-packages (from pydantic<3,>=1.9.0->openai) (2.33.2)\n",
            "Requirement already satisfied: typing-inspection>=0.4.0 in /usr/local/lib/python3.11/dist-packages (from pydantic<3,>=1.9.0->openai) (0.4.1)\n",
            "Downloading openai-1.97.0-py3-none-any.whl (764 kB)\n",
            "\u001b[2K   \u001b[90m━━━━━━━━━━━━━━━━━━━━━━━━━━━━━━━━━━━━━━━━\u001b[0m \u001b[32m765.0/765.0 kB\u001b[0m \u001b[31m16.9 MB/s\u001b[0m eta \u001b[36m0:00:00\u001b[0m\n",
            "\u001b[?25hInstalling collected packages: openai\n",
            "  Attempting uninstall: openai\n",
            "    Found existing installation: openai 1.96.1\n",
            "    Uninstalling openai-1.96.1:\n",
            "      Successfully uninstalled openai-1.96.1\n",
            "Successfully installed openai-1.97.0\n",
            "Enter your OpenAI API key: ··········\n"
          ]
        }
      ]
    },
    {
      "cell_type": "code",
      "source": [
        "from google.colab import files\n",
        "\n",
        "# Upload file manually\n",
        "uploaded = files.upload()  # Upload your CSV here\n"
      ],
      "metadata": {
        "id": "0M8i_lbX_6d3",
        "outputId": "ed94a46f-0843-4c7d-beaa-d7480985ac05",
        "colab": {
          "base_uri": "https://localhost:8080/",
          "height": 77
        }
      },
      "execution_count": 69,
      "outputs": [
        {
          "output_type": "display_data",
          "data": {
            "text/plain": [
              "<IPython.core.display.HTML object>"
            ],
            "text/html": [
              "\n",
              "     <input type=\"file\" id=\"files-87462619-460e-416a-a1dd-504ce027d50d\" name=\"files[]\" multiple disabled\n",
              "        style=\"border:none\" />\n",
              "     <output id=\"result-87462619-460e-416a-a1dd-504ce027d50d\">\n",
              "      Upload widget is only available when the cell has been executed in the\n",
              "      current browser session. Please rerun this cell to enable.\n",
              "      </output>\n",
              "      <script>// Copyright 2017 Google LLC\n",
              "//\n",
              "// Licensed under the Apache License, Version 2.0 (the \"License\");\n",
              "// you may not use this file except in compliance with the License.\n",
              "// You may obtain a copy of the License at\n",
              "//\n",
              "//      http://www.apache.org/licenses/LICENSE-2.0\n",
              "//\n",
              "// Unless required by applicable law or agreed to in writing, software\n",
              "// distributed under the License is distributed on an \"AS IS\" BASIS,\n",
              "// WITHOUT WARRANTIES OR CONDITIONS OF ANY KIND, either express or implied.\n",
              "// See the License for the specific language governing permissions and\n",
              "// limitations under the License.\n",
              "\n",
              "/**\n",
              " * @fileoverview Helpers for google.colab Python module.\n",
              " */\n",
              "(function(scope) {\n",
              "function span(text, styleAttributes = {}) {\n",
              "  const element = document.createElement('span');\n",
              "  element.textContent = text;\n",
              "  for (const key of Object.keys(styleAttributes)) {\n",
              "    element.style[key] = styleAttributes[key];\n",
              "  }\n",
              "  return element;\n",
              "}\n",
              "\n",
              "// Max number of bytes which will be uploaded at a time.\n",
              "const MAX_PAYLOAD_SIZE = 100 * 1024;\n",
              "\n",
              "function _uploadFiles(inputId, outputId) {\n",
              "  const steps = uploadFilesStep(inputId, outputId);\n",
              "  const outputElement = document.getElementById(outputId);\n",
              "  // Cache steps on the outputElement to make it available for the next call\n",
              "  // to uploadFilesContinue from Python.\n",
              "  outputElement.steps = steps;\n",
              "\n",
              "  return _uploadFilesContinue(outputId);\n",
              "}\n",
              "\n",
              "// This is roughly an async generator (not supported in the browser yet),\n",
              "// where there are multiple asynchronous steps and the Python side is going\n",
              "// to poll for completion of each step.\n",
              "// This uses a Promise to block the python side on completion of each step,\n",
              "// then passes the result of the previous step as the input to the next step.\n",
              "function _uploadFilesContinue(outputId) {\n",
              "  const outputElement = document.getElementById(outputId);\n",
              "  const steps = outputElement.steps;\n",
              "\n",
              "  const next = steps.next(outputElement.lastPromiseValue);\n",
              "  return Promise.resolve(next.value.promise).then((value) => {\n",
              "    // Cache the last promise value to make it available to the next\n",
              "    // step of the generator.\n",
              "    outputElement.lastPromiseValue = value;\n",
              "    return next.value.response;\n",
              "  });\n",
              "}\n",
              "\n",
              "/**\n",
              " * Generator function which is called between each async step of the upload\n",
              " * process.\n",
              " * @param {string} inputId Element ID of the input file picker element.\n",
              " * @param {string} outputId Element ID of the output display.\n",
              " * @return {!Iterable<!Object>} Iterable of next steps.\n",
              " */\n",
              "function* uploadFilesStep(inputId, outputId) {\n",
              "  const inputElement = document.getElementById(inputId);\n",
              "  inputElement.disabled = false;\n",
              "\n",
              "  const outputElement = document.getElementById(outputId);\n",
              "  outputElement.innerHTML = '';\n",
              "\n",
              "  const pickedPromise = new Promise((resolve) => {\n",
              "    inputElement.addEventListener('change', (e) => {\n",
              "      resolve(e.target.files);\n",
              "    });\n",
              "  });\n",
              "\n",
              "  const cancel = document.createElement('button');\n",
              "  inputElement.parentElement.appendChild(cancel);\n",
              "  cancel.textContent = 'Cancel upload';\n",
              "  const cancelPromise = new Promise((resolve) => {\n",
              "    cancel.onclick = () => {\n",
              "      resolve(null);\n",
              "    };\n",
              "  });\n",
              "\n",
              "  // Wait for the user to pick the files.\n",
              "  const files = yield {\n",
              "    promise: Promise.race([pickedPromise, cancelPromise]),\n",
              "    response: {\n",
              "      action: 'starting',\n",
              "    }\n",
              "  };\n",
              "\n",
              "  cancel.remove();\n",
              "\n",
              "  // Disable the input element since further picks are not allowed.\n",
              "  inputElement.disabled = true;\n",
              "\n",
              "  if (!files) {\n",
              "    return {\n",
              "      response: {\n",
              "        action: 'complete',\n",
              "      }\n",
              "    };\n",
              "  }\n",
              "\n",
              "  for (const file of files) {\n",
              "    const li = document.createElement('li');\n",
              "    li.append(span(file.name, {fontWeight: 'bold'}));\n",
              "    li.append(span(\n",
              "        `(${file.type || 'n/a'}) - ${file.size} bytes, ` +\n",
              "        `last modified: ${\n",
              "            file.lastModifiedDate ? file.lastModifiedDate.toLocaleDateString() :\n",
              "                                    'n/a'} - `));\n",
              "    const percent = span('0% done');\n",
              "    li.appendChild(percent);\n",
              "\n",
              "    outputElement.appendChild(li);\n",
              "\n",
              "    const fileDataPromise = new Promise((resolve) => {\n",
              "      const reader = new FileReader();\n",
              "      reader.onload = (e) => {\n",
              "        resolve(e.target.result);\n",
              "      };\n",
              "      reader.readAsArrayBuffer(file);\n",
              "    });\n",
              "    // Wait for the data to be ready.\n",
              "    let fileData = yield {\n",
              "      promise: fileDataPromise,\n",
              "      response: {\n",
              "        action: 'continue',\n",
              "      }\n",
              "    };\n",
              "\n",
              "    // Use a chunked sending to avoid message size limits. See b/62115660.\n",
              "    let position = 0;\n",
              "    do {\n",
              "      const length = Math.min(fileData.byteLength - position, MAX_PAYLOAD_SIZE);\n",
              "      const chunk = new Uint8Array(fileData, position, length);\n",
              "      position += length;\n",
              "\n",
              "      const base64 = btoa(String.fromCharCode.apply(null, chunk));\n",
              "      yield {\n",
              "        response: {\n",
              "          action: 'append',\n",
              "          file: file.name,\n",
              "          data: base64,\n",
              "        },\n",
              "      };\n",
              "\n",
              "      let percentDone = fileData.byteLength === 0 ?\n",
              "          100 :\n",
              "          Math.round((position / fileData.byteLength) * 100);\n",
              "      percent.textContent = `${percentDone}% done`;\n",
              "\n",
              "    } while (position < fileData.byteLength);\n",
              "  }\n",
              "\n",
              "  // All done.\n",
              "  yield {\n",
              "    response: {\n",
              "      action: 'complete',\n",
              "    }\n",
              "  };\n",
              "}\n",
              "\n",
              "scope.google = scope.google || {};\n",
              "scope.google.colab = scope.google.colab || {};\n",
              "scope.google.colab._files = {\n",
              "  _uploadFiles,\n",
              "  _uploadFilesContinue,\n",
              "};\n",
              "})(self);\n",
              "</script> "
            ]
          },
          "metadata": {}
        },
        {
          "output_type": "stream",
          "name": "stdout",
          "text": [
            "Saving 2025-07-20_14-16_Fuzzy_Control.csv to 2025-07-20_14-16_Fuzzy_Control.csv\n"
          ]
        }
      ]
    },
    {
      "cell_type": "code",
      "source": [
        "import pandas as pd\n",
        "\n",
        "# Suppose your CSV file is named 'data.csv'\n",
        "df = pd.read_csv('2025-07-20_14-16_Fuzzy_Control.csv')\n",
        "\n",
        "# Convert to string (e.g., CSV text)\n",
        "csv_text = df.to_csv(index=False)\n"
      ],
      "metadata": {
        "id": "Sl7ady1XAT5O"
      },
      "execution_count": 70,
      "outputs": []
    },
    {
      "cell_type": "code",
      "source": [
        "# STEP 5: Build the full prompt\n",
        "instructions = \"\"\"\n",
        "You are a fuzzy logic expert. Based on the CSV data provided below, generate 5 fuzzy IF-THEN rules in the format:\n",
        "\n",
        "IF <input1> is <MF> AND/OR <input2> is <MF> THEN fan_speed is <MF>, compressor_voltage is <MF>, heater_voltage is <MF>, humidifier_moisture is <MF>\n",
        "\n",
        "- Inputs:\n",
        "  - temp_error = [extremely_negative, negative, zero, positive, extremely_positive]\n",
        "  - humid_error = [extremely_negative, negative, zero, positive, extremely_positive]\n",
        "\n",
        "- Outputs:\n",
        "  - fan_speed = [very_slow, slow, medium, fast, very_fast]\n",
        "  - compressor_voltage = [very_low, low, medium, high, very_high]\n",
        "  - heater_voltage = [very_low, low, medium, high, very_high]\n",
        "  - humidifier_moisture = [very_light, light, medium, heavy, very_heavy]\n",
        "\n",
        "Rules MUST:\n",
        "- Use exactly 2 inputs (temp_error, humid_error) per rule\n",
        "- Use all 4 outputs in every rule\n",
        "- Use either AND or OR (decided based on CSV pattern)\n",
        "- Choose appropriate fuzzy terms (MFs) by analyzing patterns in the CSV data\n",
        "\n",
        "Avoid random choices — try to reflect real patterns (like if temp_error is highly positive and humid_error is highly negative, maybe heater_voltage should be low, humidifier high, etc.)\n",
        "\n",
        "Generate 5 such rules.\n",
        "\"\"\"\n",
        "\n",
        "prompt = f\"\"\"\n",
        "{instructions}\n",
        "\n",
        "Here is the CSV data:\n",
        "{csv_text}\n",
        "\"\"\""
      ],
      "metadata": {
        "id": "CbsimR6LDpVQ"
      },
      "execution_count": 71,
      "outputs": []
    },
    {
      "cell_type": "code",
      "source": [
        "# Initialize client\n",
        "client = OpenAI(api_key=api_key)"
      ],
      "metadata": {
        "id": "nmjvnL5GBFhu"
      },
      "execution_count": 72,
      "outputs": []
    },
    {
      "cell_type": "code",
      "source": [
        "# Get response from gpt\n",
        "\n",
        "response = client.chat.completions.create(\n",
        "    model=\"gpt-4o-mini\",\n",
        "    messages=[\n",
        "        {\"role\": \"system\", \"content\": \"You generate fuzzy logic rules based on data and user instruction.\"},\n",
        "        {\"role\": \"user\", \"content\": prompt}\n",
        "    ],\n",
        "    max_tokens=500,\n",
        "    temperature=0.7,\n",
        ")\n",
        "\n",
        "print(response.choices[0].message.content)"
      ],
      "metadata": {
        "id": "qlw2pW63BQY9",
        "outputId": "a86a939d-1958-46b1-8507-17f4a6626dea",
        "colab": {
          "base_uri": "https://localhost:8080/"
        }
      },
      "execution_count": 73,
      "outputs": [
        {
          "output_type": "stream",
          "name": "stdout",
          "text": [
            "Based on the provided CSV data and the specified fuzzy terms for inputs and outputs, here are five fuzzy IF-THEN rules:\n",
            "\n",
            "1. **Rule 1:**\n",
            "   IF temp_error is extremely_negative AND humid_error is negative THEN fan_speed is very_slow, compressor_voltage is very_low, heater_voltage is high, humidifier_moisture is medium\n",
            "\n",
            "2. **Rule 2:**\n",
            "   IF temp_error is positive AND humid_error is extremely_positive THEN fan_speed is fast, compressor_voltage is high, heater_voltage is very_low, humidifier_moisture is very_heavy\n",
            "\n",
            "3. **Rule 3:**\n",
            "   IF temp_error is zero AND humid_error is zero THEN fan_speed is medium, compressor_voltage is medium, heater_voltage is medium, humidifier_moisture is medium\n",
            "\n",
            "4. **Rule 4:**\n",
            "   IF temp_error is extremely_positive AND humid_error is negative THEN fan_speed is very_fast, compressor_voltage is very_high, heater_voltage is low, humidifier_moisture is very_light\n",
            "\n",
            "5. **Rule 5:**\n",
            "   IF temp_error is negative AND humid_error is positive THEN fan_speed is slow, compressor_voltage is low, heater_voltage is high, humidifier_moisture is light\n",
            "\n",
            "These rules are constructed by analyzing the relationships between the input and output variables in the context of the data provided, ensuring they reflect potential patterns observed in real scenarios.\n"
          ]
        }
      ]
    },
    {
      "cell_type": "code",
      "source": [
        "# Extract GPT raw output\n",
        "raw_output = response.choices[0].message.content\n",
        "\n",
        "# Clean up output to only show pure rules\n",
        "import re\n",
        "\n",
        "# Match lines starting with \"IF\" and continuing until the end of the line\n",
        "rules = re.findall(r'IF .*?(?=\\n|$)', raw_output)\n",
        "\n",
        "# Print cleaned rules\n",
        "for rule in rules:\n",
        "    print(rule.strip())\n"
      ],
      "metadata": {
        "id": "DFqGlTbCFVZa",
        "outputId": "cc6efc41-0a48-4ec9-9dbc-c5d2f56f0ca9",
        "colab": {
          "base_uri": "https://localhost:8080/"
        }
      },
      "execution_count": 74,
      "outputs": [
        {
          "output_type": "stream",
          "name": "stdout",
          "text": [
            "IF temp_error is extremely_negative AND humid_error is negative THEN fan_speed is very_slow, compressor_voltage is very_low, heater_voltage is high, humidifier_moisture is medium\n",
            "IF temp_error is positive AND humid_error is extremely_positive THEN fan_speed is fast, compressor_voltage is high, heater_voltage is very_low, humidifier_moisture is very_heavy\n",
            "IF temp_error is zero AND humid_error is zero THEN fan_speed is medium, compressor_voltage is medium, heater_voltage is medium, humidifier_moisture is medium\n",
            "IF temp_error is extremely_positive AND humid_error is negative THEN fan_speed is very_fast, compressor_voltage is very_high, heater_voltage is low, humidifier_moisture is very_light\n",
            "IF temp_error is negative AND humid_error is positive THEN fan_speed is slow, compressor_voltage is low, heater_voltage is high, humidifier_moisture is light\n"
          ]
        }
      ]
    },
    {
      "cell_type": "code",
      "source": [
        "query_prompt = f\"\"\"\n",
        "You are given the following CSV dataset:\n",
        "\n",
        "{csv_text}\n",
        "\n",
        "Based ONLY on this data, how many rows satisfy: RH_room > 0.6 AND T_room > 25\n",
        "\n",
        "Respond ONLY with the number.\n",
        "\"\"\"\n"
      ],
      "metadata": {
        "id": "W7P1xhzbHVxU"
      },
      "execution_count": 60,
      "outputs": []
    },
    {
      "cell_type": "code",
      "source": [
        "csv_check = df.head(10).to_csv(index=False)\n",
        "\n",
        "check_prompt = f\"\"\"This is a CSV table:\n",
        "\n",
        "{csv_check}\n",
        "\n",
        "Count how many rows have both: RH_room > 0.6 AND T_room > 25\n",
        "\n",
        "Just reply with the count number only.\n",
        "\"\"\""
      ],
      "metadata": {
        "id": "gnCVp-mnKKG3"
      },
      "execution_count": 57,
      "outputs": []
    },
    {
      "cell_type": "code",
      "source": [
        "# Get response from gpt\n",
        "\n",
        "response_check = client.chat.completions.create(\n",
        "    model=\"gpt-4o-mini\",\n",
        "    messages=[\n",
        "        {\"role\": \"system\", \"content\": \"You are a data analyst who only answers using the exact data provided.\"},\n",
        "        {\"role\": \"user\", \"content\": query_prompt}\n",
        "    ],\n",
        "    max_tokens=50,\n",
        "    temperature=0,\n",
        ")\n",
        "\n",
        "gpt_count = response_check.choices[0].message.content.strip()\n",
        "print(\"GPT's Answer:\", gpt_count)"
      ],
      "metadata": {
        "id": "NxN3utiZHY11",
        "outputId": "97e0271d-cebd-4e16-c960-b0e1074c7b42",
        "colab": {
          "base_uri": "https://localhost:8080/"
        }
      },
      "execution_count": 61,
      "outputs": [
        {
          "output_type": "stream",
          "name": "stdout",
          "text": [
            "GPT's Answer: 18\n"
          ]
        }
      ]
    },
    {
      "cell_type": "code",
      "source": [
        "true_count = df[(df['RH_room'] > 0.6) & (df['T_room'] > 25)].shape[0]\n",
        "print(\"Actual Count from Pandas:\", true_count)\n"
      ],
      "metadata": {
        "id": "cNiGZqT7H1Nv",
        "outputId": "3ba23de2-94ec-49fc-d98a-34a1a25dd923",
        "colab": {
          "base_uri": "https://localhost:8080/"
        }
      },
      "execution_count": 62,
      "outputs": [
        {
          "output_type": "stream",
          "name": "stdout",
          "text": [
            "Actual Count from Pandas: 59\n"
          ]
        }
      ]
    }
  ]
}