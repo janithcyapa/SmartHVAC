{
  "nbformat": 4,
  "nbformat_minor": 0,
  "metadata": {
    "colab": {
      "provenance": [],
      "gpuType": "T4",
      "include_colab_link": true
    },
    "kernelspec": {
      "name": "python3",
      "display_name": "Python 3"
    },
    "language_info": {
      "name": "python"
    },
    "accelerator": "GPU"
  },
  "cells": [
    {
      "cell_type": "markdown",
      "metadata": {
        "id": "view-in-github",
        "colab_type": "text"
      },
      "source": [
        "<a href=\"https://colab.research.google.com/github/janithcyapa/SmartHVAC/blob/main/SmartHVAC.ipynb\" target=\"_parent\"><img src=\"https://colab.research.google.com/assets/colab-badge.svg\" alt=\"Open In Colab\"/></a>"
      ]
    },
    {
      "cell_type": "markdown",
      "source": [
        "### Library\n",
        "https://scikit-fuzzy.github.io/scikit-fuzzy/"
      ],
      "metadata": {
        "id": "h83C3BiGdKhh"
      }
    },
    {
      "cell_type": "code",
      "execution_count": null,
      "metadata": {
        "id": "jOR_wYpXjbUB"
      },
      "outputs": [],
      "source": [
        "!pip install scikit-fuzzy"
      ]
    },
    {
      "cell_type": "code",
      "source": [
        "import numpy as np\n",
        "import matplotlib.pyplot as plt\n",
        "import skfuzzy as fuzz\n",
        "from skfuzzy import control as ctrl"
      ],
      "metadata": {
        "id": "T9e_GtkmeCUU"
      },
      "execution_count": null,
      "outputs": []
    },
    {
      "cell_type": "markdown",
      "source": [
        "# Simple HVAC"
      ],
      "metadata": {
        "id": "4-TdabZcdVaG"
      }
    },
    {
      "cell_type": "markdown",
      "source": [
        "> Antecedents (inputs)\n",
        "- Temperature: very cool, cool, moderate, high, very high (16 - 30 C)\n",
        "- Humidity : Low, Medium, High (0 - 100)\n",
        "\n",
        "> Consequents (outputs)\n",
        "- Compressor fan speed : 0 - 100 rpm\n",
        "- Cooler voltage out : 0 - 5 V\n",
        "- Heater voltage : 0 - 5 V\n",
        "\n",
        "> Rules\n",
        "\n",
        "- IF Temp (High) AND RH (High) : THEN Compressor Fan Speed is Very High (e.g., ~90 rpm)\n",
        "\n",
        "- IF Temp (Medium) AND RH (Low) : THEN Compressor Fan Speed is Medium (e.g., ~50 rpm)\n",
        "\n",
        "- IF Temp (Low) AND RH (Medium) : THEN Compressor Fan Speed is Low (e.g., ~30 rpm)"
      ],
      "metadata": {
        "id": "vzzdgENtdYgV"
      }
    },
    {
      "cell_type": "code",
      "source": [
        "#inputs\n",
        "\n",
        "temp = ctrl.Antecedent(np.arange(16,31,1),'temperature')\n",
        "humidity = ctrl.Antecedent(np.arange(0,101,1),'humidity')\n",
        "print(temp)\n",
        "print(humidity)\n",
        "print(temp.universe)\n",
        "print(humidity.universe)"
      ],
      "metadata": {
        "id": "vMl1KRrHdy9n"
      },
      "execution_count": null,
      "outputs": []
    },
    {
      "cell_type": "code",
      "source": [
        "#output\n",
        "\n",
        "f_speed = ctrl.Consequent(np.arange(0,101,1),'f_speed')\n",
        "c_volt = ctrl.Consequent(np.arange(0,6,1),'c_volt')\n",
        "h_volt = ctrl.Consequent(np.arange(0,6,1),'h_volt')\n",
        "print(f_speed)\n",
        "print(c_volt)\n",
        "print(h_volt)\n",
        "print(f_speed.universe)\n",
        "print(c_volt.universe)\n",
        "print(h_volt.universe)"
      ],
      "metadata": {
        "id": "74MtGjvfe8Vg"
      },
      "execution_count": null,
      "outputs": []
    },
    {
      "cell_type": "code",
      "source": [
        "#membership fn for inputs\n",
        "\n",
        "temp.automf(number=5,names=['very cool', 'cool', 'moderate', 'high', 'very high'])\n",
        "humidity.automf(number=3,names=['low', 'medium', 'high'])\n",
        "\n",
        "temp.view()\n",
        "humidity.view()"
      ],
      "metadata": {
        "id": "9szvIAezfCcG"
      },
      "execution_count": null,
      "outputs": []
    },
    {
      "cell_type": "code",
      "source": [
        "#custom output membership fns for f_speed\n",
        "\n",
        "f_speed['low']= fuzz.trimf(f_speed.universe,[0,0,50])\n",
        "f_speed['medium']= fuzz.trimf(f_speed.universe,[0,50,100])\n",
        "f_speed['high']= fuzz.trimf(f_speed.universe,[50,100,100])\n",
        "\n",
        "f_speed.view()\n",
        "\n",
        "#custom output membership fns for c_volt\n",
        "\n",
        "c_volt['low']= fuzz.trimf(c_volt.universe,[0,0,3])\n",
        "c_volt['medium']= fuzz.trimf(c_volt.universe,[0,3,5])\n",
        "c_volt['high']= fuzz.trimf(c_volt.universe,[3,5,5])\n",
        "\n",
        "c_volt.view()\n",
        "\n",
        "#custom output membership fns for h_volt\n",
        "\n",
        "h_volt['low']= fuzz.trimf(h_volt.universe,[0,0,3])\n",
        "h_volt['medium']= fuzz.trimf(h_volt.universe,[0,3,5])\n",
        "h_volt['high']= fuzz.trimf(h_volt.universe,[3,5,5])\n",
        "\n",
        "h_volt.view()\n"
      ],
      "metadata": {
        "id": "wDyek2wUf-eE"
      },
      "execution_count": null,
      "outputs": []
    },
    {
      "cell_type": "code",
      "source": [
        "#rules for fuzzy logic\n",
        "\n",
        "\n",
        "# Rule 1\n",
        "rule1a = ctrl.Rule(temp['very high'] | humidity['high'], f_speed['high'])\n",
        "rule1b = ctrl.Rule(temp['very high'] | humidity['high'], c_volt['high'])\n",
        "rule1c = ctrl.Rule(temp['very high'] | humidity['high'], h_volt['high'])\n",
        "\n",
        "# Rule 2\n",
        "rule2a = ctrl.Rule(temp['high'] | humidity['medium'], f_speed['medium'])\n",
        "rule2b = ctrl.Rule(temp['high'] | humidity['medium'], c_volt['medium'])\n",
        "rule2c = ctrl.Rule(temp['high'] | humidity['medium'], h_volt['medium'])\n",
        "\n",
        "# Rule 3\n",
        "rule3a = ctrl.Rule(temp['moderate'] | humidity['low'], f_speed['low'])\n",
        "rule3b = ctrl.Rule(temp['moderate'] | humidity['low'], c_volt['low'])\n",
        "rule3c = ctrl.Rule(temp['moderate'] | humidity['low'], h_volt['low'])\n",
        "\n",
        "# Rule 4\n",
        "rule4a = ctrl.Rule(temp['cool'] | humidity['low'], f_speed['low'])\n",
        "rule4b = ctrl.Rule(temp['cool'] | humidity['low'], c_volt['low'])\n",
        "rule4c = ctrl.Rule(temp['cool'] | humidity['low'], h_volt['low'])\n",
        "\n",
        "# Rule 5\n",
        "rule5a = ctrl.Rule(temp['very cool'] | humidity['low'], f_speed['low'])\n",
        "rule5b = ctrl.Rule(temp['very cool'] | humidity['low'], c_volt['low'])\n",
        "rule5c = ctrl.Rule(temp['very cool'] | humidity['low'], h_volt['low'])\n"
      ],
      "metadata": {
        "id": "0eNgW0IDgkyz"
      },
      "execution_count": null,
      "outputs": []
    },
    {
      "cell_type": "code",
      "source": [
        "#build control system\n",
        "control_system = ctrl.ControlSystem([\n",
        "    rule1a, rule1b, rule1c,\n",
        "    rule2a, rule2b, rule2c,\n",
        "    rule3a, rule3b, rule3c,\n",
        "    rule4a, rule4b, rule4c,\n",
        "    rule5a, rule5b, rule5c\n",
        "])\n"
      ],
      "metadata": {
        "id": "ub3xzyCyhA3c"
      },
      "execution_count": null,
      "outputs": []
    },
    {
      "cell_type": "code",
      "source": [
        "#build fuzzy system\n",
        "\n",
        "fuzzy_system = ctrl.ControlSystemSimulation(control_system)\n",
        "fuzzy_system\n"
      ],
      "metadata": {
        "id": "QxuKcGfuhYGq"
      },
      "execution_count": null,
      "outputs": []
    },
    {
      "cell_type": "code",
      "source": [
        "#testing demo values\n",
        "\n",
        "fuzzy_system.input['temperature'] = 25\n",
        "fuzzy_system.input['humidity'] = 50\n",
        "\n",
        "fuzzy_system.compute()\n",
        "\n",
        "print(\"Fan Speed:\", fuzzy_system.output['f_speed'])\n",
        "print(\"Compressor Voltage:\", fuzzy_system.output['c_volt'])\n",
        "print(\"Heater Voltage:\", fuzzy_system.output['h_volt'])\n",
        "\n",
        "f_speed.view(sim = fuzzy_system)\n",
        "c_volt.view(sim = fuzzy_system)\n",
        "h_volt.view(sim = fuzzy_system)\n"
      ],
      "metadata": {
        "id": "Xi5LMUaBhq88"
      },
      "execution_count": null,
      "outputs": []
    },
    {
      "cell_type": "markdown",
      "source": [
        "# Connect LlaMA"
      ],
      "metadata": {
        "id": "V20lRvNe28G1"
      }
    },
    {
      "cell_type": "code",
      "source": [
        "!pip install transformers accelerate bitsandbytes\n"
      ],
      "metadata": {
        "id": "lVNBzyFfHjNi"
      },
      "execution_count": null,
      "outputs": []
    },
    {
      "cell_type": "code",
      "source": [
        "!pip install -U bitsandbytes accelerate transformers\n"
      ],
      "metadata": {
        "id": "VQRidGtmShLz"
      },
      "execution_count": null,
      "outputs": []
    },
    {
      "cell_type": "code",
      "source": [
        "from transformers import AutoTokenizer, AutoModelForCausalLM, BitsAndBytesConfig\n",
        "import torch\n",
        "\n",
        "model_name = \"TinyLlama/TinyLlama-1.1B-Chat-v1.0\"\n",
        "\n",
        "# Load tokenizer\n",
        "tokenizer = AutoTokenizer.from_pretrained(model_name)\n",
        "\n",
        "# Define quantization config for 8-bit loading\n",
        "quant_config = BitsAndBytesConfig(load_in_8bit=True)\n",
        "\n",
        "# Load model with quantization and automatic device placement\n",
        "model = AutoModelForCausalLM.from_pretrained(\n",
        "    model_name,\n",
        "    quantization_config=quant_config,\n",
        "    device_map=\"auto\"\n",
        ")\n",
        "\n"
      ],
      "metadata": {
        "id": "mHQWSTHMHui8"
      },
      "execution_count": null,
      "outputs": []
    },
    {
      "cell_type": "code",
      "source": [
        "prompt = \"Generate fuzzy logic rules for HVAC system where temperature and humidity inputs control fan speed and voltage outputs.\"\n",
        "\n",
        "inputs = tokenizer(prompt, return_tensors=\"pt\").to(model.device)\n",
        "\n",
        "outputs = model.generate(**inputs, max_new_tokens=150)\n",
        "\n",
        "print(tokenizer.decode(outputs[0], skip_special_tokens=True))\n"
      ],
      "metadata": {
        "id": "wsZrs6cMIP4Z"
      },
      "execution_count": null,
      "outputs": []
    },
    {
      "cell_type": "code",
      "source": [
        "from transformers import pipeline\n",
        "\n",
        "model_name = \"TinyLlama/TinyLlama-1.1B-Chat-v1.0\"\n",
        "generator = pipeline(\"text-generation\", model=model_name, device=0)\n",
        "\n",
        "prompt = \"\"\"\n",
        "You are an expert in control systems. Generate fuzzy logic control rules.\n",
        "\n",
        "Inputs:\n",
        "- Temperature: very cool, cool, moderate, high, very high\n",
        "- Humidity: low, medium, high\n",
        "\n",
        "Outputs:\n",
        "- Fan Speed: low, medium, high\n",
        "- Compressor Voltage: low, medium, high\n",
        "- Heater Voltage: low, medium, high\n",
        "\n",
        "Rules must follow this format excatly, only channge the [level] appropriately:\n",
        "IF temperature is [level] AND/OR humidity is [level] THEN fan_speed is [level], compressor_voltage is [level], heater_voltage is [level]\n",
        "\n",
        "Generate 5 rules:\n",
        "\"\"\"\n",
        "\n",
        "response = generator(prompt, max_new_tokens=300, do_sample=True, temperature=0.7)[0]['generated_text']\n",
        "print(response)\n"
      ],
      "metadata": {
        "id": "K3r5IUGtImtT"
      },
      "execution_count": null,
      "outputs": []
    }
  ]
}