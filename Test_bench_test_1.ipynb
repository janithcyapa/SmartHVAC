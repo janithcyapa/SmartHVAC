{
  "nbformat": 4,
  "nbformat_minor": 0,
  "metadata": {
    "colab": {
      "provenance": [],
      "authorship_tag": "ABX9TyN91wtvH/7ATTZ2L1zGbT0m"
    },
    "kernelspec": {
      "name": "python3",
      "display_name": "Python 3"
    },
    "language_info": {
      "name": "python"
    }
  },
  "cells": [
    {
      "cell_type": "markdown",
      "source": [
        "# Smart HVAC"
      ],
      "metadata": {
        "id": "6i3U7YIrZg0w"
      }
    }
  ]
}