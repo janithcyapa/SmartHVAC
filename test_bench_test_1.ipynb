{
  "nbformat": 4,
  "nbformat_minor": 0,
  "metadata": {
    "colab": {
      "provenance": [],
      "authorship_tag": "ABX9TyNyBbLT/KokBWarTQ0IaQo1",
      "include_colab_link": true
    },
    "kernelspec": {
      "name": "python3",
      "display_name": "Python 3"
    },
    "language_info": {
      "name": "python"
    }
  },
  "cells": [
    {
      "cell_type": "markdown",
      "metadata": {
        "id": "view-in-github",
        "colab_type": "text"
      },
      "source": [
        "<a href=\"https://colab.research.google.com/github/janithcyapa/SmartHVAC/blob/main/test_bench_test_1.ipynb\" target=\"_parent\"><img src=\"https://colab.research.google.com/assets/colab-badge.svg\" alt=\"Open In Colab\"/></a>"
      ]
    },
    {
      "cell_type": "markdown",
      "source": [
        "# Smart HVAC Calculations and Test Bench"
      ],
      "metadata": {
        "id": "6i3U7YIrZg0w"
      }
    },
    {
      "cell_type": "markdown",
      "source": [
        "##Importent calculations"
      ],
      "metadata": {
        "id": "lh3e-XCIvplC"
      }
    },
    {
      "cell_type": "markdown",
      "source": [
        "###Parameter\n"
      ],
      "metadata": {
        "id": "WsbbS_Y4vxBU"
      }
    },
    {
      "cell_type": "markdown",
      "source": [
        "\\begin{align*}\n",
        "T_{db} &= Dry bulb Temperature \\\\\n",
        "T_{wb} &= Wet bulb temperature  \\\\\n",
        "T_d &= Dew point temperature \\\\\n",
        "RH &= Relative humidity \\\\\n",
        "AH &= Absolute humidity \\\\\n",
        "Q_{sensible} &= Sensible heat   \\\\\n",
        "Q_{latent} &= Latent heat \\\\\n",
        "h &=  Enthalpy \\\\\n",
        "P &= Pressure \\\\\n",
        "\\end{align*}\n"
      ],
      "metadata": {
        "id": "rl-2-lT7v4Ep"
      }
    },
    {
      "cell_type": "markdown",
      "source": [
        "###Importent formulas"
      ],
      "metadata": {
        "id": "WnpOI7R7x9uM"
      }
    },
    {
      "cell_type": "markdown",
      "source": [
        "###<b><u>Sensible heat</b><U>\n",
        "\n",
        "\\begin{align*}\n",
        "Q_{sensible} &=  mc_{p}(T_o - T_i)\\\\\n",
        "\\\\\n",
        "m &= \\text{mass flow rate} \\\\\n",
        "c_p &= \\text{Specific heat of  air} \\\\\n",
        "\\\\\n",
        "\\end{align*}\n",
        "\n",
        "\\begin{align*}\n",
        "Q_{sensible} &= 1.08 *CFM*(T_o - T_i)\\\\\n",
        "\\\\\n",
        "CFM &= \\text{air circulation flow}\n",
        "\\end{align*}\n",
        "\n",
        "###<b><u>Latent heat</b><U>\n",
        "\n",
        "\\begin{align*}\n",
        "Q_{latent} &=  mh_{fg}(w_o - w_i)\\\\\n",
        "\\\\\n",
        "m &= \\text{mass flow rate} \\\\\n",
        "h_{fg} &= \\text{Latent heat} \\\\\n",
        "w_o,w_i &= \\text{moisture content}\\\\\n",
        "\\\\\n",
        "\\end{align*}\n",
        "\n",
        "\\begin{align*}\n",
        "Q_{sensible} &= 4840CFM(w_o - w_i)\\\\\n",
        "\\\\\n",
        "CFM &= \\text{air circulation flow}\n",
        "\\end{align*}"
      ],
      "metadata": {
        "id": "RudWRccxyNKd"
      }
    },
    {
      "cell_type": "markdown",
      "source": [
        "###<b><u>Relative humidity</b></U>\n",
        "\n",
        "\\begin{align*}\n",
        "Φ = \\frac{ \\text{mass of water vapor}}{ \\text{max. water vapor can hold}} \\\\\n",
        "\\\\\n",
        "Φ = \\frac{ m_v}{m_g}\\\\\n",
        "Φ = \\frac{ P_v}{P_g}\n",
        "\\end{align*}\n",
        "\n",
        "\n",
        "###<b><u>Absolute humidity</b></U>\n",
        "\n",
        "\\begin{align*}\n",
        "ω &= \\frac{ \\text{mass of water vapor}}{ \\text{mass of dry air}} \\\\\n",
        "\\\\\n",
        "ω &= \\frac{0,622ΦP_g}{P - ΦP_g}\n",
        "\\end{align*}\n"
      ],
      "metadata": {
        "id": "nE2SXgWE1pc7"
      }
    },
    {
      "cell_type": "markdown",
      "source": [],
      "metadata": {
        "id": "23JpdmyOCE9B"
      }
    }
  ]
}